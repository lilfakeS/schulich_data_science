{
 "cells": [
  {
   "cell_type": "code",
   "execution_count": 3,
   "metadata": {},
   "outputs": [],
   "source": [
    "import pandas as pd\n",
    "import seaborn as sns\n",
    "import numpy as np"
   ]
  },
  {
   "cell_type": "code",
   "execution_count": 4,
   "metadata": {},
   "outputs": [],
   "source": [
    "df= pd.read_csv ('/Users/justinsheng/Library/CloudStorage/OneDrive-UniversityofToronto/Justin/Schulich_2023-2024/MBAN6110/new_data.csv')"
   ]
  },
  {
   "cell_type": "code",
   "execution_count": 5,
   "metadata": {},
   "outputs": [
    {
     "data": {
      "text/plain": [
       "<bound method NDFrame.describe of          Unnamed: 0               event_time event_type  product_id   \n",
       "0                 0  2019-11-01 00:00:00 UTC       view     1003461  \\\n",
       "1                 1  2019-11-01 00:00:00 UTC       view     5000088   \n",
       "2                 2  2019-11-01 00:00:01 UTC       view    17302664   \n",
       "3                 3  2019-11-01 00:00:01 UTC       view     3601530   \n",
       "4                 4  2019-11-01 00:00:01 UTC       view     1004775   \n",
       "...             ...                      ...        ...         ...   \n",
       "9999995     9999995  2019-11-07 05:08:21 UTC       view     1005115   \n",
       "9999996     9999996  2019-11-07 05:08:21 UTC       view    12707281   \n",
       "9999997     9999997  2019-11-07 05:08:21 UTC       view     3601405   \n",
       "9999998     9999998  2019-11-07 05:08:21 UTC       view    12711053   \n",
       "9999999     9999999  2019-11-07 05:08:21 UTC       cart     1005121   \n",
       "\n",
       "                 category_id              category_code     brand   price   \n",
       "0        2053013555631882655     electronics.smartphone    xiaomi  489.07  \\\n",
       "1        2053013566100866035  appliances.sewing_machine    janome  293.65   \n",
       "2        2053013553853497655                        NaN     creed   28.31   \n",
       "3        2053013563810775923  appliances.kitchen.washer        lg  712.87   \n",
       "4        2053013555631882655     electronics.smartphone    xiaomi  183.27   \n",
       "...                      ...                        ...       ...     ...   \n",
       "9999995  2053013555631882655     electronics.smartphone     apple  915.69   \n",
       "9999996  2053013553559896355                        NaN  gislaved   90.86   \n",
       "9999997  2053013563810775923  appliances.kitchen.washer      beko  180.16   \n",
       "9999998  2053013553559896355                        NaN     tunga   32.69   \n",
       "9999999  2053013555631882655     electronics.smartphone     apple  947.98   \n",
       "\n",
       "           user_id                          user_session  \n",
       "0        520088904  4d3b30da-a5e4-49df-b1a8-ba5943f1dd33  \n",
       "1        530496790  8e5f4f83-366c-4f70-860e-ca7417414283  \n",
       "2        561587266  755422e7-9040-477b-9bd2-6a6e8fd97387  \n",
       "3        518085591  3bfb58cd-7892-48cc-8020-2f17e6de6e7f  \n",
       "4        558856683  313628f1-68b8-460d-84f6-cec7a8796ef2  \n",
       "...            ...                                   ...  \n",
       "9999995  517800555  c6b764e0-561c-4c17-a546-2e922196bb49  \n",
       "9999996  539095445  b1673b33-d0ff-4a09-bf57-56dedc3d016e  \n",
       "9999997  548916637  e020a307-551c-4e58-a787-126701d30d41  \n",
       "9999998  521586999  c8c48941-2ca1-4ce4-8d44-c96eb5df4fb5  \n",
       "9999999  563025983  9b19a94a-78b9-4ff8-8334-f48eed7cc0a0  \n",
       "\n",
       "[10000000 rows x 10 columns]>"
      ]
     },
     "execution_count": 5,
     "metadata": {},
     "output_type": "execute_result"
    }
   ],
   "source": [
    "df.describe"
   ]
  },
  {
   "cell_type": "code",
   "execution_count": 6,
   "metadata": {},
   "outputs": [
    {
     "data": {
      "text/html": [
       "<div>\n",
       "<style scoped>\n",
       "    .dataframe tbody tr th:only-of-type {\n",
       "        vertical-align: middle;\n",
       "    }\n",
       "\n",
       "    .dataframe tbody tr th {\n",
       "        vertical-align: top;\n",
       "    }\n",
       "\n",
       "    .dataframe thead th {\n",
       "        text-align: right;\n",
       "    }\n",
       "</style>\n",
       "<table border=\"1\" class=\"dataframe\">\n",
       "  <thead>\n",
       "    <tr style=\"text-align: right;\">\n",
       "      <th></th>\n",
       "      <th>Unnamed: 0</th>\n",
       "      <th>event_time</th>\n",
       "      <th>event_type</th>\n",
       "      <th>product_id</th>\n",
       "      <th>category_id</th>\n",
       "      <th>category_code</th>\n",
       "      <th>brand</th>\n",
       "      <th>price</th>\n",
       "      <th>user_id</th>\n",
       "      <th>user_session</th>\n",
       "    </tr>\n",
       "  </thead>\n",
       "  <tbody>\n",
       "    <tr>\n",
       "      <th>0</th>\n",
       "      <td>0</td>\n",
       "      <td>2019-11-01 00:00:00 UTC</td>\n",
       "      <td>view</td>\n",
       "      <td>1003461</td>\n",
       "      <td>2053013555631882655</td>\n",
       "      <td>electronics.smartphone</td>\n",
       "      <td>xiaomi</td>\n",
       "      <td>489.07</td>\n",
       "      <td>520088904</td>\n",
       "      <td>4d3b30da-a5e4-49df-b1a8-ba5943f1dd33</td>\n",
       "    </tr>\n",
       "    <tr>\n",
       "      <th>1</th>\n",
       "      <td>1</td>\n",
       "      <td>2019-11-01 00:00:00 UTC</td>\n",
       "      <td>view</td>\n",
       "      <td>5000088</td>\n",
       "      <td>2053013566100866035</td>\n",
       "      <td>appliances.sewing_machine</td>\n",
       "      <td>janome</td>\n",
       "      <td>293.65</td>\n",
       "      <td>530496790</td>\n",
       "      <td>8e5f4f83-366c-4f70-860e-ca7417414283</td>\n",
       "    </tr>\n",
       "    <tr>\n",
       "      <th>2</th>\n",
       "      <td>2</td>\n",
       "      <td>2019-11-01 00:00:01 UTC</td>\n",
       "      <td>view</td>\n",
       "      <td>17302664</td>\n",
       "      <td>2053013553853497655</td>\n",
       "      <td>NaN</td>\n",
       "      <td>creed</td>\n",
       "      <td>28.31</td>\n",
       "      <td>561587266</td>\n",
       "      <td>755422e7-9040-477b-9bd2-6a6e8fd97387</td>\n",
       "    </tr>\n",
       "    <tr>\n",
       "      <th>3</th>\n",
       "      <td>3</td>\n",
       "      <td>2019-11-01 00:00:01 UTC</td>\n",
       "      <td>view</td>\n",
       "      <td>3601530</td>\n",
       "      <td>2053013563810775923</td>\n",
       "      <td>appliances.kitchen.washer</td>\n",
       "      <td>lg</td>\n",
       "      <td>712.87</td>\n",
       "      <td>518085591</td>\n",
       "      <td>3bfb58cd-7892-48cc-8020-2f17e6de6e7f</td>\n",
       "    </tr>\n",
       "    <tr>\n",
       "      <th>4</th>\n",
       "      <td>4</td>\n",
       "      <td>2019-11-01 00:00:01 UTC</td>\n",
       "      <td>view</td>\n",
       "      <td>1004775</td>\n",
       "      <td>2053013555631882655</td>\n",
       "      <td>electronics.smartphone</td>\n",
       "      <td>xiaomi</td>\n",
       "      <td>183.27</td>\n",
       "      <td>558856683</td>\n",
       "      <td>313628f1-68b8-460d-84f6-cec7a8796ef2</td>\n",
       "    </tr>\n",
       "    <tr>\n",
       "      <th>...</th>\n",
       "      <td>...</td>\n",
       "      <td>...</td>\n",
       "      <td>...</td>\n",
       "      <td>...</td>\n",
       "      <td>...</td>\n",
       "      <td>...</td>\n",
       "      <td>...</td>\n",
       "      <td>...</td>\n",
       "      <td>...</td>\n",
       "      <td>...</td>\n",
       "    </tr>\n",
       "    <tr>\n",
       "      <th>9999995</th>\n",
       "      <td>9999995</td>\n",
       "      <td>2019-11-07 05:08:21 UTC</td>\n",
       "      <td>view</td>\n",
       "      <td>1005115</td>\n",
       "      <td>2053013555631882655</td>\n",
       "      <td>electronics.smartphone</td>\n",
       "      <td>apple</td>\n",
       "      <td>915.69</td>\n",
       "      <td>517800555</td>\n",
       "      <td>c6b764e0-561c-4c17-a546-2e922196bb49</td>\n",
       "    </tr>\n",
       "    <tr>\n",
       "      <th>9999996</th>\n",
       "      <td>9999996</td>\n",
       "      <td>2019-11-07 05:08:21 UTC</td>\n",
       "      <td>view</td>\n",
       "      <td>12707281</td>\n",
       "      <td>2053013553559896355</td>\n",
       "      <td>NaN</td>\n",
       "      <td>gislaved</td>\n",
       "      <td>90.86</td>\n",
       "      <td>539095445</td>\n",
       "      <td>b1673b33-d0ff-4a09-bf57-56dedc3d016e</td>\n",
       "    </tr>\n",
       "    <tr>\n",
       "      <th>9999997</th>\n",
       "      <td>9999997</td>\n",
       "      <td>2019-11-07 05:08:21 UTC</td>\n",
       "      <td>view</td>\n",
       "      <td>3601405</td>\n",
       "      <td>2053013563810775923</td>\n",
       "      <td>appliances.kitchen.washer</td>\n",
       "      <td>beko</td>\n",
       "      <td>180.16</td>\n",
       "      <td>548916637</td>\n",
       "      <td>e020a307-551c-4e58-a787-126701d30d41</td>\n",
       "    </tr>\n",
       "    <tr>\n",
       "      <th>9999998</th>\n",
       "      <td>9999998</td>\n",
       "      <td>2019-11-07 05:08:21 UTC</td>\n",
       "      <td>view</td>\n",
       "      <td>12711053</td>\n",
       "      <td>2053013553559896355</td>\n",
       "      <td>NaN</td>\n",
       "      <td>tunga</td>\n",
       "      <td>32.69</td>\n",
       "      <td>521586999</td>\n",
       "      <td>c8c48941-2ca1-4ce4-8d44-c96eb5df4fb5</td>\n",
       "    </tr>\n",
       "    <tr>\n",
       "      <th>9999999</th>\n",
       "      <td>9999999</td>\n",
       "      <td>2019-11-07 05:08:21 UTC</td>\n",
       "      <td>cart</td>\n",
       "      <td>1005121</td>\n",
       "      <td>2053013555631882655</td>\n",
       "      <td>electronics.smartphone</td>\n",
       "      <td>apple</td>\n",
       "      <td>947.98</td>\n",
       "      <td>563025983</td>\n",
       "      <td>9b19a94a-78b9-4ff8-8334-f48eed7cc0a0</td>\n",
       "    </tr>\n",
       "  </tbody>\n",
       "</table>\n",
       "<p>10000000 rows × 10 columns</p>\n",
       "</div>"
      ],
      "text/plain": [
       "         Unnamed: 0               event_time event_type  product_id   \n",
       "0                 0  2019-11-01 00:00:00 UTC       view     1003461  \\\n",
       "1                 1  2019-11-01 00:00:00 UTC       view     5000088   \n",
       "2                 2  2019-11-01 00:00:01 UTC       view    17302664   \n",
       "3                 3  2019-11-01 00:00:01 UTC       view     3601530   \n",
       "4                 4  2019-11-01 00:00:01 UTC       view     1004775   \n",
       "...             ...                      ...        ...         ...   \n",
       "9999995     9999995  2019-11-07 05:08:21 UTC       view     1005115   \n",
       "9999996     9999996  2019-11-07 05:08:21 UTC       view    12707281   \n",
       "9999997     9999997  2019-11-07 05:08:21 UTC       view     3601405   \n",
       "9999998     9999998  2019-11-07 05:08:21 UTC       view    12711053   \n",
       "9999999     9999999  2019-11-07 05:08:21 UTC       cart     1005121   \n",
       "\n",
       "                 category_id              category_code     brand   price   \n",
       "0        2053013555631882655     electronics.smartphone    xiaomi  489.07  \\\n",
       "1        2053013566100866035  appliances.sewing_machine    janome  293.65   \n",
       "2        2053013553853497655                        NaN     creed   28.31   \n",
       "3        2053013563810775923  appliances.kitchen.washer        lg  712.87   \n",
       "4        2053013555631882655     electronics.smartphone    xiaomi  183.27   \n",
       "...                      ...                        ...       ...     ...   \n",
       "9999995  2053013555631882655     electronics.smartphone     apple  915.69   \n",
       "9999996  2053013553559896355                        NaN  gislaved   90.86   \n",
       "9999997  2053013563810775923  appliances.kitchen.washer      beko  180.16   \n",
       "9999998  2053013553559896355                        NaN     tunga   32.69   \n",
       "9999999  2053013555631882655     electronics.smartphone     apple  947.98   \n",
       "\n",
       "           user_id                          user_session  \n",
       "0        520088904  4d3b30da-a5e4-49df-b1a8-ba5943f1dd33  \n",
       "1        530496790  8e5f4f83-366c-4f70-860e-ca7417414283  \n",
       "2        561587266  755422e7-9040-477b-9bd2-6a6e8fd97387  \n",
       "3        518085591  3bfb58cd-7892-48cc-8020-2f17e6de6e7f  \n",
       "4        558856683  313628f1-68b8-460d-84f6-cec7a8796ef2  \n",
       "...            ...                                   ...  \n",
       "9999995  517800555  c6b764e0-561c-4c17-a546-2e922196bb49  \n",
       "9999996  539095445  b1673b33-d0ff-4a09-bf57-56dedc3d016e  \n",
       "9999997  548916637  e020a307-551c-4e58-a787-126701d30d41  \n",
       "9999998  521586999  c8c48941-2ca1-4ce4-8d44-c96eb5df4fb5  \n",
       "9999999  563025983  9b19a94a-78b9-4ff8-8334-f48eed7cc0a0  \n",
       "\n",
       "[10000000 rows x 10 columns]"
      ]
     },
     "execution_count": 6,
     "metadata": {},
     "output_type": "execute_result"
    }
   ],
   "source": [
    "df"
   ]
  },
  {
   "cell_type": "code",
   "execution_count": 7,
   "metadata": {},
   "outputs": [
    {
     "data": {
      "text/html": [
       "<div>\n",
       "<style scoped>\n",
       "    .dataframe tbody tr th:only-of-type {\n",
       "        vertical-align: middle;\n",
       "    }\n",
       "\n",
       "    .dataframe tbody tr th {\n",
       "        vertical-align: top;\n",
       "    }\n",
       "\n",
       "    .dataframe thead th {\n",
       "        text-align: right;\n",
       "    }\n",
       "</style>\n",
       "<table border=\"1\" class=\"dataframe\">\n",
       "  <thead>\n",
       "    <tr style=\"text-align: right;\">\n",
       "      <th></th>\n",
       "      <th>Unnamed: 0</th>\n",
       "      <th>event_time</th>\n",
       "      <th>event_type</th>\n",
       "      <th>product_id</th>\n",
       "      <th>category_id</th>\n",
       "      <th>category_code</th>\n",
       "      <th>brand</th>\n",
       "      <th>price</th>\n",
       "      <th>user_id</th>\n",
       "      <th>user_session</th>\n",
       "    </tr>\n",
       "  </thead>\n",
       "  <tbody>\n",
       "    <tr>\n",
       "      <th>count</th>\n",
       "      <td>1.000000e+07</td>\n",
       "      <td>10000000</td>\n",
       "      <td>10000000</td>\n",
       "      <td>1.000000e+07</td>\n",
       "      <td>1.000000e+07</td>\n",
       "      <td>6697210</td>\n",
       "      <td>8589537</td>\n",
       "      <td>1.000000e+07</td>\n",
       "      <td>1.000000e+07</td>\n",
       "      <td>10000000</td>\n",
       "    </tr>\n",
       "    <tr>\n",
       "      <th>unique</th>\n",
       "      <td>NaN</td>\n",
       "      <td>523423</td>\n",
       "      <td>3</td>\n",
       "      <td>NaN</td>\n",
       "      <td>NaN</td>\n",
       "      <td>126</td>\n",
       "      <td>3373</td>\n",
       "      <td>NaN</td>\n",
       "      <td>NaN</td>\n",
       "      <td>2190461</td>\n",
       "    </tr>\n",
       "    <tr>\n",
       "      <th>top</th>\n",
       "      <td>NaN</td>\n",
       "      <td>2019-11-05 17:23:19 UTC</td>\n",
       "      <td>view</td>\n",
       "      <td>NaN</td>\n",
       "      <td>NaN</td>\n",
       "      <td>electronics.smartphone</td>\n",
       "      <td>samsung</td>\n",
       "      <td>NaN</td>\n",
       "      <td>NaN</td>\n",
       "      <td>4488e77a-9901-4c4b-b162-47a224ceab51</td>\n",
       "    </tr>\n",
       "    <tr>\n",
       "      <th>freq</th>\n",
       "      <td>NaN</td>\n",
       "      <td>113</td>\n",
       "      <td>9731128</td>\n",
       "      <td>NaN</td>\n",
       "      <td>NaN</td>\n",
       "      <td>2543371</td>\n",
       "      <td>1158050</td>\n",
       "      <td>NaN</td>\n",
       "      <td>NaN</td>\n",
       "      <td>504</td>\n",
       "    </tr>\n",
       "    <tr>\n",
       "      <th>mean</th>\n",
       "      <td>5.000000e+06</td>\n",
       "      <td>NaN</td>\n",
       "      <td>NaN</td>\n",
       "      <td>1.100008e+07</td>\n",
       "      <td>2.057828e+18</td>\n",
       "      <td>NaN</td>\n",
       "      <td>NaN</td>\n",
       "      <td>2.925741e+02</td>\n",
       "      <td>5.354292e+08</td>\n",
       "      <td>NaN</td>\n",
       "    </tr>\n",
       "    <tr>\n",
       "      <th>std</th>\n",
       "      <td>2.886751e+06</td>\n",
       "      <td>NaN</td>\n",
       "      <td>NaN</td>\n",
       "      <td>1.228346e+07</td>\n",
       "      <td>1.943274e+16</td>\n",
       "      <td>NaN</td>\n",
       "      <td>NaN</td>\n",
       "      <td>3.538111e+02</td>\n",
       "      <td>2.037214e+07</td>\n",
       "      <td>NaN</td>\n",
       "    </tr>\n",
       "    <tr>\n",
       "      <th>min</th>\n",
       "      <td>0.000000e+00</td>\n",
       "      <td>NaN</td>\n",
       "      <td>NaN</td>\n",
       "      <td>1.000365e+06</td>\n",
       "      <td>2.053014e+18</td>\n",
       "      <td>NaN</td>\n",
       "      <td>NaN</td>\n",
       "      <td>0.000000e+00</td>\n",
       "      <td>1.030022e+07</td>\n",
       "      <td>NaN</td>\n",
       "    </tr>\n",
       "    <tr>\n",
       "      <th>25%</th>\n",
       "      <td>2.500000e+06</td>\n",
       "      <td>NaN</td>\n",
       "      <td>NaN</td>\n",
       "      <td>1.005252e+06</td>\n",
       "      <td>2.053014e+18</td>\n",
       "      <td>NaN</td>\n",
       "      <td>NaN</td>\n",
       "      <td>6.667000e+01</td>\n",
       "      <td>5.159950e+08</td>\n",
       "      <td>NaN</td>\n",
       "    </tr>\n",
       "    <tr>\n",
       "      <th>50%</th>\n",
       "      <td>5.000000e+06</td>\n",
       "      <td>NaN</td>\n",
       "      <td>NaN</td>\n",
       "      <td>5.100722e+06</td>\n",
       "      <td>2.053014e+18</td>\n",
       "      <td>NaN</td>\n",
       "      <td>NaN</td>\n",
       "      <td>1.653100e+02</td>\n",
       "      <td>5.306267e+08</td>\n",
       "      <td>NaN</td>\n",
       "    </tr>\n",
       "    <tr>\n",
       "      <th>75%</th>\n",
       "      <td>7.499999e+06</td>\n",
       "      <td>NaN</td>\n",
       "      <td>NaN</td>\n",
       "      <td>1.640001e+07</td>\n",
       "      <td>2.053014e+18</td>\n",
       "      <td>NaN</td>\n",
       "      <td>NaN</td>\n",
       "      <td>3.654600e+02</td>\n",
       "      <td>5.548916e+08</td>\n",
       "      <td>NaN</td>\n",
       "    </tr>\n",
       "    <tr>\n",
       "      <th>max</th>\n",
       "      <td>9.999999e+06</td>\n",
       "      <td>NaN</td>\n",
       "      <td>NaN</td>\n",
       "      <td>6.210003e+07</td>\n",
       "      <td>2.180737e+18</td>\n",
       "      <td>NaN</td>\n",
       "      <td>NaN</td>\n",
       "      <td>2.574070e+03</td>\n",
       "      <td>5.684226e+08</td>\n",
       "      <td>NaN</td>\n",
       "    </tr>\n",
       "  </tbody>\n",
       "</table>\n",
       "</div>"
      ],
      "text/plain": [
       "          Unnamed: 0               event_time event_type    product_id   \n",
       "count   1.000000e+07                 10000000   10000000  1.000000e+07  \\\n",
       "unique           NaN                   523423          3           NaN   \n",
       "top              NaN  2019-11-05 17:23:19 UTC       view           NaN   \n",
       "freq             NaN                      113    9731128           NaN   \n",
       "mean    5.000000e+06                      NaN        NaN  1.100008e+07   \n",
       "std     2.886751e+06                      NaN        NaN  1.228346e+07   \n",
       "min     0.000000e+00                      NaN        NaN  1.000365e+06   \n",
       "25%     2.500000e+06                      NaN        NaN  1.005252e+06   \n",
       "50%     5.000000e+06                      NaN        NaN  5.100722e+06   \n",
       "75%     7.499999e+06                      NaN        NaN  1.640001e+07   \n",
       "max     9.999999e+06                      NaN        NaN  6.210003e+07   \n",
       "\n",
       "         category_id           category_code    brand         price   \n",
       "count   1.000000e+07                 6697210  8589537  1.000000e+07  \\\n",
       "unique           NaN                     126     3373           NaN   \n",
       "top              NaN  electronics.smartphone  samsung           NaN   \n",
       "freq             NaN                 2543371  1158050           NaN   \n",
       "mean    2.057828e+18                     NaN      NaN  2.925741e+02   \n",
       "std     1.943274e+16                     NaN      NaN  3.538111e+02   \n",
       "min     2.053014e+18                     NaN      NaN  0.000000e+00   \n",
       "25%     2.053014e+18                     NaN      NaN  6.667000e+01   \n",
       "50%     2.053014e+18                     NaN      NaN  1.653100e+02   \n",
       "75%     2.053014e+18                     NaN      NaN  3.654600e+02   \n",
       "max     2.180737e+18                     NaN      NaN  2.574070e+03   \n",
       "\n",
       "             user_id                          user_session  \n",
       "count   1.000000e+07                              10000000  \n",
       "unique           NaN                               2190461  \n",
       "top              NaN  4488e77a-9901-4c4b-b162-47a224ceab51  \n",
       "freq             NaN                                   504  \n",
       "mean    5.354292e+08                                   NaN  \n",
       "std     2.037214e+07                                   NaN  \n",
       "min     1.030022e+07                                   NaN  \n",
       "25%     5.159950e+08                                   NaN  \n",
       "50%     5.306267e+08                                   NaN  \n",
       "75%     5.548916e+08                                   NaN  \n",
       "max     5.684226e+08                                   NaN  "
      ]
     },
     "execution_count": 7,
     "metadata": {},
     "output_type": "execute_result"
    }
   ],
   "source": [
    "df.describe(include='all')"
   ]
  },
  {
   "cell_type": "code",
   "execution_count": 9,
   "metadata": {},
   "outputs": [
    {
     "name": "stdout",
     "output_type": "stream",
     "text": [
      "<class 'pandas.core.frame.DataFrame'>\n",
      "RangeIndex: 10000000 entries, 0 to 9999999\n",
      "Data columns (total 10 columns):\n",
      " #   Column         Dtype  \n",
      "---  ------         -----  \n",
      " 0   Unnamed: 0     int64  \n",
      " 1   event_time     object \n",
      " 2   event_type     object \n",
      " 3   product_id     int64  \n",
      " 4   category_id    int64  \n",
      " 5   category_code  object \n",
      " 6   brand          object \n",
      " 7   price          float64\n",
      " 8   user_id        int64  \n",
      " 9   user_session   object \n",
      "dtypes: float64(1), int64(4), object(5)\n",
      "memory usage: 762.9+ MB\n"
     ]
    }
   ],
   "source": [
    "df.info()"
   ]
  },
  {
   "cell_type": "code",
   "execution_count": 6,
   "metadata": {},
   "outputs": [],
   "source": [
    "df.dropna(inplace=True)"
   ]
  },
  {
   "cell_type": "code",
   "execution_count": 7,
   "metadata": {},
   "outputs": [
    {
     "data": {
      "text/plain": [
       "2574.07"
      ]
     },
     "execution_count": 7,
     "metadata": {},
     "output_type": "execute_result"
    }
   ],
   "source": [
    "df['price'].max()"
   ]
  },
  {
   "cell_type": "code",
   "execution_count": 8,
   "metadata": {},
   "outputs": [
    {
     "data": {
      "text/plain": [
       "0.88"
      ]
     },
     "execution_count": 8,
     "metadata": {},
     "output_type": "execute_result"
    }
   ],
   "source": [
    "df['price'].min()"
   ]
  },
  {
   "cell_type": "code",
   "execution_count": 9,
   "metadata": {},
   "outputs": [],
   "source": [
    "unique_brand = df['brand'].unique()"
   ]
  },
  {
   "cell_type": "code",
   "execution_count": 10,
   "metadata": {},
   "outputs": [
    {
     "name": "stdout",
     "output_type": "stream",
     "text": [
      "['xiaomi' 'janome' 'lg' ... 'tailg' 'best' 'espiro']\n"
     ]
    }
   ],
   "source": [
    "print(unique_brand)"
   ]
  },
  {
   "cell_type": "code",
   "execution_count": 11,
   "metadata": {},
   "outputs": [],
   "source": [
    "unique_event = df['event_type'].unique()"
   ]
  },
  {
   "cell_type": "code",
   "execution_count": 13,
   "metadata": {},
   "outputs": [
    {
     "name": "stdout",
     "output_type": "stream",
     "text": [
      "['view' 'cart' 'purchase']\n"
     ]
    }
   ],
   "source": [
    "print(unique_event)"
   ]
  },
  {
   "cell_type": "code",
   "execution_count": 14,
   "metadata": {},
   "outputs": [
    {
     "data": {
      "text/plain": [
       "6124469"
      ]
     },
     "execution_count": 14,
     "metadata": {},
     "output_type": "execute_result"
    }
   ],
   "source": [
    "df['brand'].count()"
   ]
  },
  {
   "cell_type": "code",
   "execution_count": 15,
   "metadata": {},
   "outputs": [],
   "source": [
    "apple = df[df['brand']=='apple']\n"
   ]
  },
  {
   "cell_type": "code",
   "execution_count": 16,
   "metadata": {},
   "outputs": [
    {
     "data": {
      "text/plain": [
       "<Axes: xlabel='price', ylabel='Count'>"
      ]
     },
     "execution_count": 16,
     "metadata": {},
     "output_type": "execute_result"
    },
    {
     "data": {
      "image/png": "[encoded data removed]",
      "text/plain": [
       "<Figure size 640x480 with 1 Axes>"
      ]
     },
     "metadata": {},
     "output_type": "display_data"
    }
   ],
   "source": [
    "sns.histplot(apple['price'])"
   ]
  },
  {
   "cell_type": "code",
   "execution_count": 18,
   "metadata": {},
   "outputs": [],
   "source": [
    "apple_view = (apple['event_type'] == 'view').sum()\n",
    "apple_cart = (apple['event_type'] == 'cart').sum()\n",
    "apple_pur = (apple['event_type'] == 'purchase').sum()"
   ]
  },
  {
   "cell_type": "code",
   "execution_count": 23,
   "metadata": {},
   "outputs": [],
   "source": [
    "apple_ratio = apple_pur/(apple_pur + apple_cart + apple_cart)"
   ]
  },
  {
   "cell_type": "code",
   "execution_count": 24,
   "metadata": {},
   "outputs": [
    {
     "name": "stdout",
     "output_type": "stream",
     "text": [
      "0.2990486428379468\n"
     ]
    }
   ],
   "source": [
    "print(apple_ratio)"
   ]
  },
  {
   "cell_type": "code",
   "execution_count": null,
   "metadata": {},
   "outputs": [],
   "source": []
  }
 ],
 "metadata": {
  "kernelspec": {
   "display_name": "Python 3",
   "language": "python",
   "name": "python3"
  },
  "language_info": {
   "codemirror_mode": {
    "name": "ipython",
    "version": 3
   },
   "file_extension": ".py",
   "mimetype": "text/x-python",
   "name": "python",
   "nbconvert_exporter": "python",
   "pygments_lexer": "ipython3",
   "version": "3.11.3"
  },
  "orig_nbformat": 4
 },
 "nbformat": 4,
 "nbformat_minor": 2
}
