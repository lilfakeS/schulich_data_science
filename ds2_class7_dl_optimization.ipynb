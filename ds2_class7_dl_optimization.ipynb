{
 "cells": [
  {
   "cell_type": "code",
   "execution_count": 17,
   "metadata": {},
   "outputs": [],
   "source": [
    "import pandas as pd\n",
    "import tensorflow as tf\n",
    "import numpy as np\n",
    "import matplotlib.pyplot as plt\n",
    "import sklearn"
   ]
  },
  {
   "cell_type": "code",
   "execution_count": 22,
   "metadata": {},
   "outputs": [],
   "source": [
    "import ssl\n",
    "ssl._create_default_https_context = ssl._create_unverified_context"
   ]
  },
  {
   "cell_type": "code",
   "execution_count": 2,
   "metadata": {},
   "outputs": [
    {
     "name": "stdout",
     "output_type": "stream",
     "text": [
      "Collecting tensorflow_datasets\n",
      "  Downloading tensorflow_datasets-4.9.3-py3-none-any.whl.metadata (9.3 kB)\n",
      "Requirement already satisfied: absl-py in /Library/Frameworks/Python.framework/Versions/3.11/lib/python3.11/site-packages (from tensorflow_datasets) (2.0.0)\n",
      "Collecting array-record (from tensorflow_datasets)\n",
      "  Downloading array_record-0.4.1-py310-none-any.whl.metadata (503 bytes)\n",
      "Requirement already satisfied: click in /Library/Frameworks/Python.framework/Versions/3.11/lib/python3.11/site-packages (from tensorflow_datasets) (8.1.7)\n",
      "Collecting dm-tree (from tensorflow_datasets)\n",
      "  Downloading dm_tree-0.1.8-cp311-cp311-macosx_11_0_arm64.whl (110 kB)\n",
      "\u001b[2K     \u001b[90m━━━━━━━━━━━━━━━━━━━━━━━━━━━━━━━━━━━━━\u001b[0m \u001b[32m110.7/110.7 kB\u001b[0m \u001b[31m311.6 kB/s\u001b[0m eta \u001b[36m0:00:00\u001b[0ma \u001b[36m0:00:01\u001b[0m\n",
      "\u001b[?25hCollecting etils>=0.9.0 (from etils[enp,epath,etree]>=0.9.0->tensorflow_datasets)\n",
      "  Downloading etils-1.5.2-py3-none-any.whl.metadata (6.3 kB)\n",
      "Requirement already satisfied: numpy in /Library/Frameworks/Python.framework/Versions/3.11/lib/python3.11/site-packages (from tensorflow_datasets) (1.24.3)\n",
      "Collecting promise (from tensorflow_datasets)\n",
      "  Downloading promise-2.3.tar.gz (19 kB)\n",
      "  Preparing metadata (setup.py) ... \u001b[?25ldone\n",
      "\u001b[?25hRequirement already satisfied: protobuf>=3.20 in /Library/Frameworks/Python.framework/Versions/3.11/lib/python3.11/site-packages (from tensorflow_datasets) (4.24.4)\n",
      "Requirement already satisfied: psutil in /Users/justinsheng/Library/Python/3.11/lib/python/site-packages (from tensorflow_datasets) (5.9.5)\n",
      "Requirement already satisfied: requests>=2.19.0 in /Library/Frameworks/Python.framework/Versions/3.11/lib/python3.11/site-packages (from tensorflow_datasets) (2.31.0)\n",
      "Collecting tensorflow-metadata (from tensorflow_datasets)\n",
      "  Downloading tensorflow_metadata-1.14.0-py3-none-any.whl.metadata (2.1 kB)\n",
      "Requirement already satisfied: termcolor in /Library/Frameworks/Python.framework/Versions/3.11/lib/python3.11/site-packages (from tensorflow_datasets) (2.3.0)\n",
      "Requirement already satisfied: toml in /Library/Frameworks/Python.framework/Versions/3.11/lib/python3.11/site-packages (from tensorflow_datasets) (0.10.2)\n",
      "Requirement already satisfied: tqdm in /Library/Frameworks/Python.framework/Versions/3.11/lib/python3.11/site-packages (from tensorflow_datasets) (4.66.1)\n",
      "Requirement already satisfied: wrapt in /Library/Frameworks/Python.framework/Versions/3.11/lib/python3.11/site-packages (from tensorflow_datasets) (1.14.1)\n",
      "Collecting fsspec (from etils[enp,epath,etree]>=0.9.0->tensorflow_datasets)\n",
      "  Downloading fsspec-2023.10.0-py3-none-any.whl.metadata (6.8 kB)\n",
      "Collecting importlib_resources (from etils[enp,epath,etree]>=0.9.0->tensorflow_datasets)\n",
      "  Downloading importlib_resources-6.1.1-py3-none-any.whl.metadata (4.1 kB)\n",
      "Requirement already satisfied: typing_extensions in /Library/Frameworks/Python.framework/Versions/3.11/lib/python3.11/site-packages (from etils[enp,epath,etree]>=0.9.0->tensorflow_datasets) (4.7.1)\n",
      "Requirement already satisfied: zipp in /Library/Frameworks/Python.framework/Versions/3.11/lib/python3.11/site-packages (from etils[enp,epath,etree]>=0.9.0->tensorflow_datasets) (3.17.0)\n",
      "Requirement already satisfied: charset-normalizer<4,>=2 in /Library/Frameworks/Python.framework/Versions/3.11/lib/python3.11/site-packages (from requests>=2.19.0->tensorflow_datasets) (3.2.0)\n",
      "Requirement already satisfied: idna<4,>=2.5 in /Library/Frameworks/Python.framework/Versions/3.11/lib/python3.11/site-packages (from requests>=2.19.0->tensorflow_datasets) (3.4)\n",
      "Requirement already satisfied: urllib3<3,>=1.21.1 in /Library/Frameworks/Python.framework/Versions/3.11/lib/python3.11/site-packages (from requests>=2.19.0->tensorflow_datasets) (2.0.4)\n",
      "Requirement already satisfied: certifi>=2017.4.17 in /Library/Frameworks/Python.framework/Versions/3.11/lib/python3.11/site-packages (from requests>=2.19.0->tensorflow_datasets) (2023.7.22)\n",
      "Requirement already satisfied: six in /Users/justinsheng/Library/Python/3.11/lib/python/site-packages (from promise->tensorflow_datasets) (1.16.0)\n",
      "Collecting absl-py (from tensorflow_datasets)\n",
      "  Downloading absl_py-1.4.0-py3-none-any.whl (126 kB)\n",
      "\u001b[2K     \u001b[90m━━━━━━━━━━━━━━━━━━━━━━━━━━━━━━━━━━━━━━━\u001b[0m \u001b[32m126.5/126.5 kB\u001b[0m \u001b[31m1.6 MB/s\u001b[0m eta \u001b[36m0:00:00\u001b[0ma \u001b[36m0:00:01\u001b[0m\n",
      "\u001b[?25hCollecting googleapis-common-protos<2,>=1.52.0 (from tensorflow-metadata->tensorflow_datasets)\n",
      "  Downloading googleapis_common_protos-1.61.0-py2.py3-none-any.whl.metadata (1.5 kB)\n",
      "Collecting protobuf>=3.20 (from tensorflow_datasets)\n",
      "  Downloading protobuf-3.20.3-py2.py3-none-any.whl (162 kB)\n",
      "\u001b[2K     \u001b[90m━━━━━━━━━━━━━━━━━━━━━━━━━━━━━━━━━━━━━━━\u001b[0m \u001b[32m162.1/162.1 kB\u001b[0m \u001b[31m1.3 MB/s\u001b[0m eta \u001b[36m0:00:00\u001b[0ma \u001b[36m0:00:01\u001b[0m\n",
      "\u001b[?25hDownloading tensorflow_datasets-4.9.3-py3-none-any.whl (5.0 MB)\n",
      "\u001b[2K   \u001b[90m━━━━━━━━━━━━━━━━━━━━━━━━━━━━━━━━━━━━━━━━\u001b[0m \u001b[32m5.0/5.0 MB\u001b[0m \u001b[31m579.4 kB/s\u001b[0m eta \u001b[36m0:00:00\u001b[0m00:01\u001b[0m00:01\u001b[0m\n",
      "\u001b[?25hDownloading etils-1.5.2-py3-none-any.whl (140 kB)\n",
      "\u001b[2K   \u001b[90m━━━━━━━━━━━━━━━━━━━━━━━━━━━━━━━━━━━━━━━\u001b[0m \u001b[32m140.6/140.6 kB\u001b[0m \u001b[31m789.6 kB/s\u001b[0m eta \u001b[36m0:00:00\u001b[0m \u001b[36m0:00:01\u001b[0m\n",
      "\u001b[?25hDownloading array_record-0.4.1-py310-none-any.whl (3.0 MB)\n",
      "\u001b[2K   \u001b[90m━━━━━━━━━━━━━━━━━━━━━━━━━━━━━━━━━━━━━━━━\u001b[0m \u001b[32m3.0/3.0 MB\u001b[0m \u001b[31m1.2 MB/s\u001b[0m eta \u001b[36m0:00:00\u001b[0m00:01\u001b[0m00:01\u001b[0m0m\n",
      "\u001b[?25hDownloading tensorflow_metadata-1.14.0-py3-none-any.whl (28 kB)\n",
      "Downloading googleapis_common_protos-1.61.0-py2.py3-none-any.whl (230 kB)\n",
      "\u001b[2K   \u001b[90m━━━━━━━━━━━━━━━━━━━━━━━━━━━━━━━━━━━━━━━\u001b[0m \u001b[32m230.9/230.9 kB\u001b[0m \u001b[31m985.1 kB/s\u001b[0m eta \u001b[36m0:00:00\u001b[0ma \u001b[36m0:00:01\u001b[0m\n",
      "\u001b[?25hDownloading fsspec-2023.10.0-py3-none-any.whl (166 kB)\n",
      "\u001b[2K   \u001b[90m━━━━━━━━━━━━━━━━━━━━━━━━━━━━━━━━━━━━━━━\u001b[0m \u001b[32m166.4/166.4 kB\u001b[0m \u001b[31m558.3 kB/s\u001b[0m eta \u001b[36m0:00:00\u001b[0ma \u001b[36m0:00:01\u001b[0m\n",
      "\u001b[?25hDownloading importlib_resources-6.1.1-py3-none-any.whl (33 kB)\n",
      "Building wheels for collected packages: promise\n",
      "  Building wheel for promise (setup.py) ... \u001b[?25ldone\n",
      "\u001b[?25h  Created wheel for promise: filename=promise-2.3-py3-none-any.whl size=21483 sha256=bf0d5bb3d3694b9c7226db81eb12ac0b245f2d644696496dc75d7b3fdd8e6259\n",
      "  Stored in directory: /Users/justinsheng/Library/Caches/pip/wheels/90/74/b1/9b54c896b8d9409e9268329d4d45ede8a8040abe91c8879932\n",
      "Successfully built promise\n",
      "Installing collected packages: dm-tree, protobuf, promise, importlib_resources, fsspec, etils, absl-py, googleapis-common-protos, tensorflow-metadata, array-record, tensorflow_datasets\n",
      "  Attempting uninstall: protobuf\n",
      "    Found existing installation: protobuf 4.24.4\n",
      "    Uninstalling protobuf-4.24.4:\n",
      "      Successfully uninstalled protobuf-4.24.4\n",
      "  Attempting uninstall: absl-py\n",
      "    Found existing installation: absl-py 2.0.0\n",
      "    Uninstalling absl-py-2.0.0:\n",
      "      Successfully uninstalled absl-py-2.0.0\n",
      "Successfully installed absl-py-1.4.0 array-record-0.4.1 dm-tree-0.1.8 etils-1.5.2 fsspec-2023.10.0 googleapis-common-protos-1.61.0 importlib_resources-6.1.1 promise-2.3 protobuf-3.20.3 tensorflow-metadata-1.14.0 tensorflow_datasets-4.9.3\n",
      "Note: you may need to restart the kernel to use updated packages.\n"
     ]
    }
   ],
   "source": [
    "pip install tensorflow_datasets"
   ]
  },
  {
   "cell_type": "code",
   "execution_count": 4,
   "metadata": {},
   "outputs": [
    {
     "name": "stderr",
     "output_type": "stream",
     "text": [
      "/Library/Frameworks/Python.framework/Versions/3.11/lib/python3.11/site-packages/tqdm/auto.py:21: TqdmWarning: IProgress not found. Please update jupyter and ipywidgets. See https://ipywidgets.readthedocs.io/en/stable/user_install.html\n",
      "  from .autonotebook import tqdm as notebook_tqdm\n"
     ]
    }
   ],
   "source": [
    "import tensorflow_datasets as tfds"
   ]
  },
  {
   "cell_type": "code",
   "execution_count": 7,
   "metadata": {},
   "outputs": [],
   "source": [
    "(train, test) = tfds.load('mnist',\n",
    "                                split = ['train','test'])"
   ]
  },
  {
   "cell_type": "code",
   "execution_count": 8,
   "metadata": {},
   "outputs": [],
   "source": [
    "(train, test) = tfds.load('mnist',\n",
    "                                split = ['train','test'])"
   ]
  },
  {
   "cell_type": "code",
   "execution_count": 9,
   "metadata": {},
   "outputs": [
    {
     "data": {
      "text/plain": [
       "<_PrefetchDataset element_spec={'image': TensorSpec(shape=(28, 28, 1), dtype=tf.uint8, name=None), 'label': TensorSpec(shape=(), dtype=tf.int64, name=None)}>"
      ]
     },
     "execution_count": 9,
     "metadata": {},
     "output_type": "execute_result"
    }
   ],
   "source": [
    "train"
   ]
  },
  {
   "cell_type": "code",
   "execution_count": 10,
   "metadata": {},
   "outputs": [
    {
     "data": {
      "text/plain": [
       "<_PrefetchDataset element_spec={'image': TensorSpec(shape=(28, 28, 1), dtype=tf.uint8, name=None), 'label': TensorSpec(shape=(), dtype=tf.int64, name=None)}>"
      ]
     },
     "execution_count": 10,
     "metadata": {},
     "output_type": "execute_result"
    }
   ],
   "source": [
    "test"
   ]
  },
  {
   "cell_type": "code",
   "execution_count": 25,
   "metadata": {},
   "outputs": [],
   "source": [
    "from sklearn.preprocessing import StandardScaler\n",
    "from sklearn.preprocessing import OneHotEncoder\n",
    "\n",
    "def load_dataset(train_size, test_size):\n",
    "    train, test = tf.keras.datasets.mnist.load_data()\n",
    "\n",
    "    # take a sample\n",
    "    train_idx = np.random.randint(low=0, high=train[0].shape[0], size=train_size)\n",
    "    test_idx = np.random.randint(low=0, high=test[0].shape[0], size=test_size)\n",
    "    X_train = train[0][train_idx].reshape(-1,28*28)\n",
    "    y_train = train[1][train_idx].reshape(-1,1)\n",
    "    X_test = test[0][test_idx].reshape(-1,28*28)\n",
    "    y_test = test[1][test_idx].reshape(-1,1)\n",
    "\n",
    "    scale = StandardScaler()\n",
    "    X_train = scale.fit_transform(X_train)\n",
    "    X_test = scale.transform(X_test)\n",
    "\n",
    "    OH = OneHotEncoder(categories='auto',sparse=False)\n",
    "    y_train = OH.fit_transform(y_train)\n",
    "    y_test = OH.transform(y_test)\n",
    "\n",
    "    print('X_train:',X_train.shape)\n",
    "    print('y_train:',y_train.shape)\n",
    "    print('X_test:',X_test.shape)\n",
    "    print('y_test:',y_test.shape)\n",
    "    print('Min:', X_train.min())\n",
    "    print('Max:', X_train.max())\n",
    "\n",
    "    return X_train, X_test, y_train, y_test"
   ]
  },
  {
   "cell_type": "code",
   "execution_count": 26,
   "metadata": {},
   "outputs": [
    {
     "name": "stdout",
     "output_type": "stream",
     "text": [
      "X_train: (60000, 784)\n",
      "y_train: (60000, 10)\n",
      "X_test: (10000, 784)\n",
      "y_test: (10000, 10)\n",
      "Min: -1.2681658311850954\n",
      "Max: 244.94693302855296\n"
     ]
    },
    {
     "name": "stderr",
     "output_type": "stream",
     "text": [
      "/Library/Frameworks/Python.framework/Versions/3.11/lib/python3.11/site-packages/sklearn/preprocessing/_encoders.py:868: FutureWarning: `sparse` was renamed to `sparse_output` in version 1.2 and will be removed in 1.4. `sparse_output` is ignored unless you leave `sparse` to its default value.\n",
      "  warnings.warn(\n"
     ]
    }
   ],
   "source": [
    "X_train, X_test, y_train, y_test = load_dataset(60000,10000)"
   ]
  },
  {
   "cell_type": "markdown",
   "metadata": {},
   "source": [
    "### Optimizing at the Initialization Stage"
   ]
  },
  {
   "cell_type": "code",
   "execution_count": 29,
   "metadata": {},
   "outputs": [
    {
     "name": "stderr",
     "output_type": "stream",
     "text": [
      "WARNING:absl:At this time, the v2.11+ optimizer `tf.keras.optimizers.SGD` runs slowly on M1/M2 Macs, please use the legacy Keras optimizer instead, located at `tf.keras.optimizers.legacy.SGD`.\n"
     ]
    }
   ],
   "source": [
    "init = tf. initializers.zeros()\n",
    "activate = 'relu'\n",
    "optimizer = tf.keras.optimizers.SGD(learning_rate=0.01)"
   ]
  },
  {
   "cell_type": "code",
   "execution_count": 31,
   "metadata": {},
   "outputs": [],
   "source": [
    "from tensorflow.keras import layers"
   ]
  },
  {
   "cell_type": "code",
   "execution_count": 32,
   "metadata": {},
   "outputs": [],
   "source": [
    "def simple_model(initializer, activation='relu'):\n",
    "    return tf.keras.Sequential([layers.Dense(32, activation, input_shape=(784,), kernel_initializer=initializer),\n",
    "                                layers.Dense(32, activation, kernel_initializer=initializer),\n",
    "                                layers.Dense(32, activation, kernel_initializer=initializer),\n",
    "                                layers.Dense(32, activation, kernel_initializer=initializer),\n",
    "                                layers.Dense(10, activation = 'softmax', kernel_initializer=tf.keras.initializers.glorot_normal())\n",
    "    ])"
   ]
  },
  {
   "cell_type": "code",
   "execution_count": 33,
   "metadata": {},
   "outputs": [],
   "source": [
    "model_zeros = simple_model(init, activate)"
   ]
  },
  {
   "cell_type": "code",
   "execution_count": 34,
   "metadata": {},
   "outputs": [
    {
     "name": "stdout",
     "output_type": "stream",
     "text": [
      "Epoch 1/10\n",
      "19/19 [==============================] - 1s 14ms/step - loss: 2.3026 - accuracy: 0.1117 - val_loss: 2.3025 - val_accuracy: 0.1108\n",
      "Epoch 2/10\n",
      "19/19 [==============================] - 0s 7ms/step - loss: 2.3025 - accuracy: 0.1121 - val_loss: 2.3025 - val_accuracy: 0.1108\n",
      "Epoch 3/10\n",
      "19/19 [==============================] - 0s 7ms/step - loss: 2.3025 - accuracy: 0.1121 - val_loss: 2.3025 - val_accuracy: 0.1108\n",
      "Epoch 4/10\n",
      "19/19 [==============================] - 0s 7ms/step - loss: 2.3024 - accuracy: 0.1121 - val_loss: 2.3024 - val_accuracy: 0.1108\n",
      "Epoch 5/10\n",
      "19/19 [==============================] - 0s 7ms/step - loss: 2.3023 - accuracy: 0.1121 - val_loss: 2.3024 - val_accuracy: 0.1108\n",
      "Epoch 6/10\n",
      "19/19 [==============================] - 0s 8ms/step - loss: 2.3023 - accuracy: 0.1121 - val_loss: 2.3023 - val_accuracy: 0.1108\n",
      "Epoch 7/10\n",
      "19/19 [==============================] - 0s 8ms/step - loss: 2.3023 - accuracy: 0.1121 - val_loss: 2.3023 - val_accuracy: 0.1108\n",
      "Epoch 8/10\n",
      "19/19 [==============================] - 0s 8ms/step - loss: 2.3022 - accuracy: 0.1121 - val_loss: 2.3023 - val_accuracy: 0.1108\n",
      "Epoch 9/10\n",
      "19/19 [==============================] - 0s 8ms/step - loss: 2.3022 - accuracy: 0.1121 - val_loss: 2.3022 - val_accuracy: 0.1108\n",
      "Epoch 10/10\n",
      "19/19 [==============================] - 0s 9ms/step - loss: 2.3021 - accuracy: 0.1121 - val_loss: 2.3022 - val_accuracy: 0.1108\n"
     ]
    },
    {
     "data": {
      "text/plain": [
       "<keras.src.callbacks.History at 0x2c76c9a50>"
      ]
     },
     "execution_count": 34,
     "metadata": {},
     "output_type": "execute_result"
    }
   ],
   "source": [
    "model_zeros.compile(optimizer=optimizer, loss = 'categorical_crossentropy',metrics = ['accuracy'])\n",
    "model_zeros.fit(X_train, y_train, epochs=10, batch_size=3200, validation_data=(X_test, y_test))"
   ]
  },
  {
   "cell_type": "code",
   "execution_count": 36,
   "metadata": {},
   "outputs": [
    {
     "name": "stderr",
     "output_type": "stream",
     "text": [
      "WARNING:absl:At this time, the v2.11+ optimizer `tf.keras.optimizers.SGD` runs slowly on M1/M2 Macs, please use the legacy Keras optimizer instead, located at `tf.keras.optimizers.legacy.SGD`.\n",
      "/Library/Frameworks/Python.framework/Versions/3.11/lib/python3.11/site-packages/keras/src/initializers/initializers.py:120: UserWarning: The initializer RandomNormal is unseeded and being called multiple times, which will return identical values each time (even if the initializer is unseeded). Please update your code to provide a seed to the initializer, or avoid using the same initializer instance more than once.\n",
      "  warnings.warn(\n"
     ]
    },
    {
     "name": "stdout",
     "output_type": "stream",
     "text": [
      "Epoch 1/10\n",
      "19/19 [==============================] - 0s 12ms/step - loss: 2.3020 - accuracy: 0.1421 - val_loss: 2.3020 - val_accuracy: 0.1442\n",
      "Epoch 2/10\n",
      "19/19 [==============================] - 0s 7ms/step - loss: 2.3017 - accuracy: 0.1409 - val_loss: 2.3018 - val_accuracy: 0.1411\n",
      "Epoch 3/10\n",
      "19/19 [==============================] - 0s 6ms/step - loss: 2.3014 - accuracy: 0.1360 - val_loss: 2.3015 - val_accuracy: 0.1336\n",
      "Epoch 4/10\n",
      "19/19 [==============================] - 0s 7ms/step - loss: 2.3012 - accuracy: 0.1314 - val_loss: 2.3013 - val_accuracy: 0.1275\n",
      "Epoch 5/10\n",
      "19/19 [==============================] - 0s 7ms/step - loss: 2.3009 - accuracy: 0.1256 - val_loss: 2.3011 - val_accuracy: 0.1221\n",
      "Epoch 6/10\n",
      "19/19 [==============================] - 0s 7ms/step - loss: 2.3007 - accuracy: 0.1209 - val_loss: 2.3009 - val_accuracy: 0.1178\n",
      "Epoch 7/10\n",
      "19/19 [==============================] - 0s 8ms/step - loss: 2.3005 - accuracy: 0.1225 - val_loss: 2.3007 - val_accuracy: 0.1244\n",
      "Epoch 8/10\n",
      "19/19 [==============================] - 0s 7ms/step - loss: 2.3003 - accuracy: 0.1289 - val_loss: 2.3005 - val_accuracy: 0.1280\n",
      "Epoch 9/10\n",
      "19/19 [==============================] - 0s 7ms/step - loss: 2.3000 - accuracy: 0.1335 - val_loss: 2.3002 - val_accuracy: 0.1333\n",
      "Epoch 10/10\n",
      "19/19 [==============================] - 0s 9ms/step - loss: 2.2998 - accuracy: 0.1374 - val_loss: 2.3000 - val_accuracy: 0.1329\n"
     ]
    },
    {
     "data": {
      "text/plain": [
       "<keras.src.callbacks.History at 0x2a0b49c10>"
      ]
     },
     "execution_count": 36,
     "metadata": {},
     "output_type": "execute_result"
    }
   ],
   "source": [
    "init = tf.initializers.random_normal()\n",
    "activate = 'relu'\n",
    "optimizer = tf.keras.optimizers.SGD(learning_rate=0.01)\n",
    "model_normal = simple_model(init, activate)\n",
    "model_normal.compile(optimizer=optimizer, loss = 'categorical_crossentropy',metrics = ['accuracy'])\n",
    "model_normal.fit(X_train, y_train, epochs=10, batch_size=3200, validation_data=(X_test, y_test))"
   ]
  },
  {
   "cell_type": "code",
   "execution_count": 37,
   "metadata": {},
   "outputs": [
    {
     "name": "stderr",
     "output_type": "stream",
     "text": [
      "WARNING:absl:At this time, the v2.11+ optimizer `tf.keras.optimizers.SGD` runs slowly on M1/M2 Macs, please use the legacy Keras optimizer instead, located at `tf.keras.optimizers.legacy.SGD`.\n",
      "/Library/Frameworks/Python.framework/Versions/3.11/lib/python3.11/site-packages/keras/src/initializers/initializers.py:120: UserWarning: The initializer GlorotUniform is unseeded and being called multiple times, which will return identical values each time (even if the initializer is unseeded). Please update your code to provide a seed to the initializer, or avoid using the same initializer instance more than once.\n",
      "  warnings.warn(\n"
     ]
    },
    {
     "name": "stdout",
     "output_type": "stream",
     "text": [
      "Epoch 1/10\n",
      "19/19 [==============================] - 0s 12ms/step - loss: 2.3246 - accuracy: 0.1064 - val_loss: 2.2954 - val_accuracy: 0.1119\n",
      "Epoch 2/10\n",
      "19/19 [==============================] - 0s 8ms/step - loss: 2.2618 - accuracy: 0.1326 - val_loss: 2.2419 - val_accuracy: 0.1669\n",
      "Epoch 3/10\n",
      "19/19 [==============================] - 0s 7ms/step - loss: 2.2118 - accuracy: 0.2038 - val_loss: 2.1932 - val_accuracy: 0.2429\n",
      "Epoch 4/10\n",
      "19/19 [==============================] - 0s 7ms/step - loss: 2.1623 - accuracy: 0.2666 - val_loss: 2.1425 - val_accuracy: 0.2904\n",
      "Epoch 5/10\n",
      "19/19 [==============================] - 0s 7ms/step - loss: 2.1091 - accuracy: 0.3080 - val_loss: 2.0871 - val_accuracy: 0.3221\n",
      "Epoch 6/10\n",
      "19/19 [==============================] - 0s 7ms/step - loss: 2.0502 - accuracy: 0.3334 - val_loss: 2.0264 - val_accuracy: 0.3405\n",
      "Epoch 7/10\n",
      "19/19 [==============================] - 0s 7ms/step - loss: 1.9861 - accuracy: 0.3511 - val_loss: 1.9618 - val_accuracy: 0.3529\n",
      "Epoch 8/10\n",
      "19/19 [==============================] - 0s 7ms/step - loss: 1.9196 - accuracy: 0.3672 - val_loss: 1.8967 - val_accuracy: 0.3701\n",
      "Epoch 9/10\n",
      "19/19 [==============================] - 0s 7ms/step - loss: 1.8535 - accuracy: 0.3874 - val_loss: 1.8332 - val_accuracy: 0.3895\n",
      "Epoch 10/10\n",
      "19/19 [==============================] - 0s 7ms/step - loss: 1.7891 - accuracy: 0.4103 - val_loss: 1.7716 - val_accuracy: 0.4163\n"
     ]
    },
    {
     "data": {
      "text/plain": [
       "<keras.src.callbacks.History at 0x2a06b7dd0>"
      ]
     },
     "execution_count": 37,
     "metadata": {},
     "output_type": "execute_result"
    }
   ],
   "source": [
    "init = tf.initializers.glorot_uniform()\n",
    "activate = 'relu'\n",
    "optimizer = tf.keras.optimizers.SGD(learning_rate=0.01)\n",
    "model_glorotu = simple_model(init, activate)\n",
    "model_glorotu.compile(optimizer=optimizer, loss='categorical_crossentropy', metrics=['accuracy'])\n",
    "model_glorotu.fit(X_train, y_train, epochs=10, batch_size=3200, validation_data=(X_test, y_test))"
   ]
  },
  {
   "cell_type": "code",
   "execution_count": 38,
   "metadata": {},
   "outputs": [
    {
     "name": "stderr",
     "output_type": "stream",
     "text": [
      "WARNING:absl:At this time, the v2.11+ optimizer `tf.keras.optimizers.SGD` runs slowly on M1/M2 Macs, please use the legacy Keras optimizer instead, located at `tf.keras.optimizers.legacy.SGD`.\n",
      "/Library/Frameworks/Python.framework/Versions/3.11/lib/python3.11/site-packages/keras/src/initializers/initializers.py:120: UserWarning: The initializer HeUniform is unseeded and being called multiple times, which will return identical values each time (even if the initializer is unseeded). Please update your code to provide a seed to the initializer, or avoid using the same initializer instance more than once.\n",
      "  warnings.warn(\n"
     ]
    },
    {
     "name": "stdout",
     "output_type": "stream",
     "text": [
      "Epoch 1/10\n",
      "19/19 [==============================] - 1s 14ms/step - loss: 2.9617 - accuracy: 0.1499 - val_loss: 2.3792 - val_accuracy: 0.2266\n",
      "Epoch 2/10\n",
      "19/19 [==============================] - 0s 8ms/step - loss: 2.1882 - accuracy: 0.2796 - val_loss: 2.0618 - val_accuracy: 0.3287\n",
      "Epoch 3/10\n",
      "19/19 [==============================] - 0s 8ms/step - loss: 1.9276 - accuracy: 0.3703 - val_loss: 1.8381 - val_accuracy: 0.3975\n",
      "Epoch 4/10\n",
      "19/19 [==============================] - 0s 8ms/step - loss: 1.7230 - accuracy: 0.4398 - val_loss: 1.6471 - val_accuracy: 0.4744\n",
      "Epoch 5/10\n",
      "19/19 [==============================] - 0s 8ms/step - loss: 1.5422 - accuracy: 0.5133 - val_loss: 1.4741 - val_accuracy: 0.5406\n",
      "Epoch 6/10\n",
      "19/19 [==============================] - 0s 8ms/step - loss: 1.3789 - accuracy: 0.5735 - val_loss: 1.3233 - val_accuracy: 0.5906\n",
      "Epoch 7/10\n",
      "19/19 [==============================] - 0s 7ms/step - loss: 1.2408 - accuracy: 0.6192 - val_loss: 1.1988 - val_accuracy: 0.6381\n",
      "Epoch 8/10\n",
      "19/19 [==============================] - 0s 8ms/step - loss: 1.1258 - accuracy: 0.6597 - val_loss: 1.0918 - val_accuracy: 0.6802\n",
      "Epoch 9/10\n",
      "19/19 [==============================] - 0s 8ms/step - loss: 1.0265 - accuracy: 0.6964 - val_loss: 0.9988 - val_accuracy: 0.7101\n",
      "Epoch 10/10\n",
      "19/19 [==============================] - 0s 8ms/step - loss: 0.9402 - accuracy: 0.7280 - val_loss: 0.9192 - val_accuracy: 0.7376\n"
     ]
    },
    {
     "data": {
      "text/plain": [
       "<keras.src.callbacks.History at 0x295ee6550>"
      ]
     },
     "execution_count": 38,
     "metadata": {},
     "output_type": "execute_result"
    }
   ],
   "source": [
    "init = tf.initializers.he_uniform()\n",
    "activate = 'relu'\n",
    "optimizer = tf.keras.optimizers.SGD(learning_rate=0.01)\n",
    "model_heu = simple_model(init, activate)\n",
    "model_heu.compile(optimizer=optimizer, loss='categorical_crossentropy', metrics=['accuracy'])\n",
    "model_heu.fit(X_train, y_train, epochs=10, batch_size=3200, validation_data=(X_test, y_test))"
   ]
  },
  {
   "cell_type": "code",
   "execution_count": 39,
   "metadata": {},
   "outputs": [
    {
     "data": {
      "text/plain": [
       "Text(0, 0.5, 'Validation Accuracy')"
      ]
     },
     "execution_count": 39,
     "metadata": {},
     "output_type": "execute_result"
    },
    {
     "data": {
      "image/png": "[encoded data removed]",
      "text/plain": [
       "<Figure size 640x480 with 1 Axes>"
      ]
     },
     "metadata": {},
     "output_type": "display_data"
    }
   ],
   "source": [
    "for i in [model_heu, model_normal, model_glorotu,model_zeros]:\n",
    "    plt.plot(i.history.history['val_accuracy'], label= i.get_config()['layers'][1]['config']['kernel_initializer']['class_name'])\n",
    "\n",
    "plt.legend()\n",
    "plt.xlabel('Epoch')\n",
    "plt.ylabel('Validation Accuracy')"
   ]
  },
  {
   "cell_type": "code",
   "execution_count": 40,
   "metadata": {},
   "outputs": [],
   "source": [
    "def simple_model_bn(initializer = 'he_uniform', activation='relu'):\n",
    "    return tf.keras.Sequential([layers.Dense(32, activation, input_shape=(784,), kernel_initializer=initializer),\n",
    "                                layers.BatchNormalization(trainable=True, scale=True, center=True),\n",
    "                                layers.Dense(32, activation, kernel_initializer=initializer),\n",
    "                                layers.BatchNormalization(trainable=True, scale=True, center=True),\n",
    "                                layers.Dense(32, activation, kernel_initializer=initializer),\n",
    "                                layers.BatchNormalization(trainable=True, scale=True, center=True),\n",
    "                                layers.Dense(32, activation, kernel_initializer=initializer),\n",
    "                                layers.BatchNormalization(trainable=True, scale=True, center=True),\n",
    "                                layers.Dense(10, activation = 'softmax', kernel_initializer=tf.keras.initializers.glorot_normal())\n",
    "    ])"
   ]
  },
  {
   "cell_type": "code",
   "execution_count": 42,
   "metadata": {},
   "outputs": [
    {
     "name": "stdout",
     "output_type": "stream",
     "text": [
      "Model: \"sequential_5\"\n",
      "_________________________________________________________________\n",
      " Layer (type)                Output Shape              Param #   \n",
      "=================================================================\n",
      " dense_25 (Dense)            (None, 32)                25120     \n",
      "                                                                 \n",
      " batch_normalization (Batch  (None, 32)                128       \n",
      " Normalization)                                                  \n",
      "                                                                 \n",
      " dense_26 (Dense)            (None, 32)                1056      \n",
      "                                                                 \n",
      " batch_normalization_1 (Bat  (None, 32)                128       \n",
      " chNormalization)                                                \n",
      "                                                                 \n",
      " dense_27 (Dense)            (None, 32)                1056      \n",
      "                                                                 \n",
      " batch_normalization_2 (Bat  (None, 32)                128       \n",
      " chNormalization)                                                \n",
      "                                                                 \n",
      " dense_28 (Dense)            (None, 32)                1056      \n",
      "                                                                 \n",
      " batch_normalization_3 (Bat  (None, 32)                128       \n",
      " chNormalization)                                                \n",
      "                                                                 \n",
      " dense_29 (Dense)            (None, 10)                330       \n",
      "                                                                 \n",
      "=================================================================\n",
      "Total params: 29130 (113.79 KB)\n",
      "Trainable params: 28874 (112.79 KB)\n",
      "Non-trainable params: 256 (1.00 KB)\n",
      "_________________________________________________________________\n"
     ]
    }
   ],
   "source": [
    "simple_model_bn().summary()"
   ]
  },
  {
   "cell_type": "code",
   "execution_count": 43,
   "metadata": {},
   "outputs": [
    {
     "name": "stderr",
     "output_type": "stream",
     "text": [
      "WARNING:absl:At this time, the v2.11+ optimizer `tf.keras.optimizers.SGD` runs slowly on M1/M2 Macs, please use the legacy Keras optimizer instead, located at `tf.keras.optimizers.legacy.SGD`.\n",
      "/Library/Frameworks/Python.framework/Versions/3.11/lib/python3.11/site-packages/keras/src/initializers/initializers.py:120: UserWarning: The initializer RandomNormal is unseeded and being called multiple times, which will return identical values each time (even if the initializer is unseeded). Please update your code to provide a seed to the initializer, or avoid using the same initializer instance more than once.\n",
      "  warnings.warn(\n"
     ]
    },
    {
     "name": "stdout",
     "output_type": "stream",
     "text": [
      "Epoch 1/10\n",
      "19/19 [==============================] - 1s 19ms/step - loss: 2.0045 - accuracy: 0.3431 - val_loss: 2.2949 - val_accuracy: 0.2019\n",
      "Epoch 2/10\n",
      "19/19 [==============================] - 0s 12ms/step - loss: 1.3486 - accuracy: 0.5904 - val_loss: 2.2850 - val_accuracy: 0.2703\n",
      "Epoch 3/10\n",
      "19/19 [==============================] - 0s 14ms/step - loss: 1.0496 - accuracy: 0.6951 - val_loss: 2.2720 - val_accuracy: 0.3138\n",
      "Epoch 4/10\n",
      "19/19 [==============================] - 0s 11ms/step - loss: 0.8724 - accuracy: 0.7499 - val_loss: 2.2542 - val_accuracy: 0.3702\n",
      "Epoch 5/10\n",
      "19/19 [==============================] - 0s 11ms/step - loss: 0.7587 - accuracy: 0.7829 - val_loss: 2.2296 - val_accuracy: 0.4253\n",
      "Epoch 6/10\n",
      "19/19 [==============================] - 0s 12ms/step - loss: 0.6779 - accuracy: 0.8056 - val_loss: 2.1967 - val_accuracy: 0.4709\n",
      "Epoch 7/10\n",
      "19/19 [==============================] - 0s 11ms/step - loss: 0.6181 - accuracy: 0.8239 - val_loss: 2.1530 - val_accuracy: 0.5156\n",
      "Epoch 8/10\n",
      "19/19 [==============================] - 0s 11ms/step - loss: 0.5715 - accuracy: 0.8376 - val_loss: 2.0963 - val_accuracy: 0.5545\n",
      "Epoch 9/10\n",
      "19/19 [==============================] - 0s 12ms/step - loss: 0.5326 - accuracy: 0.8480 - val_loss: 2.0255 - val_accuracy: 0.5883\n",
      "Epoch 10/10\n",
      "19/19 [==============================] - 0s 12ms/step - loss: 0.5013 - accuracy: 0.8582 - val_loss: 1.9391 - val_accuracy: 0.6200\n"
     ]
    },
    {
     "data": {
      "text/plain": [
       "<keras.src.callbacks.History at 0x2cc961a50>"
      ]
     },
     "execution_count": 43,
     "metadata": {},
     "output_type": "execute_result"
    }
   ],
   "source": [
    "init = tf.keras.initializers.random_normal()\n",
    "activate = 'relu'\n",
    "\n",
    "optimizer = tf.keras.optimizers.SGD(0.01)\n",
    "model_bn = simple_model_bn(init, activate)\n",
    "model_bn.compile(optimizer=optimizer, loss='categorical_crossentropy', metrics=['accuracy'])\n",
    "model_bn.fit(X_train, y_train, epochs=10, batch_size=3200, validation_data = (X_test, y_test))"
   ]
  },
  {
   "cell_type": "code",
   "execution_count": 44,
   "metadata": {},
   "outputs": [
    {
     "name": "stderr",
     "output_type": "stream",
     "text": [
      "WARNING:absl:At this time, the v2.11+ optimizer `tf.keras.optimizers.Adagrad` runs slowly on M1/M2 Macs, please use the legacy Keras optimizer instead, located at `tf.keras.optimizers.legacy.Adagrad`.\n",
      "/Library/Frameworks/Python.framework/Versions/3.11/lib/python3.11/site-packages/keras/src/initializers/initializers.py:120: UserWarning: The initializer RandomUniform is unseeded and being called multiple times, which will return identical values each time (even if the initializer is unseeded). Please update your code to provide a seed to the initializer, or avoid using the same initializer instance more than once.\n",
      "  warnings.warn(\n"
     ]
    },
    {
     "name": "stdout",
     "output_type": "stream",
     "text": [
      "Epoch 1/10\n",
      "19/19 [==============================] - 1s 20ms/step - loss: 1.1090 - accuracy: 0.6592 - val_loss: 2.2958 - val_accuracy: 0.3052\n",
      "Epoch 2/10\n",
      "19/19 [==============================] - 0s 12ms/step - loss: 0.4757 - accuracy: 0.8696 - val_loss: 2.2903 - val_accuracy: 0.2226\n",
      "Epoch 3/10\n",
      "19/19 [==============================] - 0s 12ms/step - loss: 0.3561 - accuracy: 0.9051 - val_loss: 2.2833 - val_accuracy: 0.1556\n",
      "Epoch 4/10\n",
      "19/19 [==============================] - 0s 12ms/step - loss: 0.2970 - accuracy: 0.9210 - val_loss: 2.2740 - val_accuracy: 0.1234\n",
      "Epoch 5/10\n",
      "19/19 [==============================] - 0s 12ms/step - loss: 0.2588 - accuracy: 0.9316 - val_loss: 2.2616 - val_accuracy: 0.1305\n",
      "Epoch 6/10\n",
      "19/19 [==============================] - 0s 12ms/step - loss: 0.2327 - accuracy: 0.9389 - val_loss: 2.2449 - val_accuracy: 0.1507\n",
      "Epoch 7/10\n",
      "19/19 [==============================] - 0s 12ms/step - loss: 0.2119 - accuracy: 0.9457 - val_loss: 2.2235 - val_accuracy: 0.1914\n",
      "Epoch 8/10\n",
      "19/19 [==============================] - 0s 12ms/step - loss: 0.1949 - accuracy: 0.9514 - val_loss: 2.1945 - val_accuracy: 0.2715\n",
      "Epoch 9/10\n",
      "19/19 [==============================] - 0s 12ms/step - loss: 0.1811 - accuracy: 0.9542 - val_loss: 2.1565 - val_accuracy: 0.3581\n",
      "Epoch 10/10\n",
      "19/19 [==============================] - 0s 12ms/step - loss: 0.1697 - accuracy: 0.9571 - val_loss: 2.1082 - val_accuracy: 0.4553\n"
     ]
    },
    {
     "data": {
      "text/plain": [
       "<keras.src.callbacks.History at 0x2cbf98510>"
      ]
     },
     "execution_count": 44,
     "metadata": {},
     "output_type": "execute_result"
    }
   ],
   "source": [
    "init = tf.keras.initializers.random_uniform()\n",
    "activate = 'relu'\n",
    "\n",
    "optimizer = tf.keras.optimizers.Adagrad(learning_rate=0.01)\n",
    "model_bn_ad = simple_model_bn(init, activate)\n",
    "model_bn_ad.compile(optimizer=optimizer, loss='categorical_crossentropy', metrics=['accuracy'])\n",
    "model_bn_ad.fit(X_train, y_train, epochs=10, batch_size=3200, validation_data = (X_test, y_test))"
   ]
  },
  {
   "cell_type": "code",
   "execution_count": 45,
   "metadata": {},
   "outputs": [
    {
     "name": "stderr",
     "output_type": "stream",
     "text": [
      "WARNING:absl:At this time, the v2.11+ optimizer `tf.keras.optimizers.Adam` runs slowly on M1/M2 Macs, please use the legacy Keras optimizer instead, located at `tf.keras.optimizers.legacy.Adam`.\n"
     ]
    },
    {
     "name": "stdout",
     "output_type": "stream",
     "text": [
      "Epoch 1/10\n",
      "19/19 [==============================] - 1s 18ms/step - loss: 0.8105 - accuracy: 0.7517 - val_loss: 2.1150 - val_accuracy: 0.2346\n",
      "Epoch 2/10\n",
      "19/19 [==============================] - 0s 11ms/step - loss: 0.2532 - accuracy: 0.9265 - val_loss: 1.9048 - val_accuracy: 0.3591\n",
      "Epoch 3/10\n",
      "19/19 [==============================] - 0s 11ms/step - loss: 0.1724 - accuracy: 0.9497 - val_loss: 1.7523 - val_accuracy: 0.5029\n",
      "Epoch 4/10\n",
      "19/19 [==============================] - 0s 11ms/step - loss: 0.1301 - accuracy: 0.9614 - val_loss: 1.5793 - val_accuracy: 0.6215\n",
      "Epoch 5/10\n",
      "19/19 [==============================] - 0s 10ms/step - loss: 0.1035 - accuracy: 0.9701 - val_loss: 1.3980 - val_accuracy: 0.7200\n",
      "Epoch 6/10\n",
      "19/19 [==============================] - 0s 11ms/step - loss: 0.0867 - accuracy: 0.9746 - val_loss: 1.1600 - val_accuracy: 0.8141\n",
      "Epoch 7/10\n",
      "19/19 [==============================] - 0s 12ms/step - loss: 0.0689 - accuracy: 0.9801 - val_loss: 0.9513 - val_accuracy: 0.8659\n",
      "Epoch 8/10\n",
      "19/19 [==============================] - 0s 12ms/step - loss: 0.0625 - accuracy: 0.9816 - val_loss: 0.7353 - val_accuracy: 0.8978\n",
      "Epoch 9/10\n",
      "19/19 [==============================] - 0s 13ms/step - loss: 0.0523 - accuracy: 0.9846 - val_loss: 0.5436 - val_accuracy: 0.9177\n",
      "Epoch 10/10\n",
      "19/19 [==============================] - 0s 11ms/step - loss: 0.0454 - accuracy: 0.9869 - val_loss: 0.3896 - val_accuracy: 0.9392\n"
     ]
    },
    {
     "data": {
      "text/plain": [
       "<keras.src.callbacks.History at 0x295715f90>"
      ]
     },
     "execution_count": 45,
     "metadata": {},
     "output_type": "execute_result"
    }
   ],
   "source": [
    "init = tf.keras.initializers.random_uniform()\n",
    "activate = 'relu'\n",
    "\n",
    "optimizer = tf.keras.optimizers.Adam(learning_rate=0.01)\n",
    "model_bn_adam = simple_model_bn(init, activate)\n",
    "model_bn_adam.compile(optimizer=optimizer, loss='categorical_crossentropy', metrics=['accuracy'])\n",
    "model_bn_adam.fit(X_train, y_train, epochs=10, batch_size=3200, validation_data = (X_test, y_test))"
   ]
  },
  {
   "cell_type": "code",
   "execution_count": 46,
   "metadata": {},
   "outputs": [],
   "source": [
    "from tensorflow.keras.callbacks import EarlyStopping"
   ]
  },
  {
   "cell_type": "code",
   "execution_count": 48,
   "metadata": {},
   "outputs": [
    {
     "name": "stderr",
     "output_type": "stream",
     "text": [
      "WARNING:absl:At this time, the v2.11+ optimizer `tf.keras.optimizers.Adam` runs slowly on M1/M2 Macs, please use the legacy Keras optimizer instead, located at `tf.keras.optimizers.legacy.Adam`.\n",
      "/Library/Frameworks/Python.framework/Versions/3.11/lib/python3.11/site-packages/keras/src/initializers/initializers.py:120: UserWarning: The initializer RandomUniform is unseeded and being called multiple times, which will return identical values each time (even if the initializer is unseeded). Please update your code to provide a seed to the initializer, or avoid using the same initializer instance more than once.\n",
      "  warnings.warn(\n"
     ]
    },
    {
     "name": "stdout",
     "output_type": "stream",
     "text": [
      "Epoch 1/2000\n",
      "1875/1875 [==============================] - 4s 1ms/step - loss: 0.3568 - accuracy: 0.8945 - val_loss: 0.2062 - val_accuracy: 0.9472\n",
      "Epoch 2/2000\n",
      "1875/1875 [==============================] - 2s 1ms/step - loss: 0.2086 - accuracy: 0.9387 - val_loss: 0.1573 - val_accuracy: 0.9573\n",
      "Epoch 3/2000\n",
      "1875/1875 [==============================] - 2s 1ms/step - loss: 0.1673 - accuracy: 0.9497 - val_loss: 0.1479 - val_accuracy: 0.9606\n",
      "Epoch 4/2000\n",
      "1875/1875 [==============================] - 2s 1ms/step - loss: 0.1418 - accuracy: 0.9565 - val_loss: 0.1560 - val_accuracy: 0.9599\n",
      "Epoch 5/2000\n",
      "1875/1875 [==============================] - 2s 1ms/step - loss: 0.1272 - accuracy: 0.9619 - val_loss: 0.1626 - val_accuracy: 0.9662\n",
      "Epoch 6/2000\n",
      "1875/1875 [==============================] - 2s 1ms/step - loss: 0.1138 - accuracy: 0.9651 - val_loss: 0.1809 - val_accuracy: 0.9571\n",
      "Epoch 7/2000\n",
      "1875/1875 [==============================] - 2s 1ms/step - loss: 0.1023 - accuracy: 0.9678 - val_loss: 0.1694 - val_accuracy: 0.9591\n",
      "Epoch 8/2000\n",
      "1875/1875 [==============================] - 2s 1ms/step - loss: 0.0945 - accuracy: 0.9710 - val_loss: 0.1883 - val_accuracy: 0.9597\n",
      "Epoch 9/2000\n",
      "1875/1875 [==============================] - 2s 1ms/step - loss: 0.0883 - accuracy: 0.9726 - val_loss: 0.1453 - val_accuracy: 0.9661\n",
      "Epoch 10/2000\n",
      "1875/1875 [==============================] - 2s 1ms/step - loss: 0.0810 - accuracy: 0.9749 - val_loss: 0.1595 - val_accuracy: 0.9637\n",
      "Epoch 11/2000\n",
      "1875/1875 [==============================] - 2s 1ms/step - loss: 0.0754 - accuracy: 0.9763 - val_loss: 0.1617 - val_accuracy: 0.9676\n",
      "Epoch 12/2000\n",
      "1875/1875 [==============================] - 2s 1ms/step - loss: 0.0732 - accuracy: 0.9768 - val_loss: 0.1599 - val_accuracy: 0.9655\n",
      "Epoch 13/2000\n",
      "1875/1875 [==============================] - 2s 1ms/step - loss: 0.0679 - accuracy: 0.9792 - val_loss: 0.1616 - val_accuracy: 0.9675\n",
      "Epoch 14/2000\n",
      "1875/1875 [==============================] - 2s 1ms/step - loss: 0.0658 - accuracy: 0.9788 - val_loss: 0.1830 - val_accuracy: 0.9676\n",
      "Epoch 15/2000\n",
      "1875/1875 [==============================] - 2s 1ms/step - loss: 0.0613 - accuracy: 0.9801 - val_loss: 0.1881 - val_accuracy: 0.9638\n",
      "Epoch 16/2000\n",
      "1875/1875 [==============================] - 2s 1ms/step - loss: 0.0590 - accuracy: 0.9812 - val_loss: 0.2074 - val_accuracy: 0.9617\n",
      "Epoch 17/2000\n",
      "1875/1875 [==============================] - 2s 1ms/step - loss: 0.0580 - accuracy: 0.9823 - val_loss: 0.2084 - val_accuracy: 0.9641\n",
      "Epoch 18/2000\n",
      "1875/1875 [==============================] - 2s 1ms/step - loss: 0.0548 - accuracy: 0.9822 - val_loss: 0.2228 - val_accuracy: 0.9657\n",
      "Epoch 19/2000\n",
      "1862/1875 [============================>.] - ETA: 0s - loss: 0.0538 - accuracy: 0.9827Restoring model weights from the end of the best epoch: 9.\n",
      "1875/1875 [==============================] - 2s 1ms/step - loss: 0.0538 - accuracy: 0.9828 - val_loss: 0.1982 - val_accuracy: 0.9638\n",
      "Epoch 19: early stopping\n",
      "Train Acc: 0.9878833293914795 Test Acc: 0.9660999774932861\n"
     ]
    }
   ],
   "source": [
    "init = tf.keras.initializers.random_uniform()\n",
    "activate = 'relu'\n",
    "\n",
    "optimizer = tf.keras.optimizers.Adam(learning_rate=0.01)\n",
    "model_bn_adam = simple_model_bn(init, activate)\n",
    "model_bn_adam.compile(optimizer=optimizer, loss='categorical_crossentropy', metrics=['accuracy'])\n",
    "\n",
    "es = EarlyStopping(monitor='val_loss', mode='min', patience=10, restore_best_weights=True, verbose=1)\n",
    "\n",
    "history = model_bn_adam.fit(X_train, y_train, epochs=2000, callbacks=[es], validation_data = (X_test, y_test))\n",
    "\n",
    "_, train_acc = model_bn_adam.evaluate(X_train, y_train, verbose=0)\n",
    "_, test_acc = model_bn_adam.evaluate(X_test, y_test, verbose=0)\n",
    "print('Train Acc:', train_acc, 'Test Acc:', test_acc)"
   ]
  },
  {
   "cell_type": "code",
   "execution_count": 49,
   "metadata": {},
   "outputs": [
    {
     "name": "stderr",
     "output_type": "stream",
     "text": [
      "WARNING:absl:At this time, the v2.11+ optimizer `tf.keras.optimizers.Adam` runs slowly on M1/M2 Macs, please use the legacy Keras optimizer instead, located at `tf.keras.optimizers.legacy.Adam`.\n"
     ]
    },
    {
     "name": "stdout",
     "output_type": "stream",
     "text": [
      "Restoring model weights from the end of the best epoch: 7.\n",
      "Epoch 17: early stopping\n",
      "Train Acc: 0.984499990940094 Test Acc: 0.9652000069618225\n"
     ]
    }
   ],
   "source": [
    "init = tf.keras.initializers.random_uniform()\n",
    "activate = 'relu'\n",
    "\n",
    "optimizer = tf.keras.optimizers.Adam(learning_rate=0.01)\n",
    "model_bn_adam = simple_model_bn(init, activate)\n",
    "model_bn_adam.compile(optimizer=optimizer, loss='categorical_crossentropy', metrics=['accuracy'])\n",
    "\n",
    "es = EarlyStopping(monitor='val_loss', mode='min', patience=10, restore_best_weights=True, verbose=1)\n",
    "\n",
    "history = model_bn_adam.fit(X_train, y_train, epochs=2000, callbacks=[es], validation_data = (X_test, y_test), verbose=0)\n",
    "\n",
    "_, train_acc = model_bn_adam.evaluate(X_train, y_train, verbose=0)\n",
    "_, test_acc = model_bn_adam.evaluate(X_test, y_test, verbose=0)\n",
    "print('Train Acc:', train_acc, 'Test Acc:', test_acc)"
   ]
  },
  {
   "cell_type": "code",
   "execution_count": null,
   "metadata": {},
   "outputs": [],
   "source": []
  }
 ],
 "metadata": {
  "kernelspec": {
   "display_name": "Python 3",
   "language": "python",
   "name": "python3"
  },
  "language_info": {
   "codemirror_mode": {
    "name": "ipython",
    "version": 3
   },
   "file_extension": ".py",
   "mimetype": "text/x-python",
   "name": "python",
   "nbconvert_exporter": "python",
   "pygments_lexer": "ipython3",
   "version": "3.11.3"
  }
 },
 "nbformat": 4,
 "nbformat_minor": 2
}
