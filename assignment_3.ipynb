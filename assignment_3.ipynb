{
 "cells": [
  {
   "cell_type": "code",
   "execution_count": 85,
   "metadata": {},
   "outputs": [],
   "source": [
    "import pandas as pd\n",
    "import numpy as np\n",
    "import matplotlib.pyplot as plt\n",
    "%matplotlib inline\n",
    "from statsmodels.formula.api import ols\n",
    "import statsmodels.api as sm\n",
    "from sklearn.linear_model import LinearRegression\n",
    "import scipy.stats as stats\n",
    "from sklearn.model_selection import train_test_split\n",
    "from sklearn.pipeline import Pipeline\n",
    "from sklearn.compose import ColumnTransformer\n",
    "from sklearn.preprocessing import OneHotEncoder, MinMaxScaler, StandardScaler\n",
    "from sklearn.linear_model import LinearRegression, ElasticNet, Ridge, Lasso\n",
    "import seaborn as sns"
   ]
  },
  {
   "cell_type": "code",
   "execution_count": 86,
   "metadata": {},
   "outputs": [],
   "source": [
    "house = pd.read_csv('/Users/justinsheng/Library/CloudStorage/OneDrive-UniversityofToronto/Justin/Schulich_2023-2024/MBAN6110/kc_house_data.csv')"
   ]
  },
  {
   "cell_type": "code",
   "execution_count": 3,
   "metadata": {},
   "outputs": [
    {
     "data": {
      "text/html": [
       "<div>\n",
       "<style scoped>\n",
       "    .dataframe tbody tr th:only-of-type {\n",
       "        vertical-align: middle;\n",
       "    }\n",
       "\n",
       "    .dataframe tbody tr th {\n",
       "        vertical-align: top;\n",
       "    }\n",
       "\n",
       "    .dataframe thead th {\n",
       "        text-align: right;\n",
       "    }\n",
       "</style>\n",
       "<table border=\"1\" class=\"dataframe\">\n",
       "  <thead>\n",
       "    <tr style=\"text-align: right;\">\n",
       "      <th></th>\n",
       "      <th>id</th>\n",
       "      <th>date</th>\n",
       "      <th>price</th>\n",
       "      <th>bedrooms</th>\n",
       "      <th>bathrooms</th>\n",
       "      <th>sqft_living</th>\n",
       "      <th>sqft_lot</th>\n",
       "      <th>floors</th>\n",
       "      <th>waterfront</th>\n",
       "      <th>view</th>\n",
       "      <th>...</th>\n",
       "      <th>grade</th>\n",
       "      <th>sqft_above</th>\n",
       "      <th>sqft_basement</th>\n",
       "      <th>yr_built</th>\n",
       "      <th>yr_renovated</th>\n",
       "      <th>zipcode</th>\n",
       "      <th>lat</th>\n",
       "      <th>long</th>\n",
       "      <th>sqft_living15</th>\n",
       "      <th>sqft_lot15</th>\n",
       "    </tr>\n",
       "  </thead>\n",
       "  <tbody>\n",
       "    <tr>\n",
       "      <th>0</th>\n",
       "      <td>7129300520</td>\n",
       "      <td>20141013T000000</td>\n",
       "      <td>221900.0</td>\n",
       "      <td>3</td>\n",
       "      <td>1.00</td>\n",
       "      <td>1180</td>\n",
       "      <td>5650</td>\n",
       "      <td>1.0</td>\n",
       "      <td>0</td>\n",
       "      <td>0</td>\n",
       "      <td>...</td>\n",
       "      <td>7</td>\n",
       "      <td>1180</td>\n",
       "      <td>0</td>\n",
       "      <td>1955</td>\n",
       "      <td>0</td>\n",
       "      <td>98178</td>\n",
       "      <td>47.5112</td>\n",
       "      <td>-122.257</td>\n",
       "      <td>1340</td>\n",
       "      <td>5650</td>\n",
       "    </tr>\n",
       "    <tr>\n",
       "      <th>1</th>\n",
       "      <td>6414100192</td>\n",
       "      <td>20141209T000000</td>\n",
       "      <td>538000.0</td>\n",
       "      <td>3</td>\n",
       "      <td>2.25</td>\n",
       "      <td>2570</td>\n",
       "      <td>7242</td>\n",
       "      <td>2.0</td>\n",
       "      <td>0</td>\n",
       "      <td>0</td>\n",
       "      <td>...</td>\n",
       "      <td>7</td>\n",
       "      <td>2170</td>\n",
       "      <td>400</td>\n",
       "      <td>1951</td>\n",
       "      <td>1991</td>\n",
       "      <td>98125</td>\n",
       "      <td>47.7210</td>\n",
       "      <td>-122.319</td>\n",
       "      <td>1690</td>\n",
       "      <td>7639</td>\n",
       "    </tr>\n",
       "    <tr>\n",
       "      <th>2</th>\n",
       "      <td>5631500400</td>\n",
       "      <td>20150225T000000</td>\n",
       "      <td>180000.0</td>\n",
       "      <td>2</td>\n",
       "      <td>1.00</td>\n",
       "      <td>770</td>\n",
       "      <td>10000</td>\n",
       "      <td>1.0</td>\n",
       "      <td>0</td>\n",
       "      <td>0</td>\n",
       "      <td>...</td>\n",
       "      <td>6</td>\n",
       "      <td>770</td>\n",
       "      <td>0</td>\n",
       "      <td>1933</td>\n",
       "      <td>0</td>\n",
       "      <td>98028</td>\n",
       "      <td>47.7379</td>\n",
       "      <td>-122.233</td>\n",
       "      <td>2720</td>\n",
       "      <td>8062</td>\n",
       "    </tr>\n",
       "    <tr>\n",
       "      <th>3</th>\n",
       "      <td>2487200875</td>\n",
       "      <td>20141209T000000</td>\n",
       "      <td>604000.0</td>\n",
       "      <td>4</td>\n",
       "      <td>3.00</td>\n",
       "      <td>1960</td>\n",
       "      <td>5000</td>\n",
       "      <td>1.0</td>\n",
       "      <td>0</td>\n",
       "      <td>0</td>\n",
       "      <td>...</td>\n",
       "      <td>7</td>\n",
       "      <td>1050</td>\n",
       "      <td>910</td>\n",
       "      <td>1965</td>\n",
       "      <td>0</td>\n",
       "      <td>98136</td>\n",
       "      <td>47.5208</td>\n",
       "      <td>-122.393</td>\n",
       "      <td>1360</td>\n",
       "      <td>5000</td>\n",
       "    </tr>\n",
       "    <tr>\n",
       "      <th>4</th>\n",
       "      <td>1954400510</td>\n",
       "      <td>20150218T000000</td>\n",
       "      <td>510000.0</td>\n",
       "      <td>3</td>\n",
       "      <td>2.00</td>\n",
       "      <td>1680</td>\n",
       "      <td>8080</td>\n",
       "      <td>1.0</td>\n",
       "      <td>0</td>\n",
       "      <td>0</td>\n",
       "      <td>...</td>\n",
       "      <td>8</td>\n",
       "      <td>1680</td>\n",
       "      <td>0</td>\n",
       "      <td>1987</td>\n",
       "      <td>0</td>\n",
       "      <td>98074</td>\n",
       "      <td>47.6168</td>\n",
       "      <td>-122.045</td>\n",
       "      <td>1800</td>\n",
       "      <td>7503</td>\n",
       "    </tr>\n",
       "  </tbody>\n",
       "</table>\n",
       "<p>5 rows × 21 columns</p>\n",
       "</div>"
      ],
      "text/plain": [
       "           id             date     price  bedrooms  bathrooms  sqft_living   \n",
       "0  7129300520  20141013T000000  221900.0         3       1.00         1180  \\\n",
       "1  6414100192  20141209T000000  538000.0         3       2.25         2570   \n",
       "2  5631500400  20150225T000000  180000.0         2       1.00          770   \n",
       "3  2487200875  20141209T000000  604000.0         4       3.00         1960   \n",
       "4  1954400510  20150218T000000  510000.0         3       2.00         1680   \n",
       "\n",
       "   sqft_lot  floors  waterfront  view  ...  grade  sqft_above  sqft_basement   \n",
       "0      5650     1.0           0     0  ...      7        1180              0  \\\n",
       "1      7242     2.0           0     0  ...      7        2170            400   \n",
       "2     10000     1.0           0     0  ...      6         770              0   \n",
       "3      5000     1.0           0     0  ...      7        1050            910   \n",
       "4      8080     1.0           0     0  ...      8        1680              0   \n",
       "\n",
       "   yr_built  yr_renovated  zipcode      lat     long  sqft_living15   \n",
       "0      1955             0    98178  47.5112 -122.257           1340  \\\n",
       "1      1951          1991    98125  47.7210 -122.319           1690   \n",
       "2      1933             0    98028  47.7379 -122.233           2720   \n",
       "3      1965             0    98136  47.5208 -122.393           1360   \n",
       "4      1987             0    98074  47.6168 -122.045           1800   \n",
       "\n",
       "   sqft_lot15  \n",
       "0        5650  \n",
       "1        7639  \n",
       "2        8062  \n",
       "3        5000  \n",
       "4        7503  \n",
       "\n",
       "[5 rows x 21 columns]"
      ]
     },
     "execution_count": 3,
     "metadata": {},
     "output_type": "execute_result"
    }
   ],
   "source": [
    "house.head()"
   ]
  },
  {
   "cell_type": "code",
   "execution_count": 4,
   "metadata": {},
   "outputs": [
    {
     "name": "stdout",
     "output_type": "stream",
     "text": [
      "<class 'pandas.core.frame.DataFrame'>\n",
      "RangeIndex: 21613 entries, 0 to 21612\n",
      "Data columns (total 21 columns):\n",
      " #   Column         Non-Null Count  Dtype  \n",
      "---  ------         --------------  -----  \n",
      " 0   id             21613 non-null  int64  \n",
      " 1   date           21613 non-null  object \n",
      " 2   price          21613 non-null  float64\n",
      " 3   bedrooms       21613 non-null  int64  \n",
      " 4   bathrooms      21613 non-null  float64\n",
      " 5   sqft_living    21613 non-null  int64  \n",
      " 6   sqft_lot       21613 non-null  int64  \n",
      " 7   floors         21613 non-null  float64\n",
      " 8   waterfront     21613 non-null  int64  \n",
      " 9   view           21613 non-null  int64  \n",
      " 10  condition      21613 non-null  int64  \n",
      " 11  grade          21613 non-null  int64  \n",
      " 12  sqft_above     21613 non-null  int64  \n",
      " 13  sqft_basement  21613 non-null  int64  \n",
      " 14  yr_built       21613 non-null  int64  \n",
      " 15  yr_renovated   21613 non-null  int64  \n",
      " 16  zipcode        21613 non-null  int64  \n",
      " 17  lat            21613 non-null  float64\n",
      " 18  long           21613 non-null  float64\n",
      " 19  sqft_living15  21613 non-null  int64  \n",
      " 20  sqft_lot15     21613 non-null  int64  \n",
      "dtypes: float64(5), int64(15), object(1)\n",
      "memory usage: 3.5+ MB\n"
     ]
    }
   ],
   "source": [
    "house.info()"
   ]
  },
  {
   "cell_type": "code",
   "execution_count": 5,
   "metadata": {},
   "outputs": [
    {
     "data": {
      "text/html": [
       "<div>\n",
       "<style scoped>\n",
       "    .dataframe tbody tr th:only-of-type {\n",
       "        vertical-align: middle;\n",
       "    }\n",
       "\n",
       "    .dataframe tbody tr th {\n",
       "        vertical-align: top;\n",
       "    }\n",
       "\n",
       "    .dataframe thead th {\n",
       "        text-align: right;\n",
       "    }\n",
       "</style>\n",
       "<table border=\"1\" class=\"dataframe\">\n",
       "  <thead>\n",
       "    <tr style=\"text-align: right;\">\n",
       "      <th></th>\n",
       "      <th>id</th>\n",
       "      <th>price</th>\n",
       "      <th>bedrooms</th>\n",
       "      <th>bathrooms</th>\n",
       "      <th>sqft_living</th>\n",
       "      <th>sqft_lot</th>\n",
       "      <th>floors</th>\n",
       "      <th>waterfront</th>\n",
       "      <th>view</th>\n",
       "      <th>condition</th>\n",
       "      <th>grade</th>\n",
       "      <th>sqft_above</th>\n",
       "      <th>sqft_basement</th>\n",
       "      <th>yr_built</th>\n",
       "      <th>yr_renovated</th>\n",
       "      <th>zipcode</th>\n",
       "      <th>lat</th>\n",
       "      <th>long</th>\n",
       "      <th>sqft_living15</th>\n",
       "      <th>sqft_lot15</th>\n",
       "    </tr>\n",
       "  </thead>\n",
       "  <tbody>\n",
       "    <tr>\n",
       "      <th>count</th>\n",
       "      <td>2.161300e+04</td>\n",
       "      <td>2.161300e+04</td>\n",
       "      <td>21613.000000</td>\n",
       "      <td>21613.000000</td>\n",
       "      <td>21613.000000</td>\n",
       "      <td>2.161300e+04</td>\n",
       "      <td>21613.000000</td>\n",
       "      <td>21613.000000</td>\n",
       "      <td>21613.000000</td>\n",
       "      <td>21613.000000</td>\n",
       "      <td>21613.000000</td>\n",
       "      <td>21613.000000</td>\n",
       "      <td>21613.000000</td>\n",
       "      <td>21613.000000</td>\n",
       "      <td>21613.000000</td>\n",
       "      <td>21613.000000</td>\n",
       "      <td>21613.000000</td>\n",
       "      <td>21613.000000</td>\n",
       "      <td>21613.000000</td>\n",
       "      <td>21613.000000</td>\n",
       "    </tr>\n",
       "    <tr>\n",
       "      <th>mean</th>\n",
       "      <td>4.580302e+09</td>\n",
       "      <td>5.400881e+05</td>\n",
       "      <td>3.370842</td>\n",
       "      <td>2.114757</td>\n",
       "      <td>2079.899736</td>\n",
       "      <td>1.510697e+04</td>\n",
       "      <td>1.494309</td>\n",
       "      <td>0.007542</td>\n",
       "      <td>0.234303</td>\n",
       "      <td>3.409430</td>\n",
       "      <td>7.656873</td>\n",
       "      <td>1788.390691</td>\n",
       "      <td>291.509045</td>\n",
       "      <td>1971.005136</td>\n",
       "      <td>84.402258</td>\n",
       "      <td>98077.939805</td>\n",
       "      <td>47.560053</td>\n",
       "      <td>-122.213896</td>\n",
       "      <td>1986.552492</td>\n",
       "      <td>12768.455652</td>\n",
       "    </tr>\n",
       "    <tr>\n",
       "      <th>std</th>\n",
       "      <td>2.876566e+09</td>\n",
       "      <td>3.671272e+05</td>\n",
       "      <td>0.930062</td>\n",
       "      <td>0.770163</td>\n",
       "      <td>918.440897</td>\n",
       "      <td>4.142051e+04</td>\n",
       "      <td>0.539989</td>\n",
       "      <td>0.086517</td>\n",
       "      <td>0.766318</td>\n",
       "      <td>0.650743</td>\n",
       "      <td>1.175459</td>\n",
       "      <td>828.090978</td>\n",
       "      <td>442.575043</td>\n",
       "      <td>29.373411</td>\n",
       "      <td>401.679240</td>\n",
       "      <td>53.505026</td>\n",
       "      <td>0.138564</td>\n",
       "      <td>0.140828</td>\n",
       "      <td>685.391304</td>\n",
       "      <td>27304.179631</td>\n",
       "    </tr>\n",
       "    <tr>\n",
       "      <th>min</th>\n",
       "      <td>1.000102e+06</td>\n",
       "      <td>7.500000e+04</td>\n",
       "      <td>0.000000</td>\n",
       "      <td>0.000000</td>\n",
       "      <td>290.000000</td>\n",
       "      <td>5.200000e+02</td>\n",
       "      <td>1.000000</td>\n",
       "      <td>0.000000</td>\n",
       "      <td>0.000000</td>\n",
       "      <td>1.000000</td>\n",
       "      <td>1.000000</td>\n",
       "      <td>290.000000</td>\n",
       "      <td>0.000000</td>\n",
       "      <td>1900.000000</td>\n",
       "      <td>0.000000</td>\n",
       "      <td>98001.000000</td>\n",
       "      <td>47.155900</td>\n",
       "      <td>-122.519000</td>\n",
       "      <td>399.000000</td>\n",
       "      <td>651.000000</td>\n",
       "    </tr>\n",
       "    <tr>\n",
       "      <th>25%</th>\n",
       "      <td>2.123049e+09</td>\n",
       "      <td>3.219500e+05</td>\n",
       "      <td>3.000000</td>\n",
       "      <td>1.750000</td>\n",
       "      <td>1427.000000</td>\n",
       "      <td>5.040000e+03</td>\n",
       "      <td>1.000000</td>\n",
       "      <td>0.000000</td>\n",
       "      <td>0.000000</td>\n",
       "      <td>3.000000</td>\n",
       "      <td>7.000000</td>\n",
       "      <td>1190.000000</td>\n",
       "      <td>0.000000</td>\n",
       "      <td>1951.000000</td>\n",
       "      <td>0.000000</td>\n",
       "      <td>98033.000000</td>\n",
       "      <td>47.471000</td>\n",
       "      <td>-122.328000</td>\n",
       "      <td>1490.000000</td>\n",
       "      <td>5100.000000</td>\n",
       "    </tr>\n",
       "    <tr>\n",
       "      <th>50%</th>\n",
       "      <td>3.904930e+09</td>\n",
       "      <td>4.500000e+05</td>\n",
       "      <td>3.000000</td>\n",
       "      <td>2.250000</td>\n",
       "      <td>1910.000000</td>\n",
       "      <td>7.618000e+03</td>\n",
       "      <td>1.500000</td>\n",
       "      <td>0.000000</td>\n",
       "      <td>0.000000</td>\n",
       "      <td>3.000000</td>\n",
       "      <td>7.000000</td>\n",
       "      <td>1560.000000</td>\n",
       "      <td>0.000000</td>\n",
       "      <td>1975.000000</td>\n",
       "      <td>0.000000</td>\n",
       "      <td>98065.000000</td>\n",
       "      <td>47.571800</td>\n",
       "      <td>-122.230000</td>\n",
       "      <td>1840.000000</td>\n",
       "      <td>7620.000000</td>\n",
       "    </tr>\n",
       "    <tr>\n",
       "      <th>75%</th>\n",
       "      <td>7.308900e+09</td>\n",
       "      <td>6.450000e+05</td>\n",
       "      <td>4.000000</td>\n",
       "      <td>2.500000</td>\n",
       "      <td>2550.000000</td>\n",
       "      <td>1.068800e+04</td>\n",
       "      <td>2.000000</td>\n",
       "      <td>0.000000</td>\n",
       "      <td>0.000000</td>\n",
       "      <td>4.000000</td>\n",
       "      <td>8.000000</td>\n",
       "      <td>2210.000000</td>\n",
       "      <td>560.000000</td>\n",
       "      <td>1997.000000</td>\n",
       "      <td>0.000000</td>\n",
       "      <td>98118.000000</td>\n",
       "      <td>47.678000</td>\n",
       "      <td>-122.125000</td>\n",
       "      <td>2360.000000</td>\n",
       "      <td>10083.000000</td>\n",
       "    </tr>\n",
       "    <tr>\n",
       "      <th>max</th>\n",
       "      <td>9.900000e+09</td>\n",
       "      <td>7.700000e+06</td>\n",
       "      <td>33.000000</td>\n",
       "      <td>8.000000</td>\n",
       "      <td>13540.000000</td>\n",
       "      <td>1.651359e+06</td>\n",
       "      <td>3.500000</td>\n",
       "      <td>1.000000</td>\n",
       "      <td>4.000000</td>\n",
       "      <td>5.000000</td>\n",
       "      <td>13.000000</td>\n",
       "      <td>9410.000000</td>\n",
       "      <td>4820.000000</td>\n",
       "      <td>2015.000000</td>\n",
       "      <td>2015.000000</td>\n",
       "      <td>98199.000000</td>\n",
       "      <td>47.777600</td>\n",
       "      <td>-121.315000</td>\n",
       "      <td>6210.000000</td>\n",
       "      <td>871200.000000</td>\n",
       "    </tr>\n",
       "  </tbody>\n",
       "</table>\n",
       "</div>"
      ],
      "text/plain": [
       "                 id         price      bedrooms     bathrooms   sqft_living   \n",
       "count  2.161300e+04  2.161300e+04  21613.000000  21613.000000  21613.000000  \\\n",
       "mean   4.580302e+09  5.400881e+05      3.370842      2.114757   2079.899736   \n",
       "std    2.876566e+09  3.671272e+05      0.930062      0.770163    918.440897   \n",
       "min    1.000102e+06  7.500000e+04      0.000000      0.000000    290.000000   \n",
       "25%    2.123049e+09  3.219500e+05      3.000000      1.750000   1427.000000   \n",
       "50%    3.904930e+09  4.500000e+05      3.000000      2.250000   1910.000000   \n",
       "75%    7.308900e+09  6.450000e+05      4.000000      2.500000   2550.000000   \n",
       "max    9.900000e+09  7.700000e+06     33.000000      8.000000  13540.000000   \n",
       "\n",
       "           sqft_lot        floors    waterfront          view     condition   \n",
       "count  2.161300e+04  21613.000000  21613.000000  21613.000000  21613.000000  \\\n",
       "mean   1.510697e+04      1.494309      0.007542      0.234303      3.409430   \n",
       "std    4.142051e+04      0.539989      0.086517      0.766318      0.650743   \n",
       "min    5.200000e+02      1.000000      0.000000      0.000000      1.000000   \n",
       "25%    5.040000e+03      1.000000      0.000000      0.000000      3.000000   \n",
       "50%    7.618000e+03      1.500000      0.000000      0.000000      3.000000   \n",
       "75%    1.068800e+04      2.000000      0.000000      0.000000      4.000000   \n",
       "max    1.651359e+06      3.500000      1.000000      4.000000      5.000000   \n",
       "\n",
       "              grade    sqft_above  sqft_basement      yr_built  yr_renovated   \n",
       "count  21613.000000  21613.000000   21613.000000  21613.000000  21613.000000  \\\n",
       "mean       7.656873   1788.390691     291.509045   1971.005136     84.402258   \n",
       "std        1.175459    828.090978     442.575043     29.373411    401.679240   \n",
       "min        1.000000    290.000000       0.000000   1900.000000      0.000000   \n",
       "25%        7.000000   1190.000000       0.000000   1951.000000      0.000000   \n",
       "50%        7.000000   1560.000000       0.000000   1975.000000      0.000000   \n",
       "75%        8.000000   2210.000000     560.000000   1997.000000      0.000000   \n",
       "max       13.000000   9410.000000    4820.000000   2015.000000   2015.000000   \n",
       "\n",
       "            zipcode           lat          long  sqft_living15     sqft_lot15  \n",
       "count  21613.000000  21613.000000  21613.000000   21613.000000   21613.000000  \n",
       "mean   98077.939805     47.560053   -122.213896    1986.552492   12768.455652  \n",
       "std       53.505026      0.138564      0.140828     685.391304   27304.179631  \n",
       "min    98001.000000     47.155900   -122.519000     399.000000     651.000000  \n",
       "25%    98033.000000     47.471000   -122.328000    1490.000000    5100.000000  \n",
       "50%    98065.000000     47.571800   -122.230000    1840.000000    7620.000000  \n",
       "75%    98118.000000     47.678000   -122.125000    2360.000000   10083.000000  \n",
       "max    98199.000000     47.777600   -121.315000    6210.000000  871200.000000  "
      ]
     },
     "execution_count": 5,
     "metadata": {},
     "output_type": "execute_result"
    }
   ],
   "source": [
    "house.describe()"
   ]
  },
  {
   "cell_type": "code",
   "execution_count": 6,
   "metadata": {},
   "outputs": [
    {
     "name": "stdout",
     "output_type": "stream",
     "text": [
      "<class 'pandas.core.frame.DataFrame'>\n",
      "RangeIndex: 21613 entries, 0 to 21612\n",
      "Data columns (total 21 columns):\n",
      " #   Column         Non-Null Count  Dtype  \n",
      "---  ------         --------------  -----  \n",
      " 0   id             21613 non-null  int64  \n",
      " 1   date           21613 non-null  object \n",
      " 2   price          21613 non-null  float64\n",
      " 3   bedrooms       21613 non-null  int64  \n",
      " 4   bathrooms      21613 non-null  float64\n",
      " 5   sqft_living    21613 non-null  int64  \n",
      " 6   sqft_lot       21613 non-null  int64  \n",
      " 7   floors         21613 non-null  float64\n",
      " 8   waterfront     21613 non-null  int64  \n",
      " 9   view           21613 non-null  int64  \n",
      " 10  condition      21613 non-null  int64  \n",
      " 11  grade          21613 non-null  int64  \n",
      " 12  sqft_above     21613 non-null  int64  \n",
      " 13  sqft_basement  21613 non-null  int64  \n",
      " 14  yr_built       21613 non-null  int64  \n",
      " 15  yr_renovated   21613 non-null  int64  \n",
      " 16  zipcode        21613 non-null  int64  \n",
      " 17  lat            21613 non-null  float64\n",
      " 18  long           21613 non-null  float64\n",
      " 19  sqft_living15  21613 non-null  int64  \n",
      " 20  sqft_lot15     21613 non-null  int64  \n",
      "dtypes: float64(5), int64(15), object(1)\n",
      "memory usage: 3.5+ MB\n"
     ]
    }
   ],
   "source": [
    "house.dropna(inplace=True)\n",
    "house.info()"
   ]
  },
  {
   "cell_type": "code",
   "execution_count": 7,
   "metadata": {},
   "outputs": [
    {
     "data": {
      "text/plain": [
       "<matplotlib.collections.PathCollection at 0x17b480f50>"
      ]
     },
     "execution_count": 7,
     "metadata": {},
     "output_type": "execute_result"
    },
    {
     "data": {
      "image/png": "[encoded data removed]",
      "text/plain": [
       "<Figure size 640x480 with 1 Axes>"
      ]
     },
     "metadata": {},
     "output_type": "display_data"
    }
   ],
   "source": [
    "plt.scatter(house['condition'],house['price'])"
   ]
  },
  {
   "cell_type": "code",
   "execution_count": 8,
   "metadata": {},
   "outputs": [
    {
     "data": {
      "text/plain": [
       "<matplotlib.collections.PathCollection at 0x17c028e90>"
      ]
     },
     "execution_count": 8,
     "metadata": {},
     "output_type": "execute_result"
    },
    {
     "data": {
      "image/png": "[encoded data removed]",
      "text/plain": [
       "<Figure size 640x480 with 1 Axes>"
      ]
     },
     "metadata": {},
     "output_type": "display_data"
    }
   ],
   "source": [
    "plt.scatter(house['grade'],house['price'])"
   ]
  },
  {
   "cell_type": "code",
   "execution_count": 137,
   "metadata": {},
   "outputs": [
    {
     "data": {
      "text/plain": [
       "<matplotlib.collections.PathCollection at 0x289b47990>"
      ]
     },
     "execution_count": 137,
     "metadata": {},
     "output_type": "execute_result"
    },
    {
     "data": {
      "image/png": "[encoded data removed]",
      "text/plain": [
       "<Figure size 640x480 with 1 Axes>"
      ]
     },
     "metadata": {},
     "output_type": "display_data"
    }
   ],
   "source": [
    "plt.scatter(house['yr_built'],house['price'])"
   ]
  },
  {
   "cell_type": "code",
   "execution_count": 9,
   "metadata": {},
   "outputs": [
    {
     "data": {
      "text/plain": [
       "<matplotlib.collections.PathCollection at 0x17c09e650>"
      ]
     },
     "execution_count": 9,
     "metadata": {},
     "output_type": "execute_result"
    },
    {
     "data": {
      "image/png": "[encoded data removed]",
      "text/plain": [
       "<Figure size 640x480 with 1 Axes>"
      ]
     },
     "metadata": {},
     "output_type": "display_data"
    }
   ],
   "source": [
    "plt.scatter(house['waterfront'],house['price'])"
   ]
  },
  {
   "cell_type": "code",
   "execution_count": 10,
   "metadata": {},
   "outputs": [
    {
     "data": {
      "text/plain": [
       "<matplotlib.collections.PathCollection at 0x17c17f790>"
      ]
     },
     "execution_count": 10,
     "metadata": {},
     "output_type": "execute_result"
    },
    {
     "data": {
      "image/png": "[encoded data removed]",
      "text/plain": [
       "<Figure size 640x480 with 1 Axes>"
      ]
     },
     "metadata": {},
     "output_type": "display_data"
    }
   ],
   "source": [
    "plt.scatter(house['bedrooms'],house['price'])"
   ]
  },
  {
   "cell_type": "code",
   "execution_count": 11,
   "metadata": {},
   "outputs": [
    {
     "data": {
      "text/plain": [
       "<Axes: ylabel='bedrooms'>"
      ]
     },
     "execution_count": 11,
     "metadata": {},
     "output_type": "execute_result"
    },
    {
     "data": {
      "image/png": "[encoded data removed]",
      "text/plain": [
       "<Figure size 640x480 with 1 Axes>"
      ]
     },
     "metadata": {},
     "output_type": "display_data"
    }
   ],
   "source": [
    "sns.boxplot(y = house['bedrooms'])"
   ]
  },
  {
   "cell_type": "code",
   "execution_count": 12,
   "metadata": {},
   "outputs": [
    {
     "data": {
      "text/html": [
       "<div>\n",
       "<style scoped>\n",
       "    .dataframe tbody tr th:only-of-type {\n",
       "        vertical-align: middle;\n",
       "    }\n",
       "\n",
       "    .dataframe tbody tr th {\n",
       "        vertical-align: top;\n",
       "    }\n",
       "\n",
       "    .dataframe thead th {\n",
       "        text-align: right;\n",
       "    }\n",
       "</style>\n",
       "<table border=\"1\" class=\"dataframe\">\n",
       "  <thead>\n",
       "    <tr style=\"text-align: right;\">\n",
       "      <th></th>\n",
       "      <th>id</th>\n",
       "      <th>date</th>\n",
       "      <th>price</th>\n",
       "      <th>bedrooms</th>\n",
       "      <th>bathrooms</th>\n",
       "      <th>sqft_living</th>\n",
       "      <th>sqft_lot</th>\n",
       "      <th>floors</th>\n",
       "      <th>waterfront</th>\n",
       "      <th>view</th>\n",
       "      <th>...</th>\n",
       "      <th>grade</th>\n",
       "      <th>sqft_above</th>\n",
       "      <th>sqft_basement</th>\n",
       "      <th>yr_built</th>\n",
       "      <th>yr_renovated</th>\n",
       "      <th>zipcode</th>\n",
       "      <th>lat</th>\n",
       "      <th>long</th>\n",
       "      <th>sqft_living15</th>\n",
       "      <th>sqft_lot15</th>\n",
       "    </tr>\n",
       "  </thead>\n",
       "  <tbody>\n",
       "    <tr>\n",
       "      <th>875</th>\n",
       "      <td>6306400140</td>\n",
       "      <td>20140612T000000</td>\n",
       "      <td>1095000.0</td>\n",
       "      <td>0</td>\n",
       "      <td>0.00</td>\n",
       "      <td>3064</td>\n",
       "      <td>4764</td>\n",
       "      <td>3.5</td>\n",
       "      <td>0</td>\n",
       "      <td>2</td>\n",
       "      <td>...</td>\n",
       "      <td>7</td>\n",
       "      <td>3064</td>\n",
       "      <td>0</td>\n",
       "      <td>1990</td>\n",
       "      <td>0</td>\n",
       "      <td>98102</td>\n",
       "      <td>47.6362</td>\n",
       "      <td>-122.322</td>\n",
       "      <td>2360</td>\n",
       "      <td>4000</td>\n",
       "    </tr>\n",
       "    <tr>\n",
       "      <th>3119</th>\n",
       "      <td>3918400017</td>\n",
       "      <td>20150205T000000</td>\n",
       "      <td>380000.0</td>\n",
       "      <td>0</td>\n",
       "      <td>0.00</td>\n",
       "      <td>1470</td>\n",
       "      <td>979</td>\n",
       "      <td>3.0</td>\n",
       "      <td>0</td>\n",
       "      <td>2</td>\n",
       "      <td>...</td>\n",
       "      <td>8</td>\n",
       "      <td>1470</td>\n",
       "      <td>0</td>\n",
       "      <td>2006</td>\n",
       "      <td>0</td>\n",
       "      <td>98133</td>\n",
       "      <td>47.7145</td>\n",
       "      <td>-122.356</td>\n",
       "      <td>1470</td>\n",
       "      <td>1399</td>\n",
       "    </tr>\n",
       "    <tr>\n",
       "      <th>3467</th>\n",
       "      <td>1453602309</td>\n",
       "      <td>20140805T000000</td>\n",
       "      <td>288000.0</td>\n",
       "      <td>0</td>\n",
       "      <td>1.50</td>\n",
       "      <td>1430</td>\n",
       "      <td>1650</td>\n",
       "      <td>3.0</td>\n",
       "      <td>0</td>\n",
       "      <td>0</td>\n",
       "      <td>...</td>\n",
       "      <td>7</td>\n",
       "      <td>1430</td>\n",
       "      <td>0</td>\n",
       "      <td>1999</td>\n",
       "      <td>0</td>\n",
       "      <td>98125</td>\n",
       "      <td>47.7222</td>\n",
       "      <td>-122.290</td>\n",
       "      <td>1430</td>\n",
       "      <td>1650</td>\n",
       "    </tr>\n",
       "    <tr>\n",
       "      <th>4868</th>\n",
       "      <td>6896300380</td>\n",
       "      <td>20141002T000000</td>\n",
       "      <td>228000.0</td>\n",
       "      <td>0</td>\n",
       "      <td>1.00</td>\n",
       "      <td>390</td>\n",
       "      <td>5900</td>\n",
       "      <td>1.0</td>\n",
       "      <td>0</td>\n",
       "      <td>0</td>\n",
       "      <td>...</td>\n",
       "      <td>4</td>\n",
       "      <td>390</td>\n",
       "      <td>0</td>\n",
       "      <td>1953</td>\n",
       "      <td>0</td>\n",
       "      <td>98118</td>\n",
       "      <td>47.5260</td>\n",
       "      <td>-122.261</td>\n",
       "      <td>2170</td>\n",
       "      <td>6000</td>\n",
       "    </tr>\n",
       "    <tr>\n",
       "      <th>6994</th>\n",
       "      <td>2954400190</td>\n",
       "      <td>20140624T000000</td>\n",
       "      <td>1295650.0</td>\n",
       "      <td>0</td>\n",
       "      <td>0.00</td>\n",
       "      <td>4810</td>\n",
       "      <td>28008</td>\n",
       "      <td>2.0</td>\n",
       "      <td>0</td>\n",
       "      <td>0</td>\n",
       "      <td>...</td>\n",
       "      <td>12</td>\n",
       "      <td>4810</td>\n",
       "      <td>0</td>\n",
       "      <td>1990</td>\n",
       "      <td>0</td>\n",
       "      <td>98053</td>\n",
       "      <td>47.6642</td>\n",
       "      <td>-122.069</td>\n",
       "      <td>4740</td>\n",
       "      <td>35061</td>\n",
       "    </tr>\n",
       "    <tr>\n",
       "      <th>8477</th>\n",
       "      <td>2569500210</td>\n",
       "      <td>20141117T000000</td>\n",
       "      <td>339950.0</td>\n",
       "      <td>0</td>\n",
       "      <td>2.50</td>\n",
       "      <td>2290</td>\n",
       "      <td>8319</td>\n",
       "      <td>2.0</td>\n",
       "      <td>0</td>\n",
       "      <td>0</td>\n",
       "      <td>...</td>\n",
       "      <td>8</td>\n",
       "      <td>2290</td>\n",
       "      <td>0</td>\n",
       "      <td>1985</td>\n",
       "      <td>0</td>\n",
       "      <td>98042</td>\n",
       "      <td>47.3473</td>\n",
       "      <td>-122.151</td>\n",
       "      <td>2500</td>\n",
       "      <td>8751</td>\n",
       "    </tr>\n",
       "    <tr>\n",
       "      <th>8484</th>\n",
       "      <td>2310060040</td>\n",
       "      <td>20140925T000000</td>\n",
       "      <td>240000.0</td>\n",
       "      <td>0</td>\n",
       "      <td>2.50</td>\n",
       "      <td>1810</td>\n",
       "      <td>5669</td>\n",
       "      <td>2.0</td>\n",
       "      <td>0</td>\n",
       "      <td>0</td>\n",
       "      <td>...</td>\n",
       "      <td>7</td>\n",
       "      <td>1810</td>\n",
       "      <td>0</td>\n",
       "      <td>2003</td>\n",
       "      <td>0</td>\n",
       "      <td>98038</td>\n",
       "      <td>47.3493</td>\n",
       "      <td>-122.053</td>\n",
       "      <td>1810</td>\n",
       "      <td>5685</td>\n",
       "    </tr>\n",
       "    <tr>\n",
       "      <th>9773</th>\n",
       "      <td>3374500520</td>\n",
       "      <td>20150429T000000</td>\n",
       "      <td>355000.0</td>\n",
       "      <td>0</td>\n",
       "      <td>0.00</td>\n",
       "      <td>2460</td>\n",
       "      <td>8049</td>\n",
       "      <td>2.0</td>\n",
       "      <td>0</td>\n",
       "      <td>0</td>\n",
       "      <td>...</td>\n",
       "      <td>8</td>\n",
       "      <td>2460</td>\n",
       "      <td>0</td>\n",
       "      <td>1990</td>\n",
       "      <td>0</td>\n",
       "      <td>98031</td>\n",
       "      <td>47.4095</td>\n",
       "      <td>-122.168</td>\n",
       "      <td>2520</td>\n",
       "      <td>8050</td>\n",
       "    </tr>\n",
       "    <tr>\n",
       "      <th>9854</th>\n",
       "      <td>7849202190</td>\n",
       "      <td>20141223T000000</td>\n",
       "      <td>235000.0</td>\n",
       "      <td>0</td>\n",
       "      <td>0.00</td>\n",
       "      <td>1470</td>\n",
       "      <td>4800</td>\n",
       "      <td>2.0</td>\n",
       "      <td>0</td>\n",
       "      <td>0</td>\n",
       "      <td>...</td>\n",
       "      <td>7</td>\n",
       "      <td>1470</td>\n",
       "      <td>0</td>\n",
       "      <td>1996</td>\n",
       "      <td>0</td>\n",
       "      <td>98065</td>\n",
       "      <td>47.5265</td>\n",
       "      <td>-121.828</td>\n",
       "      <td>1060</td>\n",
       "      <td>7200</td>\n",
       "    </tr>\n",
       "    <tr>\n",
       "      <th>12653</th>\n",
       "      <td>7849202299</td>\n",
       "      <td>20150218T000000</td>\n",
       "      <td>320000.0</td>\n",
       "      <td>0</td>\n",
       "      <td>2.50</td>\n",
       "      <td>1490</td>\n",
       "      <td>7111</td>\n",
       "      <td>2.0</td>\n",
       "      <td>0</td>\n",
       "      <td>0</td>\n",
       "      <td>...</td>\n",
       "      <td>7</td>\n",
       "      <td>1490</td>\n",
       "      <td>0</td>\n",
       "      <td>1999</td>\n",
       "      <td>0</td>\n",
       "      <td>98065</td>\n",
       "      <td>47.5261</td>\n",
       "      <td>-121.826</td>\n",
       "      <td>1500</td>\n",
       "      <td>4675</td>\n",
       "    </tr>\n",
       "    <tr>\n",
       "      <th>14423</th>\n",
       "      <td>9543000205</td>\n",
       "      <td>20150413T000000</td>\n",
       "      <td>139950.0</td>\n",
       "      <td>0</td>\n",
       "      <td>0.00</td>\n",
       "      <td>844</td>\n",
       "      <td>4269</td>\n",
       "      <td>1.0</td>\n",
       "      <td>0</td>\n",
       "      <td>0</td>\n",
       "      <td>...</td>\n",
       "      <td>7</td>\n",
       "      <td>844</td>\n",
       "      <td>0</td>\n",
       "      <td>1913</td>\n",
       "      <td>0</td>\n",
       "      <td>98001</td>\n",
       "      <td>47.2781</td>\n",
       "      <td>-122.250</td>\n",
       "      <td>1380</td>\n",
       "      <td>9600</td>\n",
       "    </tr>\n",
       "    <tr>\n",
       "      <th>18379</th>\n",
       "      <td>1222029077</td>\n",
       "      <td>20141029T000000</td>\n",
       "      <td>265000.0</td>\n",
       "      <td>0</td>\n",
       "      <td>0.75</td>\n",
       "      <td>384</td>\n",
       "      <td>213444</td>\n",
       "      <td>1.0</td>\n",
       "      <td>0</td>\n",
       "      <td>0</td>\n",
       "      <td>...</td>\n",
       "      <td>4</td>\n",
       "      <td>384</td>\n",
       "      <td>0</td>\n",
       "      <td>2003</td>\n",
       "      <td>0</td>\n",
       "      <td>98070</td>\n",
       "      <td>47.4177</td>\n",
       "      <td>-122.491</td>\n",
       "      <td>1920</td>\n",
       "      <td>224341</td>\n",
       "    </tr>\n",
       "    <tr>\n",
       "      <th>19452</th>\n",
       "      <td>3980300371</td>\n",
       "      <td>20140926T000000</td>\n",
       "      <td>142000.0</td>\n",
       "      <td>0</td>\n",
       "      <td>0.00</td>\n",
       "      <td>290</td>\n",
       "      <td>20875</td>\n",
       "      <td>1.0</td>\n",
       "      <td>0</td>\n",
       "      <td>0</td>\n",
       "      <td>...</td>\n",
       "      <td>1</td>\n",
       "      <td>290</td>\n",
       "      <td>0</td>\n",
       "      <td>1963</td>\n",
       "      <td>0</td>\n",
       "      <td>98024</td>\n",
       "      <td>47.5308</td>\n",
       "      <td>-121.888</td>\n",
       "      <td>1620</td>\n",
       "      <td>22850</td>\n",
       "    </tr>\n",
       "  </tbody>\n",
       "</table>\n",
       "<p>13 rows × 21 columns</p>\n",
       "</div>"
      ],
      "text/plain": [
       "               id             date      price  bedrooms  bathrooms   \n",
       "875    6306400140  20140612T000000  1095000.0         0       0.00  \\\n",
       "3119   3918400017  20150205T000000   380000.0         0       0.00   \n",
       "3467   1453602309  20140805T000000   288000.0         0       1.50   \n",
       "4868   6896300380  20141002T000000   228000.0         0       1.00   \n",
       "6994   2954400190  20140624T000000  1295650.0         0       0.00   \n",
       "8477   2569500210  20141117T000000   339950.0         0       2.50   \n",
       "8484   2310060040  20140925T000000   240000.0         0       2.50   \n",
       "9773   3374500520  20150429T000000   355000.0         0       0.00   \n",
       "9854   7849202190  20141223T000000   235000.0         0       0.00   \n",
       "12653  7849202299  20150218T000000   320000.0         0       2.50   \n",
       "14423  9543000205  20150413T000000   139950.0         0       0.00   \n",
       "18379  1222029077  20141029T000000   265000.0         0       0.75   \n",
       "19452  3980300371  20140926T000000   142000.0         0       0.00   \n",
       "\n",
       "       sqft_living  sqft_lot  floors  waterfront  view  ...  grade   \n",
       "875           3064      4764     3.5           0     2  ...      7  \\\n",
       "3119          1470       979     3.0           0     2  ...      8   \n",
       "3467          1430      1650     3.0           0     0  ...      7   \n",
       "4868           390      5900     1.0           0     0  ...      4   \n",
       "6994          4810     28008     2.0           0     0  ...     12   \n",
       "8477          2290      8319     2.0           0     0  ...      8   \n",
       "8484          1810      5669     2.0           0     0  ...      7   \n",
       "9773          2460      8049     2.0           0     0  ...      8   \n",
       "9854          1470      4800     2.0           0     0  ...      7   \n",
       "12653         1490      7111     2.0           0     0  ...      7   \n",
       "14423          844      4269     1.0           0     0  ...      7   \n",
       "18379          384    213444     1.0           0     0  ...      4   \n",
       "19452          290     20875     1.0           0     0  ...      1   \n",
       "\n",
       "       sqft_above  sqft_basement  yr_built  yr_renovated  zipcode      lat   \n",
       "875          3064              0      1990             0    98102  47.6362  \\\n",
       "3119         1470              0      2006             0    98133  47.7145   \n",
       "3467         1430              0      1999             0    98125  47.7222   \n",
       "4868          390              0      1953             0    98118  47.5260   \n",
       "6994         4810              0      1990             0    98053  47.6642   \n",
       "8477         2290              0      1985             0    98042  47.3473   \n",
       "8484         1810              0      2003             0    98038  47.3493   \n",
       "9773         2460              0      1990             0    98031  47.4095   \n",
       "9854         1470              0      1996             0    98065  47.5265   \n",
       "12653        1490              0      1999             0    98065  47.5261   \n",
       "14423         844              0      1913             0    98001  47.2781   \n",
       "18379         384              0      2003             0    98070  47.4177   \n",
       "19452         290              0      1963             0    98024  47.5308   \n",
       "\n",
       "          long  sqft_living15  sqft_lot15  \n",
       "875   -122.322           2360        4000  \n",
       "3119  -122.356           1470        1399  \n",
       "3467  -122.290           1430        1650  \n",
       "4868  -122.261           2170        6000  \n",
       "6994  -122.069           4740       35061  \n",
       "8477  -122.151           2500        8751  \n",
       "8484  -122.053           1810        5685  \n",
       "9773  -122.168           2520        8050  \n",
       "9854  -121.828           1060        7200  \n",
       "12653 -121.826           1500        4675  \n",
       "14423 -122.250           1380        9600  \n",
       "18379 -122.491           1920      224341  \n",
       "19452 -121.888           1620       22850  \n",
       "\n",
       "[13 rows x 21 columns]"
      ]
     },
     "execution_count": 12,
     "metadata": {},
     "output_type": "execute_result"
    }
   ],
   "source": [
    "house[house[\"bedrooms\"] > 15]\n",
    "house[house[\"bedrooms\"] < 1]"
   ]
  },
  {
   "cell_type": "code",
   "execution_count": 87,
   "metadata": {},
   "outputs": [],
   "source": [
    "house.drop(875, axis=0, inplace=True)\n",
    "house.drop(3119, axis=0, inplace=True)\n",
    "house.drop(3467, axis=0, inplace=True)\n",
    "house.drop(4868, axis=0, inplace=True)\n",
    "house.drop(6994, axis=0, inplace=True)\n",
    "house.drop(8477, axis=0, inplace=True)\n",
    "house.drop(8484, axis=0, inplace=True)\n",
    "house.drop(9773, axis=0, inplace=True)\n",
    "house.drop(9854, axis=0, inplace=True)\n",
    "house.drop(12653, axis=0, inplace=True)\n",
    "house.drop(14423, axis=0, inplace=True)\n",
    "house.drop(18379, axis=0, inplace=True)\n",
    "house.drop(19452, axis=0, inplace=True)"
   ]
  },
  {
   "cell_type": "code",
   "execution_count": 14,
   "metadata": {},
   "outputs": [
    {
     "data": {
      "text/plain": [
       "<Axes: ylabel='bathrooms'>"
      ]
     },
     "execution_count": 14,
     "metadata": {},
     "output_type": "execute_result"
    },
    {
     "data": {
      "image/png": "[encoded data removed]",
      "text/plain": [
       "<Figure size 640x480 with 1 Axes>"
      ]
     },
     "metadata": {},
     "output_type": "display_data"
    }
   ],
   "source": [
    "sns.boxplot(y = house['bathrooms'])"
   ]
  },
  {
   "cell_type": "code",
   "execution_count": 15,
   "metadata": {},
   "outputs": [
    {
     "data": {
      "text/html": [
       "<div>\n",
       "<style scoped>\n",
       "    .dataframe tbody tr th:only-of-type {\n",
       "        vertical-align: middle;\n",
       "    }\n",
       "\n",
       "    .dataframe tbody tr th {\n",
       "        vertical-align: top;\n",
       "    }\n",
       "\n",
       "    .dataframe thead th {\n",
       "        text-align: right;\n",
       "    }\n",
       "</style>\n",
       "<table border=\"1\" class=\"dataframe\">\n",
       "  <thead>\n",
       "    <tr style=\"text-align: right;\">\n",
       "      <th></th>\n",
       "      <th>id</th>\n",
       "      <th>date</th>\n",
       "      <th>price</th>\n",
       "      <th>bedrooms</th>\n",
       "      <th>bathrooms</th>\n",
       "      <th>sqft_living</th>\n",
       "      <th>sqft_lot</th>\n",
       "      <th>floors</th>\n",
       "      <th>waterfront</th>\n",
       "      <th>view</th>\n",
       "      <th>...</th>\n",
       "      <th>grade</th>\n",
       "      <th>sqft_above</th>\n",
       "      <th>sqft_basement</th>\n",
       "      <th>yr_built</th>\n",
       "      <th>yr_renovated</th>\n",
       "      <th>zipcode</th>\n",
       "      <th>lat</th>\n",
       "      <th>long</th>\n",
       "      <th>sqft_living15</th>\n",
       "      <th>sqft_lot15</th>\n",
       "    </tr>\n",
       "  </thead>\n",
       "  <tbody>\n",
       "    <tr>\n",
       "      <th>4024</th>\n",
       "      <td>9175600025</td>\n",
       "      <td>20141007T000000</td>\n",
       "      <td>800000.0</td>\n",
       "      <td>7</td>\n",
       "      <td>6.75</td>\n",
       "      <td>7480</td>\n",
       "      <td>41664</td>\n",
       "      <td>2.0</td>\n",
       "      <td>0</td>\n",
       "      <td>2</td>\n",
       "      <td>...</td>\n",
       "      <td>11</td>\n",
       "      <td>5080</td>\n",
       "      <td>2400</td>\n",
       "      <td>1953</td>\n",
       "      <td>0</td>\n",
       "      <td>98166</td>\n",
       "      <td>47.4643</td>\n",
       "      <td>-122.368</td>\n",
       "      <td>2810</td>\n",
       "      <td>33190</td>\n",
       "    </tr>\n",
       "    <tr>\n",
       "      <th>7252</th>\n",
       "      <td>6762700020</td>\n",
       "      <td>20141013T000000</td>\n",
       "      <td>7700000.0</td>\n",
       "      <td>6</td>\n",
       "      <td>8.00</td>\n",
       "      <td>12050</td>\n",
       "      <td>27600</td>\n",
       "      <td>2.5</td>\n",
       "      <td>0</td>\n",
       "      <td>3</td>\n",
       "      <td>...</td>\n",
       "      <td>13</td>\n",
       "      <td>8570</td>\n",
       "      <td>3480</td>\n",
       "      <td>1910</td>\n",
       "      <td>1987</td>\n",
       "      <td>98102</td>\n",
       "      <td>47.6298</td>\n",
       "      <td>-122.323</td>\n",
       "      <td>3940</td>\n",
       "      <td>8800</td>\n",
       "    </tr>\n",
       "    <tr>\n",
       "      <th>8092</th>\n",
       "      <td>1924059029</td>\n",
       "      <td>20140617T000000</td>\n",
       "      <td>4668000.0</td>\n",
       "      <td>5</td>\n",
       "      <td>6.75</td>\n",
       "      <td>9640</td>\n",
       "      <td>13068</td>\n",
       "      <td>1.0</td>\n",
       "      <td>1</td>\n",
       "      <td>4</td>\n",
       "      <td>...</td>\n",
       "      <td>12</td>\n",
       "      <td>4820</td>\n",
       "      <td>4820</td>\n",
       "      <td>1983</td>\n",
       "      <td>2009</td>\n",
       "      <td>98040</td>\n",
       "      <td>47.5570</td>\n",
       "      <td>-122.210</td>\n",
       "      <td>3270</td>\n",
       "      <td>10454</td>\n",
       "    </tr>\n",
       "    <tr>\n",
       "      <th>8546</th>\n",
       "      <td>424049043</td>\n",
       "      <td>20140811T000000</td>\n",
       "      <td>450000.0</td>\n",
       "      <td>9</td>\n",
       "      <td>7.50</td>\n",
       "      <td>4050</td>\n",
       "      <td>6504</td>\n",
       "      <td>2.0</td>\n",
       "      <td>0</td>\n",
       "      <td>0</td>\n",
       "      <td>...</td>\n",
       "      <td>7</td>\n",
       "      <td>4050</td>\n",
       "      <td>0</td>\n",
       "      <td>1996</td>\n",
       "      <td>0</td>\n",
       "      <td>98144</td>\n",
       "      <td>47.5923</td>\n",
       "      <td>-122.301</td>\n",
       "      <td>1448</td>\n",
       "      <td>3866</td>\n",
       "    </tr>\n",
       "    <tr>\n",
       "      <th>9254</th>\n",
       "      <td>9208900037</td>\n",
       "      <td>20140919T000000</td>\n",
       "      <td>6885000.0</td>\n",
       "      <td>6</td>\n",
       "      <td>7.75</td>\n",
       "      <td>9890</td>\n",
       "      <td>31374</td>\n",
       "      <td>2.0</td>\n",
       "      <td>0</td>\n",
       "      <td>4</td>\n",
       "      <td>...</td>\n",
       "      <td>13</td>\n",
       "      <td>8860</td>\n",
       "      <td>1030</td>\n",
       "      <td>2001</td>\n",
       "      <td>0</td>\n",
       "      <td>98039</td>\n",
       "      <td>47.6305</td>\n",
       "      <td>-122.240</td>\n",
       "      <td>4540</td>\n",
       "      <td>42730</td>\n",
       "    </tr>\n",
       "    <tr>\n",
       "      <th>12777</th>\n",
       "      <td>1225069038</td>\n",
       "      <td>20140505T000000</td>\n",
       "      <td>2280000.0</td>\n",
       "      <td>7</td>\n",
       "      <td>8.00</td>\n",
       "      <td>13540</td>\n",
       "      <td>307752</td>\n",
       "      <td>3.0</td>\n",
       "      <td>0</td>\n",
       "      <td>4</td>\n",
       "      <td>...</td>\n",
       "      <td>12</td>\n",
       "      <td>9410</td>\n",
       "      <td>4130</td>\n",
       "      <td>1999</td>\n",
       "      <td>0</td>\n",
       "      <td>98053</td>\n",
       "      <td>47.6675</td>\n",
       "      <td>-121.986</td>\n",
       "      <td>4850</td>\n",
       "      <td>217800</td>\n",
       "    </tr>\n",
       "    <tr>\n",
       "      <th>14556</th>\n",
       "      <td>2303900035</td>\n",
       "      <td>20140611T000000</td>\n",
       "      <td>2888000.0</td>\n",
       "      <td>5</td>\n",
       "      <td>6.25</td>\n",
       "      <td>8670</td>\n",
       "      <td>64033</td>\n",
       "      <td>2.0</td>\n",
       "      <td>0</td>\n",
       "      <td>4</td>\n",
       "      <td>...</td>\n",
       "      <td>13</td>\n",
       "      <td>6120</td>\n",
       "      <td>2550</td>\n",
       "      <td>1965</td>\n",
       "      <td>2003</td>\n",
       "      <td>98177</td>\n",
       "      <td>47.7295</td>\n",
       "      <td>-122.372</td>\n",
       "      <td>4140</td>\n",
       "      <td>81021</td>\n",
       "    </tr>\n",
       "    <tr>\n",
       "      <th>18302</th>\n",
       "      <td>6072800246</td>\n",
       "      <td>20140702T000000</td>\n",
       "      <td>3300000.0</td>\n",
       "      <td>5</td>\n",
       "      <td>6.25</td>\n",
       "      <td>8020</td>\n",
       "      <td>21738</td>\n",
       "      <td>2.0</td>\n",
       "      <td>0</td>\n",
       "      <td>0</td>\n",
       "      <td>...</td>\n",
       "      <td>11</td>\n",
       "      <td>8020</td>\n",
       "      <td>0</td>\n",
       "      <td>2001</td>\n",
       "      <td>0</td>\n",
       "      <td>98006</td>\n",
       "      <td>47.5675</td>\n",
       "      <td>-122.189</td>\n",
       "      <td>4160</td>\n",
       "      <td>18969</td>\n",
       "    </tr>\n",
       "    <tr>\n",
       "      <th>20578</th>\n",
       "      <td>424069279</td>\n",
       "      <td>20150328T000000</td>\n",
       "      <td>1180000.0</td>\n",
       "      <td>6</td>\n",
       "      <td>6.50</td>\n",
       "      <td>6260</td>\n",
       "      <td>10955</td>\n",
       "      <td>2.0</td>\n",
       "      <td>0</td>\n",
       "      <td>0</td>\n",
       "      <td>...</td>\n",
       "      <td>11</td>\n",
       "      <td>4840</td>\n",
       "      <td>1420</td>\n",
       "      <td>2007</td>\n",
       "      <td>0</td>\n",
       "      <td>98075</td>\n",
       "      <td>47.5947</td>\n",
       "      <td>-122.039</td>\n",
       "      <td>2710</td>\n",
       "      <td>12550</td>\n",
       "    </tr>\n",
       "    <tr>\n",
       "      <th>21506</th>\n",
       "      <td>2524069097</td>\n",
       "      <td>20140509T000000</td>\n",
       "      <td>2238890.0</td>\n",
       "      <td>5</td>\n",
       "      <td>6.50</td>\n",
       "      <td>7270</td>\n",
       "      <td>130017</td>\n",
       "      <td>2.0</td>\n",
       "      <td>0</td>\n",
       "      <td>0</td>\n",
       "      <td>...</td>\n",
       "      <td>12</td>\n",
       "      <td>6420</td>\n",
       "      <td>850</td>\n",
       "      <td>2010</td>\n",
       "      <td>0</td>\n",
       "      <td>98027</td>\n",
       "      <td>47.5371</td>\n",
       "      <td>-121.982</td>\n",
       "      <td>1800</td>\n",
       "      <td>44890</td>\n",
       "    </tr>\n",
       "  </tbody>\n",
       "</table>\n",
       "<p>10 rows × 21 columns</p>\n",
       "</div>"
      ],
      "text/plain": [
       "               id             date      price  bedrooms  bathrooms   \n",
       "4024   9175600025  20141007T000000   800000.0         7       6.75  \\\n",
       "7252   6762700020  20141013T000000  7700000.0         6       8.00   \n",
       "8092   1924059029  20140617T000000  4668000.0         5       6.75   \n",
       "8546    424049043  20140811T000000   450000.0         9       7.50   \n",
       "9254   9208900037  20140919T000000  6885000.0         6       7.75   \n",
       "12777  1225069038  20140505T000000  2280000.0         7       8.00   \n",
       "14556  2303900035  20140611T000000  2888000.0         5       6.25   \n",
       "18302  6072800246  20140702T000000  3300000.0         5       6.25   \n",
       "20578   424069279  20150328T000000  1180000.0         6       6.50   \n",
       "21506  2524069097  20140509T000000  2238890.0         5       6.50   \n",
       "\n",
       "       sqft_living  sqft_lot  floors  waterfront  view  ...  grade   \n",
       "4024          7480     41664     2.0           0     2  ...     11  \\\n",
       "7252         12050     27600     2.5           0     3  ...     13   \n",
       "8092          9640     13068     1.0           1     4  ...     12   \n",
       "8546          4050      6504     2.0           0     0  ...      7   \n",
       "9254          9890     31374     2.0           0     4  ...     13   \n",
       "12777        13540    307752     3.0           0     4  ...     12   \n",
       "14556         8670     64033     2.0           0     4  ...     13   \n",
       "18302         8020     21738     2.0           0     0  ...     11   \n",
       "20578         6260     10955     2.0           0     0  ...     11   \n",
       "21506         7270    130017     2.0           0     0  ...     12   \n",
       "\n",
       "       sqft_above  sqft_basement  yr_built  yr_renovated  zipcode      lat   \n",
       "4024         5080           2400      1953             0    98166  47.4643  \\\n",
       "7252         8570           3480      1910          1987    98102  47.6298   \n",
       "8092         4820           4820      1983          2009    98040  47.5570   \n",
       "8546         4050              0      1996             0    98144  47.5923   \n",
       "9254         8860           1030      2001             0    98039  47.6305   \n",
       "12777        9410           4130      1999             0    98053  47.6675   \n",
       "14556        6120           2550      1965          2003    98177  47.7295   \n",
       "18302        8020              0      2001             0    98006  47.5675   \n",
       "20578        4840           1420      2007             0    98075  47.5947   \n",
       "21506        6420            850      2010             0    98027  47.5371   \n",
       "\n",
       "          long  sqft_living15  sqft_lot15  \n",
       "4024  -122.368           2810       33190  \n",
       "7252  -122.323           3940        8800  \n",
       "8092  -122.210           3270       10454  \n",
       "8546  -122.301           1448        3866  \n",
       "9254  -122.240           4540       42730  \n",
       "12777 -121.986           4850      217800  \n",
       "14556 -122.372           4140       81021  \n",
       "18302 -122.189           4160       18969  \n",
       "20578 -122.039           2710       12550  \n",
       "21506 -121.982           1800       44890  \n",
       "\n",
       "[10 rows x 21 columns]"
      ]
     },
     "execution_count": 15,
     "metadata": {},
     "output_type": "execute_result"
    }
   ],
   "source": [
    "house[house[\"bathrooms\"] > 6]"
   ]
  },
  {
   "cell_type": "code",
   "execution_count": 88,
   "metadata": {},
   "outputs": [],
   "source": [
    "house.drop(4024, axis=0, inplace=True)\n",
    "house.drop(7252, axis=0, inplace=True)\n",
    "house.drop(8092, axis=0, inplace=True)\n",
    "house.drop(8546, axis=0, inplace=True)\n",
    "house.drop(9254, axis=0, inplace=True)\n",
    "house.drop(12777, axis=0, inplace=True)\n",
    "house.drop(14556, axis=0, inplace=True)\n",
    "house.drop(18302, axis=0, inplace=True)\n",
    "house.drop(20578, axis=0, inplace=True)\n",
    "house.drop(21506, axis=0, inplace=True)"
   ]
  },
  {
   "cell_type": "code",
   "execution_count": 17,
   "metadata": {},
   "outputs": [
    {
     "data": {
      "text/plain": [
       "<matplotlib.collections.PathCollection at 0x17c2c7e90>"
      ]
     },
     "execution_count": 17,
     "metadata": {},
     "output_type": "execute_result"
    },
    {
     "data": {
      "image/png": "[encoded data removed]",
      "text/plain": [
       "<Figure size 640x480 with 1 Axes>"
      ]
     },
     "metadata": {},
     "output_type": "display_data"
    }
   ],
   "source": [
    "plt.scatter(house['bathrooms'],house['price'])"
   ]
  },
  {
   "cell_type": "code",
   "execution_count": 18,
   "metadata": {},
   "outputs": [
    {
     "data": {
      "text/plain": [
       "<matplotlib.collections.PathCollection at 0x17c282290>"
      ]
     },
     "execution_count": 18,
     "metadata": {},
     "output_type": "execute_result"
    },
    {
     "data": {
      "image/png": "[encoded data removed]",
      "text/plain": [
       "<Figure size 640x480 with 1 Axes>"
      ]
     },
     "metadata": {},
     "output_type": "display_data"
    }
   ],
   "source": [
    "plt.scatter(house['sqft_living'],house['price'])"
   ]
  },
  {
   "cell_type": "code",
   "execution_count": 19,
   "metadata": {},
   "outputs": [
    {
     "data": {
      "text/plain": [
       "<Axes: ylabel='sqft_living'>"
      ]
     },
     "execution_count": 19,
     "metadata": {},
     "output_type": "execute_result"
    },
    {
     "data": {
      "image/png": "[encoded data removed]",
      "text/plain": [
       "<Figure size 640x480 with 1 Axes>"
      ]
     },
     "metadata": {},
     "output_type": "display_data"
    }
   ],
   "source": [
    "sns.boxplot(y = house['sqft_living'])"
   ]
  },
  {
   "cell_type": "code",
   "execution_count": 20,
   "metadata": {},
   "outputs": [
    {
     "data": {
      "text/html": [
       "<div>\n",
       "<style scoped>\n",
       "    .dataframe tbody tr th:only-of-type {\n",
       "        vertical-align: middle;\n",
       "    }\n",
       "\n",
       "    .dataframe tbody tr th {\n",
       "        vertical-align: top;\n",
       "    }\n",
       "\n",
       "    .dataframe thead th {\n",
       "        text-align: right;\n",
       "    }\n",
       "</style>\n",
       "<table border=\"1\" class=\"dataframe\">\n",
       "  <thead>\n",
       "    <tr style=\"text-align: right;\">\n",
       "      <th></th>\n",
       "      <th>id</th>\n",
       "      <th>date</th>\n",
       "      <th>price</th>\n",
       "      <th>bedrooms</th>\n",
       "      <th>bathrooms</th>\n",
       "      <th>sqft_living</th>\n",
       "      <th>sqft_lot</th>\n",
       "      <th>floors</th>\n",
       "      <th>waterfront</th>\n",
       "      <th>view</th>\n",
       "      <th>...</th>\n",
       "      <th>grade</th>\n",
       "      <th>sqft_above</th>\n",
       "      <th>sqft_basement</th>\n",
       "      <th>yr_built</th>\n",
       "      <th>yr_renovated</th>\n",
       "      <th>zipcode</th>\n",
       "      <th>lat</th>\n",
       "      <th>long</th>\n",
       "      <th>sqft_living15</th>\n",
       "      <th>sqft_lot15</th>\n",
       "    </tr>\n",
       "  </thead>\n",
       "  <tbody>\n",
       "    <tr>\n",
       "      <th>1164</th>\n",
       "      <td>1247600105</td>\n",
       "      <td>20141020T000000</td>\n",
       "      <td>5110800.0</td>\n",
       "      <td>5</td>\n",
       "      <td>5.25</td>\n",
       "      <td>8010</td>\n",
       "      <td>45517</td>\n",
       "      <td>2.0</td>\n",
       "      <td>1</td>\n",
       "      <td>4</td>\n",
       "      <td>...</td>\n",
       "      <td>12</td>\n",
       "      <td>5990</td>\n",
       "      <td>2020</td>\n",
       "      <td>1999</td>\n",
       "      <td>0</td>\n",
       "      <td>98033</td>\n",
       "      <td>47.6767</td>\n",
       "      <td>-122.211</td>\n",
       "      <td>3430</td>\n",
       "      <td>26788</td>\n",
       "    </tr>\n",
       "    <tr>\n",
       "      <th>3914</th>\n",
       "      <td>9808700762</td>\n",
       "      <td>20140611T000000</td>\n",
       "      <td>7062500.0</td>\n",
       "      <td>5</td>\n",
       "      <td>4.50</td>\n",
       "      <td>10040</td>\n",
       "      <td>37325</td>\n",
       "      <td>2.0</td>\n",
       "      <td>1</td>\n",
       "      <td>2</td>\n",
       "      <td>...</td>\n",
       "      <td>11</td>\n",
       "      <td>7680</td>\n",
       "      <td>2360</td>\n",
       "      <td>1940</td>\n",
       "      <td>2001</td>\n",
       "      <td>98004</td>\n",
       "      <td>47.6500</td>\n",
       "      <td>-122.214</td>\n",
       "      <td>3930</td>\n",
       "      <td>25449</td>\n",
       "    </tr>\n",
       "    <tr>\n",
       "      <th>4411</th>\n",
       "      <td>2470100110</td>\n",
       "      <td>20140804T000000</td>\n",
       "      <td>5570000.0</td>\n",
       "      <td>5</td>\n",
       "      <td>5.75</td>\n",
       "      <td>9200</td>\n",
       "      <td>35069</td>\n",
       "      <td>2.0</td>\n",
       "      <td>0</td>\n",
       "      <td>0</td>\n",
       "      <td>...</td>\n",
       "      <td>13</td>\n",
       "      <td>6200</td>\n",
       "      <td>3000</td>\n",
       "      <td>2001</td>\n",
       "      <td>0</td>\n",
       "      <td>98039</td>\n",
       "      <td>47.6289</td>\n",
       "      <td>-122.233</td>\n",
       "      <td>3560</td>\n",
       "      <td>24345</td>\n",
       "    </tr>\n",
       "  </tbody>\n",
       "</table>\n",
       "<p>3 rows × 21 columns</p>\n",
       "</div>"
      ],
      "text/plain": [
       "              id             date      price  bedrooms  bathrooms   \n",
       "1164  1247600105  20141020T000000  5110800.0         5       5.25  \\\n",
       "3914  9808700762  20140611T000000  7062500.0         5       4.50   \n",
       "4411  2470100110  20140804T000000  5570000.0         5       5.75   \n",
       "\n",
       "      sqft_living  sqft_lot  floors  waterfront  view  ...  grade  sqft_above   \n",
       "1164         8010     45517     2.0           1     4  ...     12        5990  \\\n",
       "3914        10040     37325     2.0           1     2  ...     11        7680   \n",
       "4411         9200     35069     2.0           0     0  ...     13        6200   \n",
       "\n",
       "      sqft_basement  yr_built  yr_renovated  zipcode      lat     long   \n",
       "1164           2020      1999             0    98033  47.6767 -122.211  \\\n",
       "3914           2360      1940          2001    98004  47.6500 -122.214   \n",
       "4411           3000      2001             0    98039  47.6289 -122.233   \n",
       "\n",
       "      sqft_living15  sqft_lot15  \n",
       "1164           3430       26788  \n",
       "3914           3930       25449  \n",
       "4411           3560       24345  \n",
       "\n",
       "[3 rows x 21 columns]"
      ]
     },
     "execution_count": 20,
     "metadata": {},
     "output_type": "execute_result"
    }
   ],
   "source": [
    "house[house[\"sqft_living\"] > 8000]"
   ]
  },
  {
   "cell_type": "code",
   "execution_count": 89,
   "metadata": {},
   "outputs": [],
   "source": [
    "house.drop(1164, axis=0, inplace=True)\n",
    "house.drop(3914, axis=0, inplace=True)\n",
    "house.drop(4411, axis=0, inplace=True)"
   ]
  },
  {
   "cell_type": "code",
   "execution_count": 22,
   "metadata": {},
   "outputs": [
    {
     "data": {
      "text/plain": [
       "<matplotlib.collections.PathCollection at 0x17c407790>"
      ]
     },
     "execution_count": 22,
     "metadata": {},
     "output_type": "execute_result"
    },
    {
     "data": {
      "image/png": "[encoded data removed]",
      "text/plain": [
       "<Figure size 640x480 with 1 Axes>"
      ]
     },
     "metadata": {},
     "output_type": "display_data"
    }
   ],
   "source": [
    "plt.scatter(house['sqft_lot'],house['price'])"
   ]
  },
  {
   "cell_type": "code",
   "execution_count": 23,
   "metadata": {},
   "outputs": [
    {
     "data": {
      "text/plain": [
       "<matplotlib.collections.PathCollection at 0x17c477790>"
      ]
     },
     "execution_count": 23,
     "metadata": {},
     "output_type": "execute_result"
    },
    {
     "data": {
      "image/png": "[encoded data removed]",
      "text/plain": [
       "<Figure size 640x480 with 1 Axes>"
      ]
     },
     "metadata": {},
     "output_type": "display_data"
    }
   ],
   "source": [
    "plt.scatter(house['floors'],house['price'])"
   ]
  },
  {
   "cell_type": "code",
   "execution_count": 24,
   "metadata": {},
   "outputs": [
    {
     "data": {
      "text/plain": [
       "<matplotlib.collections.PathCollection at 0x17c50f790>"
      ]
     },
     "execution_count": 24,
     "metadata": {},
     "output_type": "execute_result"
    },
    {
     "data": {
      "image/png": "[encoded data removed]",
      "text/plain": [
       "<Figure size 640x480 with 1 Axes>"
      ]
     },
     "metadata": {},
     "output_type": "display_data"
    }
   ],
   "source": [
    "plt.scatter(house['sqft_above'],house['price'])"
   ]
  },
  {
   "cell_type": "code",
   "execution_count": 25,
   "metadata": {},
   "outputs": [
    {
     "data": {
      "text/plain": [
       "<Axes: ylabel='sqft_above'>"
      ]
     },
     "execution_count": 25,
     "metadata": {},
     "output_type": "execute_result"
    },
    {
     "data": {
      "image/png": "[encoded data removed]",
      "text/plain": [
       "<Figure size 640x480 with 1 Axes>"
      ]
     },
     "metadata": {},
     "output_type": "display_data"
    }
   ],
   "source": [
    "sns.boxplot(y = house['sqft_above'])"
   ]
  },
  {
   "cell_type": "code",
   "execution_count": 26,
   "metadata": {},
   "outputs": [
    {
     "data": {
      "text/html": [
       "<div>\n",
       "<style scoped>\n",
       "    .dataframe tbody tr th:only-of-type {\n",
       "        vertical-align: middle;\n",
       "    }\n",
       "\n",
       "    .dataframe tbody tr th {\n",
       "        vertical-align: top;\n",
       "    }\n",
       "\n",
       "    .dataframe thead th {\n",
       "        text-align: right;\n",
       "    }\n",
       "</style>\n",
       "<table border=\"1\" class=\"dataframe\">\n",
       "  <thead>\n",
       "    <tr style=\"text-align: right;\">\n",
       "      <th></th>\n",
       "      <th>id</th>\n",
       "      <th>date</th>\n",
       "      <th>price</th>\n",
       "      <th>bedrooms</th>\n",
       "      <th>bathrooms</th>\n",
       "      <th>sqft_living</th>\n",
       "      <th>sqft_lot</th>\n",
       "      <th>floors</th>\n",
       "      <th>waterfront</th>\n",
       "      <th>view</th>\n",
       "      <th>...</th>\n",
       "      <th>grade</th>\n",
       "      <th>sqft_above</th>\n",
       "      <th>sqft_basement</th>\n",
       "      <th>yr_built</th>\n",
       "      <th>yr_renovated</th>\n",
       "      <th>zipcode</th>\n",
       "      <th>lat</th>\n",
       "      <th>long</th>\n",
       "      <th>sqft_living15</th>\n",
       "      <th>sqft_lot15</th>\n",
       "    </tr>\n",
       "  </thead>\n",
       "  <tbody>\n",
       "    <tr>\n",
       "      <th>11871</th>\n",
       "      <td>8835800350</td>\n",
       "      <td>20150112T000000</td>\n",
       "      <td>1950000.0</td>\n",
       "      <td>4</td>\n",
       "      <td>3.25</td>\n",
       "      <td>7420</td>\n",
       "      <td>167869</td>\n",
       "      <td>2.0</td>\n",
       "      <td>0</td>\n",
       "      <td>3</td>\n",
       "      <td>...</td>\n",
       "      <td>12</td>\n",
       "      <td>7420</td>\n",
       "      <td>0</td>\n",
       "      <td>2002</td>\n",
       "      <td>0</td>\n",
       "      <td>98045</td>\n",
       "      <td>47.4548</td>\n",
       "      <td>-121.764</td>\n",
       "      <td>5610</td>\n",
       "      <td>169549</td>\n",
       "    </tr>\n",
       "    <tr>\n",
       "      <th>13411</th>\n",
       "      <td>2426039123</td>\n",
       "      <td>20150130T000000</td>\n",
       "      <td>2415000.0</td>\n",
       "      <td>5</td>\n",
       "      <td>4.75</td>\n",
       "      <td>7880</td>\n",
       "      <td>24250</td>\n",
       "      <td>2.0</td>\n",
       "      <td>0</td>\n",
       "      <td>2</td>\n",
       "      <td>...</td>\n",
       "      <td>13</td>\n",
       "      <td>7880</td>\n",
       "      <td>0</td>\n",
       "      <td>1996</td>\n",
       "      <td>0</td>\n",
       "      <td>98177</td>\n",
       "      <td>47.7334</td>\n",
       "      <td>-122.362</td>\n",
       "      <td>2740</td>\n",
       "      <td>10761</td>\n",
       "    </tr>\n",
       "    <tr>\n",
       "      <th>18594</th>\n",
       "      <td>3023069166</td>\n",
       "      <td>20140708T000000</td>\n",
       "      <td>1135250.0</td>\n",
       "      <td>5</td>\n",
       "      <td>4.00</td>\n",
       "      <td>7320</td>\n",
       "      <td>217800</td>\n",
       "      <td>2.0</td>\n",
       "      <td>0</td>\n",
       "      <td>0</td>\n",
       "      <td>...</td>\n",
       "      <td>11</td>\n",
       "      <td>7320</td>\n",
       "      <td>0</td>\n",
       "      <td>1992</td>\n",
       "      <td>0</td>\n",
       "      <td>98058</td>\n",
       "      <td>47.4473</td>\n",
       "      <td>-122.086</td>\n",
       "      <td>3270</td>\n",
       "      <td>34500</td>\n",
       "    </tr>\n",
       "    <tr>\n",
       "      <th>19858</th>\n",
       "      <td>2524069078</td>\n",
       "      <td>20150122T000000</td>\n",
       "      <td>2700000.0</td>\n",
       "      <td>4</td>\n",
       "      <td>4.00</td>\n",
       "      <td>7850</td>\n",
       "      <td>89651</td>\n",
       "      <td>2.0</td>\n",
       "      <td>0</td>\n",
       "      <td>0</td>\n",
       "      <td>...</td>\n",
       "      <td>12</td>\n",
       "      <td>7850</td>\n",
       "      <td>0</td>\n",
       "      <td>2006</td>\n",
       "      <td>0</td>\n",
       "      <td>98027</td>\n",
       "      <td>47.5406</td>\n",
       "      <td>-121.982</td>\n",
       "      <td>6210</td>\n",
       "      <td>95832</td>\n",
       "    </tr>\n",
       "  </tbody>\n",
       "</table>\n",
       "<p>4 rows × 21 columns</p>\n",
       "</div>"
      ],
      "text/plain": [
       "               id             date      price  bedrooms  bathrooms   \n",
       "11871  8835800350  20150112T000000  1950000.0         4       3.25  \\\n",
       "13411  2426039123  20150130T000000  2415000.0         5       4.75   \n",
       "18594  3023069166  20140708T000000  1135250.0         5       4.00   \n",
       "19858  2524069078  20150122T000000  2700000.0         4       4.00   \n",
       "\n",
       "       sqft_living  sqft_lot  floors  waterfront  view  ...  grade   \n",
       "11871         7420    167869     2.0           0     3  ...     12  \\\n",
       "13411         7880     24250     2.0           0     2  ...     13   \n",
       "18594         7320    217800     2.0           0     0  ...     11   \n",
       "19858         7850     89651     2.0           0     0  ...     12   \n",
       "\n",
       "       sqft_above  sqft_basement  yr_built  yr_renovated  zipcode      lat   \n",
       "11871        7420              0      2002             0    98045  47.4548  \\\n",
       "13411        7880              0      1996             0    98177  47.7334   \n",
       "18594        7320              0      1992             0    98058  47.4473   \n",
       "19858        7850              0      2006             0    98027  47.5406   \n",
       "\n",
       "          long  sqft_living15  sqft_lot15  \n",
       "11871 -121.764           5610      169549  \n",
       "13411 -122.362           2740       10761  \n",
       "18594 -122.086           3270       34500  \n",
       "19858 -121.982           6210       95832  \n",
       "\n",
       "[4 rows x 21 columns]"
      ]
     },
     "execution_count": 26,
     "metadata": {},
     "output_type": "execute_result"
    }
   ],
   "source": [
    "house[house[\"sqft_above\"] > 7000]"
   ]
  },
  {
   "cell_type": "code",
   "execution_count": 90,
   "metadata": {},
   "outputs": [],
   "source": [
    "house.drop(11871, axis=0, inplace=True)\n",
    "house.drop(13411, axis=0, inplace=True)\n",
    "house.drop(18594, axis=0, inplace=True)\n",
    "house.drop(19858, axis=0, inplace=True)"
   ]
  },
  {
   "cell_type": "code",
   "execution_count": 28,
   "metadata": {},
   "outputs": [
    {
     "data": {
      "text/plain": [
       "<matplotlib.collections.PathCollection at 0x17c4f2810>"
      ]
     },
     "execution_count": 28,
     "metadata": {},
     "output_type": "execute_result"
    },
    {
     "data": {
      "image/png": "[encoded data removed]",
      "text/plain": [
       "<Figure size 640x480 with 1 Axes>"
      ]
     },
     "metadata": {},
     "output_type": "display_data"
    }
   ],
   "source": [
    "plt.scatter(house['sqft_basement'],house['price'])"
   ]
  },
  {
   "cell_type": "code",
   "execution_count": 29,
   "metadata": {},
   "outputs": [
    {
     "data": {
      "text/plain": [
       "<Axes: ylabel='sqft_basement'>"
      ]
     },
     "execution_count": 29,
     "metadata": {},
     "output_type": "execute_result"
    },
    {
     "data": {
      "image/png": "[encoded data removed]",
      "text/plain": [
       "<Figure size 640x480 with 1 Axes>"
      ]
     },
     "metadata": {},
     "output_type": "display_data"
    }
   ],
   "source": [
    "sns.boxplot(y = house['sqft_basement'])"
   ]
  },
  {
   "cell_type": "code",
   "execution_count": 91,
   "metadata": {},
   "outputs": [
    {
     "data": {
      "text/html": [
       "<div>\n",
       "<style scoped>\n",
       "    .dataframe tbody tr th:only-of-type {\n",
       "        vertical-align: middle;\n",
       "    }\n",
       "\n",
       "    .dataframe tbody tr th {\n",
       "        vertical-align: top;\n",
       "    }\n",
       "\n",
       "    .dataframe thead th {\n",
       "        text-align: right;\n",
       "    }\n",
       "</style>\n",
       "<table border=\"1\" class=\"dataframe\">\n",
       "  <thead>\n",
       "    <tr style=\"text-align: right;\">\n",
       "      <th></th>\n",
       "      <th>id</th>\n",
       "      <th>date</th>\n",
       "      <th>price</th>\n",
       "      <th>bedrooms</th>\n",
       "      <th>bathrooms</th>\n",
       "      <th>sqft_living</th>\n",
       "      <th>sqft_lot</th>\n",
       "      <th>floors</th>\n",
       "      <th>waterfront</th>\n",
       "      <th>view</th>\n",
       "      <th>...</th>\n",
       "      <th>grade</th>\n",
       "      <th>sqft_above</th>\n",
       "      <th>sqft_basement</th>\n",
       "      <th>yr_built</th>\n",
       "      <th>yr_renovated</th>\n",
       "      <th>zipcode</th>\n",
       "      <th>lat</th>\n",
       "      <th>long</th>\n",
       "      <th>sqft_living15</th>\n",
       "      <th>sqft_lot15</th>\n",
       "    </tr>\n",
       "  </thead>\n",
       "  <tbody>\n",
       "    <tr>\n",
       "      <th>10085</th>\n",
       "      <td>7767000060</td>\n",
       "      <td>20140912T000000</td>\n",
       "      <td>1900000.0</td>\n",
       "      <td>5</td>\n",
       "      <td>4.25</td>\n",
       "      <td>6510</td>\n",
       "      <td>16471</td>\n",
       "      <td>2.0</td>\n",
       "      <td>0</td>\n",
       "      <td>3</td>\n",
       "      <td>...</td>\n",
       "      <td>11</td>\n",
       "      <td>3250</td>\n",
       "      <td>3260</td>\n",
       "      <td>1980</td>\n",
       "      <td>0</td>\n",
       "      <td>98040</td>\n",
       "      <td>47.5758</td>\n",
       "      <td>-122.242</td>\n",
       "      <td>4480</td>\n",
       "      <td>16471</td>\n",
       "    </tr>\n",
       "    <tr>\n",
       "      <th>15482</th>\n",
       "      <td>624069108</td>\n",
       "      <td>20140812T000000</td>\n",
       "      <td>3200000.0</td>\n",
       "      <td>4</td>\n",
       "      <td>3.25</td>\n",
       "      <td>7000</td>\n",
       "      <td>28206</td>\n",
       "      <td>1.0</td>\n",
       "      <td>1</td>\n",
       "      <td>4</td>\n",
       "      <td>...</td>\n",
       "      <td>12</td>\n",
       "      <td>3500</td>\n",
       "      <td>3500</td>\n",
       "      <td>1991</td>\n",
       "      <td>0</td>\n",
       "      <td>98075</td>\n",
       "      <td>47.5928</td>\n",
       "      <td>-122.086</td>\n",
       "      <td>4913</td>\n",
       "      <td>14663</td>\n",
       "    </tr>\n",
       "  </tbody>\n",
       "</table>\n",
       "<p>2 rows × 21 columns</p>\n",
       "</div>"
      ],
      "text/plain": [
       "               id             date      price  bedrooms  bathrooms   \n",
       "10085  7767000060  20140912T000000  1900000.0         5       4.25  \\\n",
       "15482   624069108  20140812T000000  3200000.0         4       3.25   \n",
       "\n",
       "       sqft_living  sqft_lot  floors  waterfront  view  ...  grade   \n",
       "10085         6510     16471     2.0           0     3  ...     11  \\\n",
       "15482         7000     28206     1.0           1     4  ...     12   \n",
       "\n",
       "       sqft_above  sqft_basement  yr_built  yr_renovated  zipcode      lat   \n",
       "10085        3250           3260      1980             0    98040  47.5758  \\\n",
       "15482        3500           3500      1991             0    98075  47.5928   \n",
       "\n",
       "          long  sqft_living15  sqft_lot15  \n",
       "10085 -122.242           4480       16471  \n",
       "15482 -122.086           4913       14663  \n",
       "\n",
       "[2 rows x 21 columns]"
      ]
     },
     "execution_count": 91,
     "metadata": {},
     "output_type": "execute_result"
    }
   ],
   "source": [
    "house[house[\"sqft_basement\"] > 3000]"
   ]
  },
  {
   "cell_type": "code",
   "execution_count": 92,
   "metadata": {},
   "outputs": [],
   "source": [
    "house.drop(10085, axis=0, inplace=True)\n",
    "house.drop(15482, axis=0, inplace=True)"
   ]
  },
  {
   "cell_type": "code",
   "execution_count": 93,
   "metadata": {},
   "outputs": [],
   "source": [
    "def renov(yr_renovated):\n",
    "    if yr_renovated == 0: \n",
    "        return 0\n",
    "    else:\n",
    "        return 1"
   ]
  },
  {
   "cell_type": "code",
   "execution_count": 94,
   "metadata": {},
   "outputs": [],
   "source": [
    "house['renov'] = house.apply(lambda x: renov(x['yr_renovated']), axis=1)"
   ]
  },
  {
   "cell_type": "code",
   "execution_count": 95,
   "metadata": {},
   "outputs": [
    {
     "data": {
      "text/html": [
       "<div>\n",
       "<style scoped>\n",
       "    .dataframe tbody tr th:only-of-type {\n",
       "        vertical-align: middle;\n",
       "    }\n",
       "\n",
       "    .dataframe tbody tr th {\n",
       "        vertical-align: top;\n",
       "    }\n",
       "\n",
       "    .dataframe thead th {\n",
       "        text-align: right;\n",
       "    }\n",
       "</style>\n",
       "<table border=\"1\" class=\"dataframe\">\n",
       "  <thead>\n",
       "    <tr style=\"text-align: right;\">\n",
       "      <th></th>\n",
       "      <th>id</th>\n",
       "      <th>date</th>\n",
       "      <th>price</th>\n",
       "      <th>bedrooms</th>\n",
       "      <th>bathrooms</th>\n",
       "      <th>sqft_living</th>\n",
       "      <th>sqft_lot</th>\n",
       "      <th>floors</th>\n",
       "      <th>waterfront</th>\n",
       "      <th>view</th>\n",
       "      <th>...</th>\n",
       "      <th>sqft_above</th>\n",
       "      <th>sqft_basement</th>\n",
       "      <th>yr_built</th>\n",
       "      <th>yr_renovated</th>\n",
       "      <th>zipcode</th>\n",
       "      <th>lat</th>\n",
       "      <th>long</th>\n",
       "      <th>sqft_living15</th>\n",
       "      <th>sqft_lot15</th>\n",
       "      <th>renov</th>\n",
       "    </tr>\n",
       "  </thead>\n",
       "  <tbody>\n",
       "    <tr>\n",
       "      <th>0</th>\n",
       "      <td>7129300520</td>\n",
       "      <td>20141013T000000</td>\n",
       "      <td>221900.0</td>\n",
       "      <td>3</td>\n",
       "      <td>1.00</td>\n",
       "      <td>1180</td>\n",
       "      <td>5650</td>\n",
       "      <td>1.0</td>\n",
       "      <td>0</td>\n",
       "      <td>0</td>\n",
       "      <td>...</td>\n",
       "      <td>1180</td>\n",
       "      <td>0</td>\n",
       "      <td>1955</td>\n",
       "      <td>0</td>\n",
       "      <td>98178</td>\n",
       "      <td>47.5112</td>\n",
       "      <td>-122.257</td>\n",
       "      <td>1340</td>\n",
       "      <td>5650</td>\n",
       "      <td>0</td>\n",
       "    </tr>\n",
       "    <tr>\n",
       "      <th>1</th>\n",
       "      <td>6414100192</td>\n",
       "      <td>20141209T000000</td>\n",
       "      <td>538000.0</td>\n",
       "      <td>3</td>\n",
       "      <td>2.25</td>\n",
       "      <td>2570</td>\n",
       "      <td>7242</td>\n",
       "      <td>2.0</td>\n",
       "      <td>0</td>\n",
       "      <td>0</td>\n",
       "      <td>...</td>\n",
       "      <td>2170</td>\n",
       "      <td>400</td>\n",
       "      <td>1951</td>\n",
       "      <td>1991</td>\n",
       "      <td>98125</td>\n",
       "      <td>47.7210</td>\n",
       "      <td>-122.319</td>\n",
       "      <td>1690</td>\n",
       "      <td>7639</td>\n",
       "      <td>1</td>\n",
       "    </tr>\n",
       "    <tr>\n",
       "      <th>2</th>\n",
       "      <td>5631500400</td>\n",
       "      <td>20150225T000000</td>\n",
       "      <td>180000.0</td>\n",
       "      <td>2</td>\n",
       "      <td>1.00</td>\n",
       "      <td>770</td>\n",
       "      <td>10000</td>\n",
       "      <td>1.0</td>\n",
       "      <td>0</td>\n",
       "      <td>0</td>\n",
       "      <td>...</td>\n",
       "      <td>770</td>\n",
       "      <td>0</td>\n",
       "      <td>1933</td>\n",
       "      <td>0</td>\n",
       "      <td>98028</td>\n",
       "      <td>47.7379</td>\n",
       "      <td>-122.233</td>\n",
       "      <td>2720</td>\n",
       "      <td>8062</td>\n",
       "      <td>0</td>\n",
       "    </tr>\n",
       "    <tr>\n",
       "      <th>3</th>\n",
       "      <td>2487200875</td>\n",
       "      <td>20141209T000000</td>\n",
       "      <td>604000.0</td>\n",
       "      <td>4</td>\n",
       "      <td>3.00</td>\n",
       "      <td>1960</td>\n",
       "      <td>5000</td>\n",
       "      <td>1.0</td>\n",
       "      <td>0</td>\n",
       "      <td>0</td>\n",
       "      <td>...</td>\n",
       "      <td>1050</td>\n",
       "      <td>910</td>\n",
       "      <td>1965</td>\n",
       "      <td>0</td>\n",
       "      <td>98136</td>\n",
       "      <td>47.5208</td>\n",
       "      <td>-122.393</td>\n",
       "      <td>1360</td>\n",
       "      <td>5000</td>\n",
       "      <td>0</td>\n",
       "    </tr>\n",
       "    <tr>\n",
       "      <th>4</th>\n",
       "      <td>1954400510</td>\n",
       "      <td>20150218T000000</td>\n",
       "      <td>510000.0</td>\n",
       "      <td>3</td>\n",
       "      <td>2.00</td>\n",
       "      <td>1680</td>\n",
       "      <td>8080</td>\n",
       "      <td>1.0</td>\n",
       "      <td>0</td>\n",
       "      <td>0</td>\n",
       "      <td>...</td>\n",
       "      <td>1680</td>\n",
       "      <td>0</td>\n",
       "      <td>1987</td>\n",
       "      <td>0</td>\n",
       "      <td>98074</td>\n",
       "      <td>47.6168</td>\n",
       "      <td>-122.045</td>\n",
       "      <td>1800</td>\n",
       "      <td>7503</td>\n",
       "      <td>0</td>\n",
       "    </tr>\n",
       "  </tbody>\n",
       "</table>\n",
       "<p>5 rows × 22 columns</p>\n",
       "</div>"
      ],
      "text/plain": [
       "           id             date     price  bedrooms  bathrooms  sqft_living   \n",
       "0  7129300520  20141013T000000  221900.0         3       1.00         1180  \\\n",
       "1  6414100192  20141209T000000  538000.0         3       2.25         2570   \n",
       "2  5631500400  20150225T000000  180000.0         2       1.00          770   \n",
       "3  2487200875  20141209T000000  604000.0         4       3.00         1960   \n",
       "4  1954400510  20150218T000000  510000.0         3       2.00         1680   \n",
       "\n",
       "   sqft_lot  floors  waterfront  view  ...  sqft_above  sqft_basement   \n",
       "0      5650     1.0           0     0  ...        1180              0  \\\n",
       "1      7242     2.0           0     0  ...        2170            400   \n",
       "2     10000     1.0           0     0  ...         770              0   \n",
       "3      5000     1.0           0     0  ...        1050            910   \n",
       "4      8080     1.0           0     0  ...        1680              0   \n",
       "\n",
       "   yr_built  yr_renovated  zipcode      lat     long  sqft_living15   \n",
       "0      1955             0    98178  47.5112 -122.257           1340  \\\n",
       "1      1951          1991    98125  47.7210 -122.319           1690   \n",
       "2      1933             0    98028  47.7379 -122.233           2720   \n",
       "3      1965             0    98136  47.5208 -122.393           1360   \n",
       "4      1987             0    98074  47.6168 -122.045           1800   \n",
       "\n",
       "   sqft_lot15  renov  \n",
       "0        5650      0  \n",
       "1        7639      1  \n",
       "2        8062      0  \n",
       "3        5000      0  \n",
       "4        7503      0  \n",
       "\n",
       "[5 rows x 22 columns]"
      ]
     },
     "execution_count": 95,
     "metadata": {},
     "output_type": "execute_result"
    }
   ],
   "source": [
    "house.head()"
   ]
  },
  {
   "cell_type": "code",
   "execution_count": 34,
   "metadata": {},
   "outputs": [
    {
     "name": "stdout",
     "output_type": "stream",
     "text": [
      "                            OLS Regression Results                            \n",
      "==============================================================================\n",
      "Dep. Variable:                  price   R-squared:                       0.703\n",
      "Model:                            OLS   Adj. R-squared:                  0.703\n",
      "Method:                 Least Squares   F-statistic:                     2999.\n",
      "Date:                Tue, 11 Jul 2023   Prob (F-statistic):               0.00\n",
      "Time:                        14:44:09   Log-Likelihood:            -2.9322e+05\n",
      "No. Observations:               21583   AIC:                         5.865e+05\n",
      "Df Residuals:                   21565   BIC:                         5.866e+05\n",
      "Df Model:                          17                                         \n",
      "Covariance Type:            nonrobust                                         \n",
      "=================================================================================\n",
      "                    coef    std err          t      P>|t|      [0.025      0.975]\n",
      "---------------------------------------------------------------------------------\n",
      "Intercept      5.209e+06    2.8e+06      1.857      0.063   -2.88e+05    1.07e+07\n",
      "bedrooms      -2.996e+04   1825.174    -16.413      0.000   -3.35e+04   -2.64e+04\n",
      "bathrooms      3.955e+04   3136.514     12.611      0.000    3.34e+04    4.57e+04\n",
      "sqft_living      96.7666      2.223     43.533      0.000      92.410     101.123\n",
      "sqft_lot          0.1592      0.046      3.472      0.001       0.069       0.249\n",
      "floors         1.161e+04   3451.568      3.365      0.001    4847.890    1.84e+04\n",
      "waterfront     5.449e+05   1.67e+04     32.565      0.000    5.12e+05    5.78e+05\n",
      "view           5.347e+04   2050.257     26.078      0.000    4.94e+04    5.75e+04\n",
      "condition      2.796e+04   2249.214     12.431      0.000    2.36e+04    3.24e+04\n",
      "grade          9.981e+04   2069.337     48.235      0.000    9.58e+04    1.04e+05\n",
      "sqft_above       61.1848      2.186     27.989      0.000      56.900      65.470\n",
      "sqft_basement    35.5857      2.547     13.971      0.000      30.593      40.578\n",
      "yr_built      -2579.6248     69.553    -37.089      0.000   -2715.954   -2443.296\n",
      "renov          3.548e+04   6982.446      5.081      0.000    2.18e+04    4.92e+04\n",
      "zipcode        -553.6399     31.550    -17.548      0.000    -615.479    -491.801\n",
      "lat            5.992e+05   1.03e+04     58.367      0.000    5.79e+05    6.19e+05\n",
      "long          -2.042e+05   1.26e+04    -16.238      0.000   -2.29e+05    -1.8e+05\n",
      "sqft_living15    31.8830      3.325      9.589      0.000      25.366      38.400\n",
      "sqft_lot15       -0.3665      0.070     -5.223      0.000      -0.504      -0.229\n",
      "==============================================================================\n",
      "Omnibus:                    14302.821   Durbin-Watson:                   1.981\n",
      "Prob(Omnibus):                  0.000   Jarque-Bera (JB):           497316.472\n",
      "Skew:                           2.697   Prob(JB):                         0.00\n",
      "Kurtosis:                      25.889   Cond. No.                     6.42e+16\n",
      "==============================================================================\n",
      "\n",
      "Notes:\n",
      "[1] Standard Errors assume that the covariance matrix of the errors is correctly specified.\n",
      "[2] The smallest eigenvalue is 5.31e-20. This might indicate that there are\n",
      "strong multicollinearity problems or that the design matrix is singular.\n"
     ]
    }
   ],
   "source": [
    "results = ols(\"price ~ bedrooms + bathrooms + sqft_living + sqft_lot + floors + waterfront + view + condition + grade + sqft_above + sqft_basement + yr_built + renov + zipcode + lat + long + sqft_living15 + sqft_lot15\", data=house).fit()\n",
    "print(results.summary())"
   ]
  },
  {
   "cell_type": "code",
   "execution_count": 35,
   "metadata": {},
   "outputs": [
    {
     "name": "stdout",
     "output_type": "stream",
     "text": [
      "                            OLS Regression Results                            \n",
      "==============================================================================\n",
      "Dep. Variable:                  price   R-squared:                       0.602\n",
      "Model:                            OLS   Adj. R-squared:                  0.602\n",
      "Method:                 Least Squares   F-statistic:                     2331.\n",
      "Date:                Tue, 11 Jul 2023   Prob (F-statistic):               0.00\n",
      "Time:                        14:44:14   Log-Likelihood:            -2.9636e+05\n",
      "No. Observations:               21583   AIC:                         5.928e+05\n",
      "Df Residuals:                   21568   BIC:                         5.929e+05\n",
      "Df Model:                          14                                         \n",
      "Covariance Type:            nonrobust                                         \n",
      "=================================================================================\n",
      "                    coef    std err          t      P>|t|      [0.025      0.975]\n",
      "---------------------------------------------------------------------------------\n",
      "Intercept     -7.176e+06   3.22e+06     -2.231      0.026   -1.35e+07   -8.72e+05\n",
      "bedrooms      -4.953e+04   2088.104    -23.721      0.000   -5.36e+04   -4.54e+04\n",
      "bathrooms        6.1e+04   3613.016     16.883      0.000    5.39e+04    6.81e+04\n",
      "sqft_living     141.6884      2.418     58.595      0.000     136.949     146.428\n",
      "sqft_lot          0.0449      0.053      0.849      0.396      -0.059       0.149\n",
      "floors         5.598e+04   3939.575     14.210      0.000    4.83e+04    6.37e+04\n",
      "waterfront     5.172e+05   1.93e+04     26.730      0.000    4.79e+05    5.55e+05\n",
      "view           5.366e+04   2351.581     22.820      0.000    4.91e+04    5.83e+04\n",
      "condition       2.31e+04   2598.255      8.890      0.000     1.8e+04    2.82e+04\n",
      "sqft_above       78.4454      2.379     32.976      0.000      73.783      83.108\n",
      "sqft_basement    63.2525      2.902     21.795      0.000      57.564      68.941\n",
      "yr_built      -2837.5766     75.853    -37.409      0.000   -2986.255   -2688.898\n",
      "renov          2.668e+04   8064.377      3.308      0.001    1.09e+04    4.25e+04\n",
      "zipcode         127.8657     32.283      3.961      0.000      64.590     191.142\n",
      "sqft_living15    90.5859      3.649     24.822      0.000      83.433      97.739\n",
      "sqft_lot15       -0.7095      0.081     -8.778      0.000      -0.868      -0.551\n",
      "==============================================================================\n",
      "Omnibus:                    11419.050   Durbin-Watson:                   1.978\n",
      "Prob(Omnibus):                  0.000   Jarque-Bera (JB):           228483.836\n",
      "Skew:                           2.103   Prob(JB):                         0.00\n",
      "Kurtosis:                      18.375   Cond. No.                     6.90e+16\n",
      "==============================================================================\n",
      "\n",
      "Notes:\n",
      "[1] Standard Errors assume that the covariance matrix of the errors is correctly specified.\n",
      "[2] The smallest eigenvalue is 4.59e-20. This might indicate that there are\n",
      "strong multicollinearity problems or that the design matrix is singular.\n"
     ]
    }
   ],
   "source": [
    "results_1 = ols(\"price ~ bedrooms + bathrooms + sqft_living + sqft_lot + floors + waterfront + view + condition + sqft_above + sqft_basement + yr_built + renov + zipcode + sqft_living15 + sqft_lot15\", data=house).fit()\n",
    "print(results_1.summary())"
   ]
  },
  {
   "cell_type": "code",
   "execution_count": 36,
   "metadata": {},
   "outputs": [
    {
     "name": "stdout",
     "output_type": "stream",
     "text": [
      "                            OLS Regression Results                            \n",
      "==============================================================================\n",
      "Dep. Variable:                  price   R-squared:                       0.602\n",
      "Model:                            OLS   Adj. R-squared:                  0.602\n",
      "Method:                 Least Squares   F-statistic:                     2510.\n",
      "Date:                Tue, 11 Jul 2023   Prob (F-statistic):               0.00\n",
      "Time:                        14:44:22   Log-Likelihood:            -2.9636e+05\n",
      "No. Observations:               21583   AIC:                         5.928e+05\n",
      "Df Residuals:                   21569   BIC:                         5.929e+05\n",
      "Df Model:                          13                                         \n",
      "Covariance Type:            nonrobust                                         \n",
      "=================================================================================\n",
      "                    coef    std err          t      P>|t|      [0.025      0.975]\n",
      "---------------------------------------------------------------------------------\n",
      "Intercept     -7.074e+06   3.21e+06     -2.201      0.028   -1.34e+07   -7.74e+05\n",
      "bedrooms      -4.958e+04   2087.279    -23.754      0.000   -5.37e+04   -4.55e+04\n",
      "bathrooms      6.102e+04   3612.886     16.890      0.000    5.39e+04    6.81e+04\n",
      "sqft_living     141.7981      2.415     58.722      0.000     137.065     146.531\n",
      "floors         5.588e+04   3937.768     14.191      0.000    4.82e+04    6.36e+04\n",
      "waterfront     5.169e+05   1.93e+04     26.720      0.000    4.79e+05    5.55e+05\n",
      "view           5.373e+04   2350.129     22.864      0.000    4.91e+04    5.83e+04\n",
      "condition      2.306e+04   2597.860      8.877      0.000     1.8e+04    2.82e+04\n",
      "sqft_above       78.5910      2.372     33.129      0.000      73.941      83.241\n",
      "sqft_basement    63.2074      2.902     21.782      0.000      57.520      68.895\n",
      "yr_built      -2839.0661     75.833    -37.439      0.000   -2987.704   -2690.429\n",
      "renov          2.662e+04   8063.965      3.301      0.001    1.08e+04    4.24e+04\n",
      "zipcode         126.8578     32.261      3.932      0.000      63.625     190.091\n",
      "sqft_living15    90.4066      3.643     24.815      0.000      83.266      97.548\n",
      "sqft_lot15       -0.6616      0.058    -11.443      0.000      -0.775      -0.548\n",
      "==============================================================================\n",
      "Omnibus:                    11414.097   Durbin-Watson:                   1.978\n",
      "Prob(Omnibus):                  0.000   Jarque-Bera (JB):           228140.267\n",
      "Skew:                           2.102   Prob(JB):                         0.00\n",
      "Kurtosis:                      18.363   Cond. No.                     6.73e+16\n",
      "==============================================================================\n",
      "\n",
      "Notes:\n",
      "[1] Standard Errors assume that the covariance matrix of the errors is correctly specified.\n",
      "[2] The smallest eigenvalue is 4.67e-20. This might indicate that there are\n",
      "strong multicollinearity problems or that the design matrix is singular.\n"
     ]
    }
   ],
   "source": [
    "results_2 = ols(\"price ~ bedrooms + bathrooms + sqft_living + floors + waterfront + view + condition + sqft_above + sqft_basement + yr_built + renov + zipcode + sqft_living15 + sqft_lot15\", data=house).fit()\n",
    "print(results_2.summary())"
   ]
  },
  {
   "cell_type": "code",
   "execution_count": 37,
   "metadata": {},
   "outputs": [
    {
     "name": "stdout",
     "output_type": "stream",
     "text": [
      "                            OLS Regression Results                            \n",
      "==============================================================================\n",
      "Dep. Variable:                  price   R-squared:                       0.694\n",
      "Model:                            OLS   Adj. R-squared:                  0.694\n",
      "Method:                 Least Squares   F-statistic:                     4441.\n",
      "Date:                Tue, 11 Jul 2023   Prob (F-statistic):               0.00\n",
      "Time:                        14:44:24   Log-Likelihood:            -2.9354e+05\n",
      "No. Observations:               21583   AIC:                         5.871e+05\n",
      "Df Residuals:                   21571   BIC:                         5.872e+05\n",
      "Df Model:                          11                                         \n",
      "Covariance Type:            nonrobust                                         \n",
      "=================================================================================\n",
      "                    coef    std err          t      P>|t|      [0.025      0.975]\n",
      "---------------------------------------------------------------------------------\n",
      "Intercept     -3.159e+07   1.43e+06    -22.133      0.000   -3.44e+07   -2.88e+07\n",
      "bedrooms      -2.713e+04   1840.180    -14.741      0.000   -3.07e+04   -2.35e+04\n",
      "bathrooms      4.312e+04   3056.317     14.108      0.000    3.71e+04    4.91e+04\n",
      "sqft_living     103.5261      2.068     50.053      0.000      99.472     107.580\n",
      "waterfront      5.47e+05    1.7e+04     32.223      0.000    5.14e+05     5.8e+05\n",
      "view           5.352e+04   2046.907     26.145      0.000    4.95e+04    5.75e+04\n",
      "grade          1.084e+05   2009.652     53.923      0.000    1.04e+05    1.12e+05\n",
      "sqft_above       65.8769      1.943     33.907      0.000      62.069      69.685\n",
      "sqft_basement    37.6484      2.329     16.162      0.000      33.083      42.214\n",
      "yr_built      -2749.9460     64.411    -42.694      0.000   -2876.196   -2623.696\n",
      "renov          1.754e+04   6957.025      2.522      0.012    3907.228    3.12e+04\n",
      "lat             5.53e+05      1e+04     55.109      0.000    5.33e+05    5.73e+05\n",
      "long          -8.234e+04   1.09e+04     -7.587      0.000   -1.04e+05   -6.11e+04\n",
      "==============================================================================\n",
      "Omnibus:                    14125.638   Durbin-Watson:                   1.984\n",
      "Prob(Omnibus):                  0.000   Jarque-Bera (JB):           461467.700\n",
      "Skew:                           2.668   Prob(JB):                         0.00\n",
      "Kurtosis:                      25.015   Cond. No.                     1.81e+15\n",
      "==============================================================================\n",
      "\n",
      "Notes:\n",
      "[1] Standard Errors assume that the covariance matrix of the errors is correctly specified.\n",
      "[2] The smallest eigenvalue is 8.2e-20. This might indicate that there are\n",
      "strong multicollinearity problems or that the design matrix is singular.\n"
     ]
    }
   ],
   "source": [
    "results_3 = ols(\"price ~ bedrooms + bathrooms + sqft_living + waterfront + view + grade + sqft_above + sqft_basement + yr_built + renov + lat + long\", data=house).fit()\n",
    "print(results_3.summary())"
   ]
  },
  {
   "cell_type": "code",
   "execution_count": 38,
   "metadata": {},
   "outputs": [
    {
     "name": "stdout",
     "output_type": "stream",
     "text": [
      "                            OLS Regression Results                            \n",
      "==============================================================================\n",
      "Dep. Variable:                  price   R-squared:                       0.681\n",
      "Model:                            OLS   Adj. R-squared:                  0.680\n",
      "Method:                 Least Squares   F-statistic:                     3534.\n",
      "Date:                Tue, 11 Jul 2023   Prob (F-statistic):               0.00\n",
      "Time:                        14:44:27   Log-Likelihood:            -2.9399e+05\n",
      "No. Observations:               21583   AIC:                         5.880e+05\n",
      "Df Residuals:                   21569   BIC:                         5.881e+05\n",
      "Df Model:                          13                                         \n",
      "Covariance Type:            nonrobust                                         \n",
      "=================================================================================\n",
      "                    coef    std err          t      P>|t|      [0.025      0.975]\n",
      "---------------------------------------------------------------------------------\n",
      "Intercept     -3.387e+07   1.56e+06    -21.746      0.000   -3.69e+07   -3.08e+07\n",
      "bedrooms      -2.996e+04   1886.027    -15.885      0.000   -3.37e+04   -2.63e+04\n",
      "bathrooms      4.362e+04   3242.578     13.452      0.000    3.73e+04       5e+04\n",
      "floors         2594.3377   3553.064      0.730      0.465   -4369.930    9558.606\n",
      "view           7.591e+04   1960.254     38.723      0.000    7.21e+04    7.97e+04\n",
      "grade          1.005e+05   2142.031     46.922      0.000    9.63e+04    1.05e+05\n",
      "sqft_above      160.3299      3.719     43.110      0.000     153.040     167.620\n",
      "sqft_basement   132.1001      4.394     30.063      0.000     123.487     140.713\n",
      "yr_built      -2721.5029     67.876    -40.095      0.000   -2854.546   -2588.460\n",
      "renov           3.32e+04   7120.034      4.662      0.000    1.92e+04    4.72e+04\n",
      "sqft_living15    32.7149      3.422      9.561      0.000      26.008      39.422\n",
      "sqft_lot15       -0.2032      0.053     -3.849      0.000      -0.307      -0.100\n",
      "lat            5.429e+05   1.03e+04     52.492      0.000    5.23e+05    5.63e+05\n",
      "long          -1.046e+05   1.18e+04     -8.886      0.000   -1.28e+05   -8.15e+04\n",
      "==============================================================================\n",
      "Omnibus:                    15259.186   Durbin-Watson:                   1.986\n",
      "Prob(Omnibus):                  0.000   Jarque-Bera (JB):           570401.834\n",
      "Skew:                           2.951   Prob(JB):                         0.00\n",
      "Kurtosis:                      27.484   Cond. No.                     3.45e+07\n",
      "==============================================================================\n",
      "\n",
      "Notes:\n",
      "[1] Standard Errors assume that the covariance matrix of the errors is correctly specified.\n",
      "[2] The condition number is large, 3.45e+07. This might indicate that there are\n",
      "strong multicollinearity or other numerical problems.\n"
     ]
    }
   ],
   "source": [
    "results_4 = ols(\"price ~ bedrooms + bathrooms + floors + view + grade + sqft_above + sqft_basement + yr_built + renov + sqft_living15 + sqft_lot15 + lat + long\", data=house).fit()\n",
    "print(results_4.summary())"
   ]
  },
  {
   "cell_type": "code",
   "execution_count": 39,
   "metadata": {},
   "outputs": [
    {
     "name": "stdout",
     "output_type": "stream",
     "text": [
      "                            OLS Regression Results                            \n",
      "==============================================================================\n",
      "Dep. Variable:                  price   R-squared:                       0.679\n",
      "Model:                            OLS   Adj. R-squared:                  0.679\n",
      "Method:                 Least Squares   F-statistic:                     4147.\n",
      "Date:                Tue, 11 Jul 2023   Prob (F-statistic):               0.00\n",
      "Time:                        14:44:30   Log-Likelihood:            -2.9405e+05\n",
      "No. Observations:               21583   AIC:                         5.881e+05\n",
      "Df Residuals:                   21571   BIC:                         5.882e+05\n",
      "Df Model:                          11                                         \n",
      "Covariance Type:            nonrobust                                         \n",
      "=================================================================================\n",
      "                    coef    std err          t      P>|t|      [0.025      0.975]\n",
      "---------------------------------------------------------------------------------\n",
      "Intercept      -3.24e+07    1.5e+06    -21.543      0.000   -3.53e+07   -2.95e+07\n",
      "bedrooms      -2.956e+04   1883.025    -15.698      0.000   -3.33e+04   -2.59e+04\n",
      "bathrooms      4.321e+04   3248.170     13.303      0.000    3.68e+04    4.96e+04\n",
      "floors         -655.8892   3525.805     -0.186      0.852   -7566.729    6254.950\n",
      "view           7.841e+04   1940.917     40.396      0.000    7.46e+04    8.22e+04\n",
      "grade          1.064e+05   2059.121     51.685      0.000    1.02e+05     1.1e+05\n",
      "sqft_above      172.9371      3.368     51.340      0.000     166.335     179.539\n",
      "sqft_basement   139.3432      4.311     32.325      0.000     130.894     147.792\n",
      "yr_built      -2720.3890     68.012    -39.999      0.000   -2853.697   -2587.081\n",
      "renov          2.979e+04   7128.962      4.179      0.000    1.58e+04    4.38e+04\n",
      "lat             5.49e+05   1.03e+04     53.093      0.000    5.29e+05    5.69e+05\n",
      "long          -9.013e+04   1.13e+04     -7.960      0.000   -1.12e+05   -6.79e+04\n",
      "==============================================================================\n",
      "Omnibus:                    15090.173   Durbin-Watson:                   1.985\n",
      "Prob(Omnibus):                  0.000   Jarque-Bera (JB):           546179.518\n",
      "Skew:                           2.912   Prob(JB):                         0.00\n",
      "Kurtosis:                      26.946   Cond. No.                     3.03e+06\n",
      "==============================================================================\n",
      "\n",
      "Notes:\n",
      "[1] Standard Errors assume that the covariance matrix of the errors is correctly specified.\n",
      "[2] The condition number is large, 3.03e+06. This might indicate that there are\n",
      "strong multicollinearity or other numerical problems.\n"
     ]
    }
   ],
   "source": [
    "results_5 = ols(\"price ~ bedrooms + bathrooms + floors + view + grade + sqft_above + sqft_basement + yr_built + renov + lat + long\", data=house).fit()\n",
    "print(results_5.summary())"
   ]
  },
  {
   "cell_type": "code",
   "execution_count": 40,
   "metadata": {},
   "outputs": [
    {
     "name": "stdout",
     "output_type": "stream",
     "text": [
      "                            OLS Regression Results                            \n",
      "==============================================================================\n",
      "Dep. Variable:                  price   R-squared:                       0.623\n",
      "Model:                            OLS   Adj. R-squared:                  0.623\n",
      "Method:                 Least Squares   F-statistic:                     5088.\n",
      "Date:                Tue, 11 Jul 2023   Prob (F-statistic):               0.00\n",
      "Time:                        14:44:32   Log-Likelihood:            -2.9579e+05\n",
      "No. Observations:               21583   AIC:                         5.916e+05\n",
      "Df Residuals:                   21575   BIC:                         5.917e+05\n",
      "Df Model:                           7                                         \n",
      "Covariance Type:            nonrobust                                         \n",
      "===============================================================================\n",
      "                  coef    std err          t      P>|t|      [0.025      0.975]\n",
      "-------------------------------------------------------------------------------\n",
      "Intercept   -6.463e+07   1.37e+06    -47.340      0.000   -6.73e+07    -6.2e+07\n",
      "sqft_living   215.4541      3.223     66.857      0.000     209.138     221.771\n",
      "bedrooms    -3.142e+04   2021.853    -15.540      0.000   -3.54e+04   -2.75e+04\n",
      "bathrooms   -1.609e+04   3068.102     -5.244      0.000   -2.21e+04   -1.01e+04\n",
      "grade        9.134e+04   2056.555     44.416      0.000    8.73e+04    9.54e+04\n",
      "renov        1.362e+05   7384.576     18.442      0.000    1.22e+05    1.51e+05\n",
      "lat          6.005e+05   1.09e+04     55.236      0.000    5.79e+05    6.22e+05\n",
      "long        -2.912e+05    1.1e+04    -26.483      0.000   -3.13e+05    -2.7e+05\n",
      "==============================================================================\n",
      "Omnibus:                    15292.617   Durbin-Watson:                   1.986\n",
      "Prob(Omnibus):                  0.000   Jarque-Bera (JB):           494806.829\n",
      "Skew:                           3.015   Prob(JB):                         0.00\n",
      "Kurtosis:                      25.669   Cond. No.                     2.10e+06\n",
      "==============================================================================\n",
      "\n",
      "Notes:\n",
      "[1] Standard Errors assume that the covariance matrix of the errors is correctly specified.\n",
      "[2] The condition number is large, 2.1e+06. This might indicate that there are\n",
      "strong multicollinearity or other numerical problems.\n"
     ]
    }
   ],
   "source": [
    "results_6 = ols(\"price ~ sqft_living + bedrooms + bathrooms + grade + renov + lat + long\", data=house).fit()\n",
    "print(results_6.summary())"
   ]
  },
  {
   "cell_type": "code",
   "execution_count": null,
   "metadata": {},
   "outputs": [],
   "source": []
  },
  {
   "cell_type": "code",
   "execution_count": 41,
   "metadata": {},
   "outputs": [],
   "source": [
    "pred_vals = results_6.predict(house[['sqft_living','bedrooms', 'bathrooms', 'grade', 'sqft_above', 'sqft_basement', 'renov','lat', 'long']])"
   ]
  },
  {
   "cell_type": "code",
   "execution_count": 42,
   "metadata": {},
   "outputs": [
    {
     "data": {
      "text/plain": [
       "0        292292.184192\n",
       "1        851900.950993\n",
       "2        273186.538900\n",
       "3        442118.184679\n",
       "4        476953.194321\n",
       "             ...      \n",
       "21608    573790.703497\n",
       "21609    601822.141099\n",
       "21610    355457.519158\n",
       "21611    409236.178623\n",
       "21612    355277.355231\n",
       "Length: 21583, dtype: float64"
      ]
     },
     "execution_count": 42,
     "metadata": {},
     "output_type": "execute_result"
    }
   ],
   "source": [
    "pred_vals"
   ]
  },
  {
   "cell_type": "code",
   "execution_count": 43,
   "metadata": {},
   "outputs": [],
   "source": [
    "res = pd.concat([pred_vals.to_frame().rename(columns={0:'y_hat'}),house['price']], axis=1)"
   ]
  },
  {
   "cell_type": "code",
   "execution_count": 44,
   "metadata": {},
   "outputs": [
    {
     "data": {
      "text/html": [
       "<div>\n",
       "<style scoped>\n",
       "    .dataframe tbody tr th:only-of-type {\n",
       "        vertical-align: middle;\n",
       "    }\n",
       "\n",
       "    .dataframe tbody tr th {\n",
       "        vertical-align: top;\n",
       "    }\n",
       "\n",
       "    .dataframe thead th {\n",
       "        text-align: right;\n",
       "    }\n",
       "</style>\n",
       "<table border=\"1\" class=\"dataframe\">\n",
       "  <thead>\n",
       "    <tr style=\"text-align: right;\">\n",
       "      <th></th>\n",
       "      <th>y_hat</th>\n",
       "      <th>price</th>\n",
       "    </tr>\n",
       "  </thead>\n",
       "  <tbody>\n",
       "    <tr>\n",
       "      <th>0</th>\n",
       "      <td>292292.184192</td>\n",
       "      <td>221900.0</td>\n",
       "    </tr>\n",
       "    <tr>\n",
       "      <th>1</th>\n",
       "      <td>851900.950993</td>\n",
       "      <td>538000.0</td>\n",
       "    </tr>\n",
       "    <tr>\n",
       "      <th>2</th>\n",
       "      <td>273186.538900</td>\n",
       "      <td>180000.0</td>\n",
       "    </tr>\n",
       "    <tr>\n",
       "      <th>3</th>\n",
       "      <td>442118.184679</td>\n",
       "      <td>604000.0</td>\n",
       "    </tr>\n",
       "    <tr>\n",
       "      <th>4</th>\n",
       "      <td>476953.194321</td>\n",
       "      <td>510000.0</td>\n",
       "    </tr>\n",
       "    <tr>\n",
       "      <th>...</th>\n",
       "      <td>...</td>\n",
       "      <td>...</td>\n",
       "    </tr>\n",
       "    <tr>\n",
       "      <th>21608</th>\n",
       "      <td>573790.703497</td>\n",
       "      <td>360000.0</td>\n",
       "    </tr>\n",
       "    <tr>\n",
       "      <th>21609</th>\n",
       "      <td>601822.141099</td>\n",
       "      <td>400000.0</td>\n",
       "    </tr>\n",
       "    <tr>\n",
       "      <th>21610</th>\n",
       "      <td>355457.519158</td>\n",
       "      <td>402101.0</td>\n",
       "    </tr>\n",
       "    <tr>\n",
       "      <th>21611</th>\n",
       "      <td>409236.178623</td>\n",
       "      <td>400000.0</td>\n",
       "    </tr>\n",
       "    <tr>\n",
       "      <th>21612</th>\n",
       "      <td>355277.355231</td>\n",
       "      <td>325000.0</td>\n",
       "    </tr>\n",
       "  </tbody>\n",
       "</table>\n",
       "<p>21583 rows × 2 columns</p>\n",
       "</div>"
      ],
      "text/plain": [
       "               y_hat     price\n",
       "0      292292.184192  221900.0\n",
       "1      851900.950993  538000.0\n",
       "2      273186.538900  180000.0\n",
       "3      442118.184679  604000.0\n",
       "4      476953.194321  510000.0\n",
       "...              ...       ...\n",
       "21608  573790.703497  360000.0\n",
       "21609  601822.141099  400000.0\n",
       "21610  355457.519158  402101.0\n",
       "21611  409236.178623  400000.0\n",
       "21612  355277.355231  325000.0\n",
       "\n",
       "[21583 rows x 2 columns]"
      ]
     },
     "execution_count": 44,
     "metadata": {},
     "output_type": "execute_result"
    }
   ],
   "source": [
    "res"
   ]
  },
  {
   "cell_type": "code",
   "execution_count": 45,
   "metadata": {},
   "outputs": [],
   "source": [
    "res['error'] = res['y_hat'] - res['price']"
   ]
  },
  {
   "cell_type": "code",
   "execution_count": 46,
   "metadata": {},
   "outputs": [],
   "source": [
    "res['sq_error'] = res['error']**2"
   ]
  },
  {
   "cell_type": "code",
   "execution_count": 47,
   "metadata": {},
   "outputs": [
    {
     "data": {
      "text/plain": [
       "216575.69407907545"
      ]
     },
     "execution_count": 47,
     "metadata": {},
     "output_type": "execute_result"
    }
   ],
   "source": [
    "np.sqrt(res['sq_error'].mean())"
   ]
  },
  {
   "cell_type": "code",
   "execution_count": 70,
   "metadata": {},
   "outputs": [
    {
     "data": {
      "text/plain": [
       "((array([-3.99670664, -3.78146666, -3.66372768, ...,  3.66372768,\n",
       "          3.78146666,  3.99670664]),\n",
       "  array([-3370245.89824074, -3202305.10886991, -2617702.01934138, ...,\n",
       "           784981.86121984,   819019.00112692,   964234.24011962])),\n",
       " (194692.3207773447, -1.8179715175480725e-09, 0.8987971704905929))"
      ]
     },
     "execution_count": 70,
     "metadata": {},
     "output_type": "execute_result"
    },
    {
     "data": {
      "image/png": "[encoded data removed]",
      "text/plain": [
       "<Figure size 640x480 with 1 Axes>"
      ]
     },
     "metadata": {},
     "output_type": "display_data"
    }
   ],
   "source": [
    "import scipy.stats as stats\n",
    "fig = plt.figure()\n",
    "ax = fig.add_subplot(111)\n",
    "stats.probplot(res['error'], dist='norm', plot=ax)"
   ]
  },
  {
   "cell_type": "code",
   "execution_count": 96,
   "metadata": {},
   "outputs": [],
   "source": [
    "house['log_price'] = np.log(house['price'])\n",
    "house['log_sqft_living'] = np.log(house['sqft_living'])\n",
    "house['log_sqft_lot'] = np.log(house['sqft_lot'])\n",
    "house['log_sqft_above'] = np.log(house['sqft_above'])\n",
    "house['log_sqft_living15'] = np.log(house['sqft_living15'])\n",
    "house['log_sqft_lot15'] = np.log(house['sqft_lot15'])"
   ]
  },
  {
   "cell_type": "code",
   "execution_count": 97,
   "metadata": {},
   "outputs": [
    {
     "name": "stdout",
     "output_type": "stream",
     "text": [
      "                            OLS Regression Results                            \n",
      "==============================================================================\n",
      "Dep. Variable:              log_price   R-squared:                       0.759\n",
      "Model:                            OLS   Adj. R-squared:                  0.759\n",
      "Method:                 Least Squares   F-statistic:                     5228.\n",
      "Date:                Tue, 11 Jul 2023   Prob (F-statistic):               0.00\n",
      "Time:                        15:00:26   Log-Likelihood:                -1306.8\n",
      "No. Observations:               21581   AIC:                             2642.\n",
      "Df Residuals:                   21567   BIC:                             2753.\n",
      "Df Model:                          13                                         \n",
      "Covariance Type:            nonrobust                                         \n",
      "=====================================================================================\n",
      "                        coef    std err          t      P>|t|      [0.025      0.975]\n",
      "-------------------------------------------------------------------------------------\n",
      "Intercept           -47.2580      2.101    -22.496      0.000     -51.376     -43.140\n",
      "bedrooms             -0.0251      0.003     -9.992      0.000      -0.030      -0.020\n",
      "bathrooms             0.0812      0.004     19.910      0.000       0.073       0.089\n",
      "log_sqft_living       0.3055      0.011     27.540      0.000       0.284       0.327\n",
      "log_sqft_lot          0.0051      0.005      1.016      0.310      -0.005       0.015\n",
      "view                  0.0831      0.002     33.324      0.000       0.078       0.088\n",
      "grade                 0.1677      0.003     63.052      0.000       0.162       0.173\n",
      "log_sqft_above        0.0575      0.009      6.244      0.000       0.039       0.076\n",
      "yr_built             -0.0041   8.56e-05    -47.509      0.000      -0.004      -0.004\n",
      "renov                 0.0460      0.009      5.010      0.000       0.028       0.064\n",
      "lat                   1.3202      0.013     98.307      0.000       1.294       1.346\n",
      "long                 -0.0011      0.016     -0.068      0.946      -0.032       0.030\n",
      "log_sqft_living15     0.2055      0.009     22.831      0.000       0.188       0.223\n",
      "log_sqft_lot15       -0.0351      0.006     -6.335      0.000      -0.046      -0.024\n",
      "==============================================================================\n",
      "Omnibus:                      395.983   Durbin-Watson:                   1.979\n",
      "Prob(Omnibus):                  0.000   Jarque-Bera (JB):              761.385\n",
      "Skew:                           0.101   Prob(JB):                    4.65e-166\n",
      "Kurtosis:                       3.898   Cond. No.                     2.37e+06\n",
      "==============================================================================\n",
      "\n",
      "Notes:\n",
      "[1] Standard Errors assume that the covariance matrix of the errors is correctly specified.\n",
      "[2] The condition number is large, 2.37e+06. This might indicate that there are\n",
      "strong multicollinearity or other numerical problems.\n"
     ]
    }
   ],
   "source": [
    "log_results = ols(\"log_price ~ bedrooms + bathrooms + log_sqft_living + log_sqft_lot + view + grade + log_sqft_above + yr_built + renov + lat + long + log_sqft_living15 + log_sqft_lot15\", data=house).fit()\n",
    "print(log_results.summary())"
   ]
  },
  {
   "cell_type": "code",
   "execution_count": 98,
   "metadata": {},
   "outputs": [
    {
     "name": "stdout",
     "output_type": "stream",
     "text": [
      "                            OLS Regression Results                            \n",
      "==============================================================================\n",
      "Dep. Variable:              log_price   R-squared:                       0.759\n",
      "Model:                            OLS   Adj. R-squared:                  0.759\n",
      "Method:                 Least Squares   F-statistic:                     6178.\n",
      "Date:                Tue, 11 Jul 2023   Prob (F-statistic):               0.00\n",
      "Time:                        15:01:25   Log-Likelihood:                -1307.4\n",
      "No. Observations:               21581   AIC:                             2639.\n",
      "Df Residuals:                   21569   BIC:                             2734.\n",
      "Df Model:                          11                                         \n",
      "Covariance Type:            nonrobust                                         \n",
      "=====================================================================================\n",
      "                        coef    std err          t      P>|t|      [0.025      0.975]\n",
      "-------------------------------------------------------------------------------------\n",
      "Intercept           -47.0724      0.690    -68.207      0.000     -48.425     -45.720\n",
      "bedrooms             -0.0251      0.003     -9.992      0.000      -0.030      -0.020\n",
      "bathrooms             0.0811      0.004     19.887      0.000       0.073       0.089\n",
      "log_sqft_living       0.3064      0.011     27.813      0.000       0.285       0.328\n",
      "view                  0.0832      0.002     33.555      0.000       0.078       0.088\n",
      "grade                 0.1676      0.003     63.786      0.000       0.162       0.173\n",
      "log_sqft_above        0.0581      0.009      6.405      0.000       0.040       0.076\n",
      "yr_built             -0.0041   8.04e-05    -50.731      0.000      -0.004      -0.004\n",
      "renov                 0.0457      0.009      4.983      0.000       0.028       0.064\n",
      "lat                   1.3193      0.013     98.453      0.000       1.293       1.346\n",
      "log_sqft_living15     0.2052      0.009     23.085      0.000       0.188       0.223\n",
      "log_sqft_lot15       -0.0301      0.002    -12.267      0.000      -0.035      -0.025\n",
      "==============================================================================\n",
      "Omnibus:                      397.542   Durbin-Watson:                   1.979\n",
      "Prob(Omnibus):                  0.000   Jarque-Bera (JB):              764.244\n",
      "Skew:                           0.103   Prob(JB):                    1.11e-166\n",
      "Kurtosis:                       3.899   Cond. No.                     7.78e+05\n",
      "==============================================================================\n",
      "\n",
      "Notes:\n",
      "[1] Standard Errors assume that the covariance matrix of the errors is correctly specified.\n",
      "[2] The condition number is large, 7.78e+05. This might indicate that there are\n",
      "strong multicollinearity or other numerical problems.\n"
     ]
    }
   ],
   "source": [
    "log_results_1 = ols(\"log_price ~ bedrooms + bathrooms + log_sqft_living + view + grade + log_sqft_above + yr_built + renov + lat + log_sqft_living15 + log_sqft_lot15\", data=house).fit()\n",
    "print(log_results_1.summary())"
   ]
  },
  {
   "cell_type": "code",
   "execution_count": 100,
   "metadata": {},
   "outputs": [],
   "source": [
    "log_pred_vals = log_results_1.predict(house[['log_sqft_living','bedrooms', 'bathrooms', 'grade', 'view', 'log_sqft_above', 'renov','lat', 'yr_built', 'log_sqft_living15', 'log_sqft_lot15']])"
   ]
  },
  {
   "cell_type": "code",
   "execution_count": 105,
   "metadata": {},
   "outputs": [],
   "source": [
    "log_res = pd.concat([log_pred_vals.to_frame().rename(columns={0:'y_hat'}),house['log_price']], axis=1)"
   ]
  },
  {
   "cell_type": "code",
   "execution_count": 106,
   "metadata": {},
   "outputs": [
    {
     "data": {
      "text/html": [
       "<div>\n",
       "<style scoped>\n",
       "    .dataframe tbody tr th:only-of-type {\n",
       "        vertical-align: middle;\n",
       "    }\n",
       "\n",
       "    .dataframe tbody tr th {\n",
       "        vertical-align: top;\n",
       "    }\n",
       "\n",
       "    .dataframe thead th {\n",
       "        text-align: right;\n",
       "    }\n",
       "</style>\n",
       "<table border=\"1\" class=\"dataframe\">\n",
       "  <thead>\n",
       "    <tr style=\"text-align: right;\">\n",
       "      <th></th>\n",
       "      <th>y_hat</th>\n",
       "      <th>log_price</th>\n",
       "    </tr>\n",
       "  </thead>\n",
       "  <tbody>\n",
       "    <tr>\n",
       "      <th>0</th>\n",
       "      <td>12.611167</td>\n",
       "      <td>12.309982</td>\n",
       "    </tr>\n",
       "    <tr>\n",
       "      <th>1</th>\n",
       "      <td>13.363742</td>\n",
       "      <td>13.195614</td>\n",
       "    </tr>\n",
       "    <tr>\n",
       "      <th>2</th>\n",
       "      <td>12.836402</td>\n",
       "      <td>12.100712</td>\n",
       "    </tr>\n",
       "    <tr>\n",
       "      <th>3</th>\n",
       "      <td>12.875534</td>\n",
       "      <td>13.311329</td>\n",
       "    </tr>\n",
       "    <tr>\n",
       "      <th>4</th>\n",
       "      <td>13.049510</td>\n",
       "      <td>13.142166</td>\n",
       "    </tr>\n",
       "    <tr>\n",
       "      <th>...</th>\n",
       "      <td>...</td>\n",
       "      <td>...</td>\n",
       "    </tr>\n",
       "    <tr>\n",
       "      <th>21608</th>\n",
       "      <td>13.089963</td>\n",
       "      <td>12.793859</td>\n",
       "    </tr>\n",
       "    <tr>\n",
       "      <th>21609</th>\n",
       "      <td>12.935598</td>\n",
       "      <td>12.899220</td>\n",
       "    </tr>\n",
       "    <tr>\n",
       "      <th>21610</th>\n",
       "      <td>12.427577</td>\n",
       "      <td>12.904459</td>\n",
       "    </tr>\n",
       "    <tr>\n",
       "      <th>21611</th>\n",
       "      <td>12.897268</td>\n",
       "      <td>12.899220</td>\n",
       "    </tr>\n",
       "    <tr>\n",
       "      <th>21612</th>\n",
       "      <td>12.443028</td>\n",
       "      <td>12.691580</td>\n",
       "    </tr>\n",
       "  </tbody>\n",
       "</table>\n",
       "<p>21581 rows × 2 columns</p>\n",
       "</div>"
      ],
      "text/plain": [
       "           y_hat  log_price\n",
       "0      12.611167  12.309982\n",
       "1      13.363742  13.195614\n",
       "2      12.836402  12.100712\n",
       "3      12.875534  13.311329\n",
       "4      13.049510  13.142166\n",
       "...          ...        ...\n",
       "21608  13.089963  12.793859\n",
       "21609  12.935598  12.899220\n",
       "21610  12.427577  12.904459\n",
       "21611  12.897268  12.899220\n",
       "21612  12.443028  12.691580\n",
       "\n",
       "[21581 rows x 2 columns]"
      ]
     },
     "execution_count": 106,
     "metadata": {},
     "output_type": "execute_result"
    }
   ],
   "source": [
    "log_res"
   ]
  },
  {
   "cell_type": "code",
   "execution_count": 107,
   "metadata": {},
   "outputs": [],
   "source": [
    "log_res['error'] = log_res['y_hat'] - log_res['log_price']"
   ]
  },
  {
   "cell_type": "code",
   "execution_count": 108,
   "metadata": {},
   "outputs": [],
   "source": [
    "log_res['sq_error'] = log_res['error']**2"
   ]
  },
  {
   "cell_type": "code",
   "execution_count": 109,
   "metadata": {},
   "outputs": [
    {
     "data": {
      "text/plain": [
       "0.25708211303680484"
      ]
     },
     "execution_count": 109,
     "metadata": {},
     "output_type": "execute_result"
    }
   ],
   "source": [
    "np.sqrt(log_res['sq_error'].mean())"
   ]
  },
  {
   "cell_type": "code",
   "execution_count": 110,
   "metadata": {},
   "outputs": [
    {
     "data": {
      "text/plain": [
       "((array([-3.9966847 , -3.78144359, -3.66370395, ...,  3.66370395,\n",
       "          3.78144359,  3.9966847 ]),\n",
       "  array([-1.44340096, -1.21603653, -1.14787536, ...,  1.21636098,\n",
       "          1.3178868 ,  1.33005613])),\n",
       " (0.2563607958073783, -1.1785080845637595e-13, 0.9970164711277619))"
      ]
     },
     "execution_count": 110,
     "metadata": {},
     "output_type": "execute_result"
    },
    {
     "data": {
      "image/png": "[encoded data removed]",
      "text/plain": [
       "<Figure size 640x480 with 1 Axes>"
      ]
     },
     "metadata": {},
     "output_type": "display_data"
    }
   ],
   "source": [
    "import scipy.stats as stats\n",
    "fig = plt.figure()\n",
    "ax = fig.add_subplot(111)\n",
    "stats.probplot(log_res['error'], dist='norm', plot=ax)"
   ]
  },
  {
   "cell_type": "code",
   "execution_count": 111,
   "metadata": {},
   "outputs": [],
   "source": [
    "categorical_features = ['renov', 'grade','bedrooms','bathrooms','view']\n",
    "numerical_features = ['log_sqft_living', 'lat','long','log_sqft_above', 'yr_built', 'log_sqft_living15', 'log_sqft_lot15']\n",
    "target = 'log_price'"
   ]
  },
  {
   "cell_type": "code",
   "execution_count": 112,
   "metadata": {},
   "outputs": [],
   "source": [
    "# split data in train / test\n",
    "X_train, X_test, y_train, y_test = train_test_split(house[categorical_features + numerical_features]\n",
    "                                                    ,house[target],\n",
    "                                                    test_size = 0.3, random_state=1234)"
   ]
  },
  {
   "cell_type": "code",
   "execution_count": 113,
   "metadata": {},
   "outputs": [],
   "source": [
    "# define transformers\n",
    "cat_transformer = Pipeline(steps = [('onehot', OneHotEncoder(handle_unknown='ignore'))])\n",
    "num_transformer = Pipeline(steps = [('scaler', StandardScaler())])"
   ]
  },
  {
   "cell_type": "code",
   "execution_count": 114,
   "metadata": {},
   "outputs": [],
   "source": [
    "# building processor\n",
    "preprocessor = ColumnTransformer(transformers = [('cat',cat_transformer, categorical_features),\n",
    "                                                 ('num', num_transformer, numerical_features)])"
   ]
  },
  {
   "cell_type": "code",
   "execution_count": 115,
   "metadata": {},
   "outputs": [],
   "source": [
    "linear_regression = Pipeline(steps = [\n",
    "    ('preprocessor', preprocessor),\n",
    "    ('regressor', LinearRegression())\n",
    "])"
   ]
  },
  {
   "cell_type": "code",
   "execution_count": 116,
   "metadata": {},
   "outputs": [
    {
     "data": {
      "text/html": [
       "<style>#sk-container-id-5 {color: black;background-color: white;}#sk-container-id-5 pre{padding: 0;}#sk-container-id-5 div.sk-toggleable {background-color: white;}#sk-container-id-5 label.sk-toggleable__label {cursor: pointer;display: block;width: 100%;margin-bottom: 0;padding: 0.3em;box-sizing: border-box;text-align: center;}#sk-container-id-5 label.sk-toggleable__label-arrow:before {content: \"▸\";float: left;margin-right: 0.25em;color: #696969;}#sk-container-id-5 label.sk-toggleable__label-arrow:hover:before {color: black;}#sk-container-id-5 div.sk-estimator:hover label.sk-toggleable__label-arrow:before {color: black;}#sk-container-id-5 div.sk-toggleable__content {max-height: 0;max-width: 0;overflow: hidden;text-align: left;background-color: #f0f8ff;}#sk-container-id-5 div.sk-toggleable__content pre {margin: 0.2em;color: black;border-radius: 0.25em;background-color: #f0f8ff;}#sk-container-id-5 input.sk-toggleable__control:checked~div.sk-toggleable__content {max-height: 200px;max-width: 100%;overflow: auto;}#sk-container-id-5 input.sk-toggleable__control:checked~label.sk-toggleable__label-arrow:before {content: \"▾\";}#sk-container-id-5 div.sk-estimator input.sk-toggleable__control:checked~label.sk-toggleable__label {background-color: #d4ebff;}#sk-container-id-5 div.sk-label input.sk-toggleable__control:checked~label.sk-toggleable__label {background-color: #d4ebff;}#sk-container-id-5 input.sk-hidden--visually {border: 0;clip: rect(1px 1px 1px 1px);clip: rect(1px, 1px, 1px, 1px);height: 1px;margin: -1px;overflow: hidden;padding: 0;position: absolute;width: 1px;}#sk-container-id-5 div.sk-estimator {font-family: monospace;background-color: #f0f8ff;border: 1px dotted black;border-radius: 0.25em;box-sizing: border-box;margin-bottom: 0.5em;}#sk-container-id-5 div.sk-estimator:hover {background-color: #d4ebff;}#sk-container-id-5 div.sk-parallel-item::after {content: \"\";width: 100%;border-bottom: 1px solid gray;flex-grow: 1;}#sk-container-id-5 div.sk-label:hover label.sk-toggleable__label {background-color: #d4ebff;}#sk-container-id-5 div.sk-serial::before {content: \"\";position: absolute;border-left: 1px solid gray;box-sizing: border-box;top: 0;bottom: 0;left: 50%;z-index: 0;}#sk-container-id-5 div.sk-serial {display: flex;flex-direction: column;align-items: center;background-color: white;padding-right: 0.2em;padding-left: 0.2em;position: relative;}#sk-container-id-5 div.sk-item {position: relative;z-index: 1;}#sk-container-id-5 div.sk-parallel {display: flex;align-items: stretch;justify-content: center;background-color: white;position: relative;}#sk-container-id-5 div.sk-item::before, #sk-container-id-5 div.sk-parallel-item::before {content: \"\";position: absolute;border-left: 1px solid gray;box-sizing: border-box;top: 0;bottom: 0;left: 50%;z-index: -1;}#sk-container-id-5 div.sk-parallel-item {display: flex;flex-direction: column;z-index: 1;position: relative;background-color: white;}#sk-container-id-5 div.sk-parallel-item:first-child::after {align-self: flex-end;width: 50%;}#sk-container-id-5 div.sk-parallel-item:last-child::after {align-self: flex-start;width: 50%;}#sk-container-id-5 div.sk-parallel-item:only-child::after {width: 0;}#sk-container-id-5 div.sk-dashed-wrapped {border: 1px dashed gray;margin: 0 0.4em 0.5em 0.4em;box-sizing: border-box;padding-bottom: 0.4em;background-color: white;}#sk-container-id-5 div.sk-label label {font-family: monospace;font-weight: bold;display: inline-block;line-height: 1.2em;}#sk-container-id-5 div.sk-label-container {text-align: center;}#sk-container-id-5 div.sk-container {/* jupyter's `normalize.less` sets `[hidden] { display: none; }` but bootstrap.min.css set `[hidden] { display: none !important; }` so we also need the `!important` here to be able to override the default hidden behavior on the sphinx rendered scikit-learn.org. See: https://github.com/scikit-learn/scikit-learn/issues/21755 */display: inline-block !important;position: relative;}#sk-container-id-5 div.sk-text-repr-fallback {display: none;}</style><div id=\"sk-container-id-5\" class=\"sk-top-container\"><div class=\"sk-text-repr-fallback\"><pre>Pipeline(steps=[(&#x27;preprocessor&#x27;,\n",
       "                 ColumnTransformer(transformers=[(&#x27;cat&#x27;,\n",
       "                                                  Pipeline(steps=[(&#x27;onehot&#x27;,\n",
       "                                                                   OneHotEncoder(handle_unknown=&#x27;ignore&#x27;))]),\n",
       "                                                  [&#x27;renov&#x27;, &#x27;grade&#x27;, &#x27;bedrooms&#x27;,\n",
       "                                                   &#x27;bathrooms&#x27;, &#x27;view&#x27;]),\n",
       "                                                 (&#x27;num&#x27;,\n",
       "                                                  Pipeline(steps=[(&#x27;scaler&#x27;,\n",
       "                                                                   StandardScaler())]),\n",
       "                                                  [&#x27;log_sqft_living&#x27;, &#x27;lat&#x27;,\n",
       "                                                   &#x27;long&#x27;, &#x27;log_sqft_above&#x27;,\n",
       "                                                   &#x27;yr_built&#x27;,\n",
       "                                                   &#x27;log_sqft_living15&#x27;,\n",
       "                                                   &#x27;log_sqft_lot15&#x27;])])),\n",
       "                (&#x27;regressor&#x27;, LinearRegression())])</pre><b>In a Jupyter environment, please rerun this cell to show the HTML representation or trust the notebook. <br />On GitHub, the HTML representation is unable to render, please try loading this page with nbviewer.org.</b></div><div class=\"sk-container\" hidden><div class=\"sk-item sk-dashed-wrapped\"><div class=\"sk-label-container\"><div class=\"sk-label sk-toggleable\"><input class=\"sk-toggleable__control sk-hidden--visually\" id=\"sk-estimator-id-29\" type=\"checkbox\" ><label for=\"sk-estimator-id-29\" class=\"sk-toggleable__label sk-toggleable__label-arrow\">Pipeline</label><div class=\"sk-toggleable__content\"><pre>Pipeline(steps=[(&#x27;preprocessor&#x27;,\n",
       "                 ColumnTransformer(transformers=[(&#x27;cat&#x27;,\n",
       "                                                  Pipeline(steps=[(&#x27;onehot&#x27;,\n",
       "                                                                   OneHotEncoder(handle_unknown=&#x27;ignore&#x27;))]),\n",
       "                                                  [&#x27;renov&#x27;, &#x27;grade&#x27;, &#x27;bedrooms&#x27;,\n",
       "                                                   &#x27;bathrooms&#x27;, &#x27;view&#x27;]),\n",
       "                                                 (&#x27;num&#x27;,\n",
       "                                                  Pipeline(steps=[(&#x27;scaler&#x27;,\n",
       "                                                                   StandardScaler())]),\n",
       "                                                  [&#x27;log_sqft_living&#x27;, &#x27;lat&#x27;,\n",
       "                                                   &#x27;long&#x27;, &#x27;log_sqft_above&#x27;,\n",
       "                                                   &#x27;yr_built&#x27;,\n",
       "                                                   &#x27;log_sqft_living15&#x27;,\n",
       "                                                   &#x27;log_sqft_lot15&#x27;])])),\n",
       "                (&#x27;regressor&#x27;, LinearRegression())])</pre></div></div></div><div class=\"sk-serial\"><div class=\"sk-item sk-dashed-wrapped\"><div class=\"sk-label-container\"><div class=\"sk-label sk-toggleable\"><input class=\"sk-toggleable__control sk-hidden--visually\" id=\"sk-estimator-id-30\" type=\"checkbox\" ><label for=\"sk-estimator-id-30\" class=\"sk-toggleable__label sk-toggleable__label-arrow\">preprocessor: ColumnTransformer</label><div class=\"sk-toggleable__content\"><pre>ColumnTransformer(transformers=[(&#x27;cat&#x27;,\n",
       "                                 Pipeline(steps=[(&#x27;onehot&#x27;,\n",
       "                                                  OneHotEncoder(handle_unknown=&#x27;ignore&#x27;))]),\n",
       "                                 [&#x27;renov&#x27;, &#x27;grade&#x27;, &#x27;bedrooms&#x27;, &#x27;bathrooms&#x27;,\n",
       "                                  &#x27;view&#x27;]),\n",
       "                                (&#x27;num&#x27;,\n",
       "                                 Pipeline(steps=[(&#x27;scaler&#x27;, StandardScaler())]),\n",
       "                                 [&#x27;log_sqft_living&#x27;, &#x27;lat&#x27;, &#x27;long&#x27;,\n",
       "                                  &#x27;log_sqft_above&#x27;, &#x27;yr_built&#x27;,\n",
       "                                  &#x27;log_sqft_living15&#x27;, &#x27;log_sqft_lot15&#x27;])])</pre></div></div></div><div class=\"sk-parallel\"><div class=\"sk-parallel-item\"><div class=\"sk-item\"><div class=\"sk-label-container\"><div class=\"sk-label sk-toggleable\"><input class=\"sk-toggleable__control sk-hidden--visually\" id=\"sk-estimator-id-31\" type=\"checkbox\" ><label for=\"sk-estimator-id-31\" class=\"sk-toggleable__label sk-toggleable__label-arrow\">cat</label><div class=\"sk-toggleable__content\"><pre>[&#x27;renov&#x27;, &#x27;grade&#x27;, &#x27;bedrooms&#x27;, &#x27;bathrooms&#x27;, &#x27;view&#x27;]</pre></div></div></div><div class=\"sk-serial\"><div class=\"sk-item\"><div class=\"sk-serial\"><div class=\"sk-item\"><div class=\"sk-estimator sk-toggleable\"><input class=\"sk-toggleable__control sk-hidden--visually\" id=\"sk-estimator-id-32\" type=\"checkbox\" ><label for=\"sk-estimator-id-32\" class=\"sk-toggleable__label sk-toggleable__label-arrow\">OneHotEncoder</label><div class=\"sk-toggleable__content\"><pre>OneHotEncoder(handle_unknown=&#x27;ignore&#x27;)</pre></div></div></div></div></div></div></div></div><div class=\"sk-parallel-item\"><div class=\"sk-item\"><div class=\"sk-label-container\"><div class=\"sk-label sk-toggleable\"><input class=\"sk-toggleable__control sk-hidden--visually\" id=\"sk-estimator-id-33\" type=\"checkbox\" ><label for=\"sk-estimator-id-33\" class=\"sk-toggleable__label sk-toggleable__label-arrow\">num</label><div class=\"sk-toggleable__content\"><pre>[&#x27;log_sqft_living&#x27;, &#x27;lat&#x27;, &#x27;long&#x27;, &#x27;log_sqft_above&#x27;, &#x27;yr_built&#x27;, &#x27;log_sqft_living15&#x27;, &#x27;log_sqft_lot15&#x27;]</pre></div></div></div><div class=\"sk-serial\"><div class=\"sk-item\"><div class=\"sk-serial\"><div class=\"sk-item\"><div class=\"sk-estimator sk-toggleable\"><input class=\"sk-toggleable__control sk-hidden--visually\" id=\"sk-estimator-id-34\" type=\"checkbox\" ><label for=\"sk-estimator-id-34\" class=\"sk-toggleable__label sk-toggleable__label-arrow\">StandardScaler</label><div class=\"sk-toggleable__content\"><pre>StandardScaler()</pre></div></div></div></div></div></div></div></div></div></div><div class=\"sk-item\"><div class=\"sk-estimator sk-toggleable\"><input class=\"sk-toggleable__control sk-hidden--visually\" id=\"sk-estimator-id-35\" type=\"checkbox\" ><label for=\"sk-estimator-id-35\" class=\"sk-toggleable__label sk-toggleable__label-arrow\">LinearRegression</label><div class=\"sk-toggleable__content\"><pre>LinearRegression()</pre></div></div></div></div></div></div></div>"
      ],
      "text/plain": [
       "Pipeline(steps=[('preprocessor',\n",
       "                 ColumnTransformer(transformers=[('cat',\n",
       "                                                  Pipeline(steps=[('onehot',\n",
       "                                                                   OneHotEncoder(handle_unknown='ignore'))]),\n",
       "                                                  ['renov', 'grade', 'bedrooms',\n",
       "                                                   'bathrooms', 'view']),\n",
       "                                                 ('num',\n",
       "                                                  Pipeline(steps=[('scaler',\n",
       "                                                                   StandardScaler())]),\n",
       "                                                  ['log_sqft_living', 'lat',\n",
       "                                                   'long', 'log_sqft_above',\n",
       "                                                   'yr_built',\n",
       "                                                   'log_sqft_living15',\n",
       "                                                   'log_sqft_lot15'])])),\n",
       "                ('regressor', LinearRegression())])"
      ]
     },
     "execution_count": 116,
     "metadata": {},
     "output_type": "execute_result"
    }
   ],
   "source": [
    "linear_regression.fit(X_train, y_train)"
   ]
  },
  {
   "cell_type": "code",
   "execution_count": 117,
   "metadata": {},
   "outputs": [],
   "source": [
    "pred = linear_regression.predict(X_test)"
   ]
  },
  {
   "cell_type": "code",
   "execution_count": 118,
   "metadata": {},
   "outputs": [
    {
     "data": {
      "text/plain": [
       "array([12.22007799, 13.2469868 , 12.9582122 , ..., 12.63298918,\n",
       "       13.96232176, 13.15736406])"
      ]
     },
     "execution_count": 118,
     "metadata": {},
     "output_type": "execute_result"
    }
   ],
   "source": [
    "pred"
   ]
  },
  {
   "cell_type": "code",
   "execution_count": 119,
   "metadata": {},
   "outputs": [],
   "source": [
    "from sklearn.metrics import mean_squared_error"
   ]
  },
  {
   "cell_type": "code",
   "execution_count": 120,
   "metadata": {},
   "outputs": [
    {
     "data": {
      "text/plain": [
       "0.25190652630157"
      ]
     },
     "execution_count": 120,
     "metadata": {},
     "output_type": "execute_result"
    }
   ],
   "source": [
    "np.sqrt(mean_squared_error(pred,y_test))"
   ]
  },
  {
   "cell_type": "code",
   "execution_count": 121,
   "metadata": {},
   "outputs": [],
   "source": [
    "ridge_regression = Pipeline(steps = [\n",
    "    ('preprocessor', preprocessor),\n",
    "    ('regressor', Ridge(alpha=3.0))\n",
    "])"
   ]
  },
  {
   "cell_type": "code",
   "execution_count": 122,
   "metadata": {},
   "outputs": [
    {
     "data": {
      "text/html": [
       "<style>#sk-container-id-6 {color: black;background-color: white;}#sk-container-id-6 pre{padding: 0;}#sk-container-id-6 div.sk-toggleable {background-color: white;}#sk-container-id-6 label.sk-toggleable__label {cursor: pointer;display: block;width: 100%;margin-bottom: 0;padding: 0.3em;box-sizing: border-box;text-align: center;}#sk-container-id-6 label.sk-toggleable__label-arrow:before {content: \"▸\";float: left;margin-right: 0.25em;color: #696969;}#sk-container-id-6 label.sk-toggleable__label-arrow:hover:before {color: black;}#sk-container-id-6 div.sk-estimator:hover label.sk-toggleable__label-arrow:before {color: black;}#sk-container-id-6 div.sk-toggleable__content {max-height: 0;max-width: 0;overflow: hidden;text-align: left;background-color: #f0f8ff;}#sk-container-id-6 div.sk-toggleable__content pre {margin: 0.2em;color: black;border-radius: 0.25em;background-color: #f0f8ff;}#sk-container-id-6 input.sk-toggleable__control:checked~div.sk-toggleable__content {max-height: 200px;max-width: 100%;overflow: auto;}#sk-container-id-6 input.sk-toggleable__control:checked~label.sk-toggleable__label-arrow:before {content: \"▾\";}#sk-container-id-6 div.sk-estimator input.sk-toggleable__control:checked~label.sk-toggleable__label {background-color: #d4ebff;}#sk-container-id-6 div.sk-label input.sk-toggleable__control:checked~label.sk-toggleable__label {background-color: #d4ebff;}#sk-container-id-6 input.sk-hidden--visually {border: 0;clip: rect(1px 1px 1px 1px);clip: rect(1px, 1px, 1px, 1px);height: 1px;margin: -1px;overflow: hidden;padding: 0;position: absolute;width: 1px;}#sk-container-id-6 div.sk-estimator {font-family: monospace;background-color: #f0f8ff;border: 1px dotted black;border-radius: 0.25em;box-sizing: border-box;margin-bottom: 0.5em;}#sk-container-id-6 div.sk-estimator:hover {background-color: #d4ebff;}#sk-container-id-6 div.sk-parallel-item::after {content: \"\";width: 100%;border-bottom: 1px solid gray;flex-grow: 1;}#sk-container-id-6 div.sk-label:hover label.sk-toggleable__label {background-color: #d4ebff;}#sk-container-id-6 div.sk-serial::before {content: \"\";position: absolute;border-left: 1px solid gray;box-sizing: border-box;top: 0;bottom: 0;left: 50%;z-index: 0;}#sk-container-id-6 div.sk-serial {display: flex;flex-direction: column;align-items: center;background-color: white;padding-right: 0.2em;padding-left: 0.2em;position: relative;}#sk-container-id-6 div.sk-item {position: relative;z-index: 1;}#sk-container-id-6 div.sk-parallel {display: flex;align-items: stretch;justify-content: center;background-color: white;position: relative;}#sk-container-id-6 div.sk-item::before, #sk-container-id-6 div.sk-parallel-item::before {content: \"\";position: absolute;border-left: 1px solid gray;box-sizing: border-box;top: 0;bottom: 0;left: 50%;z-index: -1;}#sk-container-id-6 div.sk-parallel-item {display: flex;flex-direction: column;z-index: 1;position: relative;background-color: white;}#sk-container-id-6 div.sk-parallel-item:first-child::after {align-self: flex-end;width: 50%;}#sk-container-id-6 div.sk-parallel-item:last-child::after {align-self: flex-start;width: 50%;}#sk-container-id-6 div.sk-parallel-item:only-child::after {width: 0;}#sk-container-id-6 div.sk-dashed-wrapped {border: 1px dashed gray;margin: 0 0.4em 0.5em 0.4em;box-sizing: border-box;padding-bottom: 0.4em;background-color: white;}#sk-container-id-6 div.sk-label label {font-family: monospace;font-weight: bold;display: inline-block;line-height: 1.2em;}#sk-container-id-6 div.sk-label-container {text-align: center;}#sk-container-id-6 div.sk-container {/* jupyter's `normalize.less` sets `[hidden] { display: none; }` but bootstrap.min.css set `[hidden] { display: none !important; }` so we also need the `!important` here to be able to override the default hidden behavior on the sphinx rendered scikit-learn.org. See: https://github.com/scikit-learn/scikit-learn/issues/21755 */display: inline-block !important;position: relative;}#sk-container-id-6 div.sk-text-repr-fallback {display: none;}</style><div id=\"sk-container-id-6\" class=\"sk-top-container\"><div class=\"sk-text-repr-fallback\"><pre>Pipeline(steps=[(&#x27;preprocessor&#x27;,\n",
       "                 ColumnTransformer(transformers=[(&#x27;cat&#x27;,\n",
       "                                                  Pipeline(steps=[(&#x27;onehot&#x27;,\n",
       "                                                                   OneHotEncoder(handle_unknown=&#x27;ignore&#x27;))]),\n",
       "                                                  [&#x27;renov&#x27;, &#x27;grade&#x27;, &#x27;bedrooms&#x27;,\n",
       "                                                   &#x27;bathrooms&#x27;, &#x27;view&#x27;]),\n",
       "                                                 (&#x27;num&#x27;,\n",
       "                                                  Pipeline(steps=[(&#x27;scaler&#x27;,\n",
       "                                                                   StandardScaler())]),\n",
       "                                                  [&#x27;log_sqft_living&#x27;, &#x27;lat&#x27;,\n",
       "                                                   &#x27;long&#x27;, &#x27;log_sqft_above&#x27;,\n",
       "                                                   &#x27;yr_built&#x27;,\n",
       "                                                   &#x27;log_sqft_living15&#x27;,\n",
       "                                                   &#x27;log_sqft_lot15&#x27;])])),\n",
       "                (&#x27;regressor&#x27;, Ridge(alpha=3.0))])</pre><b>In a Jupyter environment, please rerun this cell to show the HTML representation or trust the notebook. <br />On GitHub, the HTML representation is unable to render, please try loading this page with nbviewer.org.</b></div><div class=\"sk-container\" hidden><div class=\"sk-item sk-dashed-wrapped\"><div class=\"sk-label-container\"><div class=\"sk-label sk-toggleable\"><input class=\"sk-toggleable__control sk-hidden--visually\" id=\"sk-estimator-id-36\" type=\"checkbox\" ><label for=\"sk-estimator-id-36\" class=\"sk-toggleable__label sk-toggleable__label-arrow\">Pipeline</label><div class=\"sk-toggleable__content\"><pre>Pipeline(steps=[(&#x27;preprocessor&#x27;,\n",
       "                 ColumnTransformer(transformers=[(&#x27;cat&#x27;,\n",
       "                                                  Pipeline(steps=[(&#x27;onehot&#x27;,\n",
       "                                                                   OneHotEncoder(handle_unknown=&#x27;ignore&#x27;))]),\n",
       "                                                  [&#x27;renov&#x27;, &#x27;grade&#x27;, &#x27;bedrooms&#x27;,\n",
       "                                                   &#x27;bathrooms&#x27;, &#x27;view&#x27;]),\n",
       "                                                 (&#x27;num&#x27;,\n",
       "                                                  Pipeline(steps=[(&#x27;scaler&#x27;,\n",
       "                                                                   StandardScaler())]),\n",
       "                                                  [&#x27;log_sqft_living&#x27;, &#x27;lat&#x27;,\n",
       "                                                   &#x27;long&#x27;, &#x27;log_sqft_above&#x27;,\n",
       "                                                   &#x27;yr_built&#x27;,\n",
       "                                                   &#x27;log_sqft_living15&#x27;,\n",
       "                                                   &#x27;log_sqft_lot15&#x27;])])),\n",
       "                (&#x27;regressor&#x27;, Ridge(alpha=3.0))])</pre></div></div></div><div class=\"sk-serial\"><div class=\"sk-item sk-dashed-wrapped\"><div class=\"sk-label-container\"><div class=\"sk-label sk-toggleable\"><input class=\"sk-toggleable__control sk-hidden--visually\" id=\"sk-estimator-id-37\" type=\"checkbox\" ><label for=\"sk-estimator-id-37\" class=\"sk-toggleable__label sk-toggleable__label-arrow\">preprocessor: ColumnTransformer</label><div class=\"sk-toggleable__content\"><pre>ColumnTransformer(transformers=[(&#x27;cat&#x27;,\n",
       "                                 Pipeline(steps=[(&#x27;onehot&#x27;,\n",
       "                                                  OneHotEncoder(handle_unknown=&#x27;ignore&#x27;))]),\n",
       "                                 [&#x27;renov&#x27;, &#x27;grade&#x27;, &#x27;bedrooms&#x27;, &#x27;bathrooms&#x27;,\n",
       "                                  &#x27;view&#x27;]),\n",
       "                                (&#x27;num&#x27;,\n",
       "                                 Pipeline(steps=[(&#x27;scaler&#x27;, StandardScaler())]),\n",
       "                                 [&#x27;log_sqft_living&#x27;, &#x27;lat&#x27;, &#x27;long&#x27;,\n",
       "                                  &#x27;log_sqft_above&#x27;, &#x27;yr_built&#x27;,\n",
       "                                  &#x27;log_sqft_living15&#x27;, &#x27;log_sqft_lot15&#x27;])])</pre></div></div></div><div class=\"sk-parallel\"><div class=\"sk-parallel-item\"><div class=\"sk-item\"><div class=\"sk-label-container\"><div class=\"sk-label sk-toggleable\"><input class=\"sk-toggleable__control sk-hidden--visually\" id=\"sk-estimator-id-38\" type=\"checkbox\" ><label for=\"sk-estimator-id-38\" class=\"sk-toggleable__label sk-toggleable__label-arrow\">cat</label><div class=\"sk-toggleable__content\"><pre>[&#x27;renov&#x27;, &#x27;grade&#x27;, &#x27;bedrooms&#x27;, &#x27;bathrooms&#x27;, &#x27;view&#x27;]</pre></div></div></div><div class=\"sk-serial\"><div class=\"sk-item\"><div class=\"sk-serial\"><div class=\"sk-item\"><div class=\"sk-estimator sk-toggleable\"><input class=\"sk-toggleable__control sk-hidden--visually\" id=\"sk-estimator-id-39\" type=\"checkbox\" ><label for=\"sk-estimator-id-39\" class=\"sk-toggleable__label sk-toggleable__label-arrow\">OneHotEncoder</label><div class=\"sk-toggleable__content\"><pre>OneHotEncoder(handle_unknown=&#x27;ignore&#x27;)</pre></div></div></div></div></div></div></div></div><div class=\"sk-parallel-item\"><div class=\"sk-item\"><div class=\"sk-label-container\"><div class=\"sk-label sk-toggleable\"><input class=\"sk-toggleable__control sk-hidden--visually\" id=\"sk-estimator-id-40\" type=\"checkbox\" ><label for=\"sk-estimator-id-40\" class=\"sk-toggleable__label sk-toggleable__label-arrow\">num</label><div class=\"sk-toggleable__content\"><pre>[&#x27;log_sqft_living&#x27;, &#x27;lat&#x27;, &#x27;long&#x27;, &#x27;log_sqft_above&#x27;, &#x27;yr_built&#x27;, &#x27;log_sqft_living15&#x27;, &#x27;log_sqft_lot15&#x27;]</pre></div></div></div><div class=\"sk-serial\"><div class=\"sk-item\"><div class=\"sk-serial\"><div class=\"sk-item\"><div class=\"sk-estimator sk-toggleable\"><input class=\"sk-toggleable__control sk-hidden--visually\" id=\"sk-estimator-id-41\" type=\"checkbox\" ><label for=\"sk-estimator-id-41\" class=\"sk-toggleable__label sk-toggleable__label-arrow\">StandardScaler</label><div class=\"sk-toggleable__content\"><pre>StandardScaler()</pre></div></div></div></div></div></div></div></div></div></div><div class=\"sk-item\"><div class=\"sk-estimator sk-toggleable\"><input class=\"sk-toggleable__control sk-hidden--visually\" id=\"sk-estimator-id-42\" type=\"checkbox\" ><label for=\"sk-estimator-id-42\" class=\"sk-toggleable__label sk-toggleable__label-arrow\">Ridge</label><div class=\"sk-toggleable__content\"><pre>Ridge(alpha=3.0)</pre></div></div></div></div></div></div></div>"
      ],
      "text/plain": [
       "Pipeline(steps=[('preprocessor',\n",
       "                 ColumnTransformer(transformers=[('cat',\n",
       "                                                  Pipeline(steps=[('onehot',\n",
       "                                                                   OneHotEncoder(handle_unknown='ignore'))]),\n",
       "                                                  ['renov', 'grade', 'bedrooms',\n",
       "                                                   'bathrooms', 'view']),\n",
       "                                                 ('num',\n",
       "                                                  Pipeline(steps=[('scaler',\n",
       "                                                                   StandardScaler())]),\n",
       "                                                  ['log_sqft_living', 'lat',\n",
       "                                                   'long', 'log_sqft_above',\n",
       "                                                   'yr_built',\n",
       "                                                   'log_sqft_living15',\n",
       "                                                   'log_sqft_lot15'])])),\n",
       "                ('regressor', Ridge(alpha=3.0))])"
      ]
     },
     "execution_count": 122,
     "metadata": {},
     "output_type": "execute_result"
    }
   ],
   "source": [
    "ridge_regression.fit(X_train, y_train)"
   ]
  },
  {
   "cell_type": "code",
   "execution_count": 123,
   "metadata": {},
   "outputs": [],
   "source": [
    "pred_ridge = ridge_regression.predict(X_test)"
   ]
  },
  {
   "cell_type": "code",
   "execution_count": 124,
   "metadata": {},
   "outputs": [
    {
     "data": {
      "text/plain": [
       "0.2519026179968532"
      ]
     },
     "execution_count": 124,
     "metadata": {},
     "output_type": "execute_result"
    }
   ],
   "source": [
    "np.sqrt(mean_squared_error(pred_ridge,y_test))"
   ]
  },
  {
   "cell_type": "code",
   "execution_count": 129,
   "metadata": {},
   "outputs": [],
   "source": [
    "lasso_regression = Pipeline(steps = [\n",
    "    ('preprocessor', preprocessor),\n",
    "    ('regressor', Lasso(alpha=1.0))\n",
    "])"
   ]
  },
  {
   "cell_type": "code",
   "execution_count": 130,
   "metadata": {},
   "outputs": [
    {
     "data": {
      "text/html": [
       "<style>#sk-container-id-9 {color: black;background-color: white;}#sk-container-id-9 pre{padding: 0;}#sk-container-id-9 div.sk-toggleable {background-color: white;}#sk-container-id-9 label.sk-toggleable__label {cursor: pointer;display: block;width: 100%;margin-bottom: 0;padding: 0.3em;box-sizing: border-box;text-align: center;}#sk-container-id-9 label.sk-toggleable__label-arrow:before {content: \"▸\";float: left;margin-right: 0.25em;color: #696969;}#sk-container-id-9 label.sk-toggleable__label-arrow:hover:before {color: black;}#sk-container-id-9 div.sk-estimator:hover label.sk-toggleable__label-arrow:before {color: black;}#sk-container-id-9 div.sk-toggleable__content {max-height: 0;max-width: 0;overflow: hidden;text-align: left;background-color: #f0f8ff;}#sk-container-id-9 div.sk-toggleable__content pre {margin: 0.2em;color: black;border-radius: 0.25em;background-color: #f0f8ff;}#sk-container-id-9 input.sk-toggleable__control:checked~div.sk-toggleable__content {max-height: 200px;max-width: 100%;overflow: auto;}#sk-container-id-9 input.sk-toggleable__control:checked~label.sk-toggleable__label-arrow:before {content: \"▾\";}#sk-container-id-9 div.sk-estimator input.sk-toggleable__control:checked~label.sk-toggleable__label {background-color: #d4ebff;}#sk-container-id-9 div.sk-label input.sk-toggleable__control:checked~label.sk-toggleable__label {background-color: #d4ebff;}#sk-container-id-9 input.sk-hidden--visually {border: 0;clip: rect(1px 1px 1px 1px);clip: rect(1px, 1px, 1px, 1px);height: 1px;margin: -1px;overflow: hidden;padding: 0;position: absolute;width: 1px;}#sk-container-id-9 div.sk-estimator {font-family: monospace;background-color: #f0f8ff;border: 1px dotted black;border-radius: 0.25em;box-sizing: border-box;margin-bottom: 0.5em;}#sk-container-id-9 div.sk-estimator:hover {background-color: #d4ebff;}#sk-container-id-9 div.sk-parallel-item::after {content: \"\";width: 100%;border-bottom: 1px solid gray;flex-grow: 1;}#sk-container-id-9 div.sk-label:hover label.sk-toggleable__label {background-color: #d4ebff;}#sk-container-id-9 div.sk-serial::before {content: \"\";position: absolute;border-left: 1px solid gray;box-sizing: border-box;top: 0;bottom: 0;left: 50%;z-index: 0;}#sk-container-id-9 div.sk-serial {display: flex;flex-direction: column;align-items: center;background-color: white;padding-right: 0.2em;padding-left: 0.2em;position: relative;}#sk-container-id-9 div.sk-item {position: relative;z-index: 1;}#sk-container-id-9 div.sk-parallel {display: flex;align-items: stretch;justify-content: center;background-color: white;position: relative;}#sk-container-id-9 div.sk-item::before, #sk-container-id-9 div.sk-parallel-item::before {content: \"\";position: absolute;border-left: 1px solid gray;box-sizing: border-box;top: 0;bottom: 0;left: 50%;z-index: -1;}#sk-container-id-9 div.sk-parallel-item {display: flex;flex-direction: column;z-index: 1;position: relative;background-color: white;}#sk-container-id-9 div.sk-parallel-item:first-child::after {align-self: flex-end;width: 50%;}#sk-container-id-9 div.sk-parallel-item:last-child::after {align-self: flex-start;width: 50%;}#sk-container-id-9 div.sk-parallel-item:only-child::after {width: 0;}#sk-container-id-9 div.sk-dashed-wrapped {border: 1px dashed gray;margin: 0 0.4em 0.5em 0.4em;box-sizing: border-box;padding-bottom: 0.4em;background-color: white;}#sk-container-id-9 div.sk-label label {font-family: monospace;font-weight: bold;display: inline-block;line-height: 1.2em;}#sk-container-id-9 div.sk-label-container {text-align: center;}#sk-container-id-9 div.sk-container {/* jupyter's `normalize.less` sets `[hidden] { display: none; }` but bootstrap.min.css set `[hidden] { display: none !important; }` so we also need the `!important` here to be able to override the default hidden behavior on the sphinx rendered scikit-learn.org. See: https://github.com/scikit-learn/scikit-learn/issues/21755 */display: inline-block !important;position: relative;}#sk-container-id-9 div.sk-text-repr-fallback {display: none;}</style><div id=\"sk-container-id-9\" class=\"sk-top-container\"><div class=\"sk-text-repr-fallback\"><pre>Pipeline(steps=[(&#x27;preprocessor&#x27;,\n",
       "                 ColumnTransformer(transformers=[(&#x27;cat&#x27;,\n",
       "                                                  Pipeline(steps=[(&#x27;onehot&#x27;,\n",
       "                                                                   OneHotEncoder(handle_unknown=&#x27;ignore&#x27;))]),\n",
       "                                                  [&#x27;renov&#x27;, &#x27;grade&#x27;, &#x27;bedrooms&#x27;,\n",
       "                                                   &#x27;bathrooms&#x27;, &#x27;view&#x27;]),\n",
       "                                                 (&#x27;num&#x27;,\n",
       "                                                  Pipeline(steps=[(&#x27;scaler&#x27;,\n",
       "                                                                   StandardScaler())]),\n",
       "                                                  [&#x27;log_sqft_living&#x27;, &#x27;lat&#x27;,\n",
       "                                                   &#x27;long&#x27;, &#x27;log_sqft_above&#x27;,\n",
       "                                                   &#x27;yr_built&#x27;,\n",
       "                                                   &#x27;log_sqft_living15&#x27;,\n",
       "                                                   &#x27;log_sqft_lot15&#x27;])])),\n",
       "                (&#x27;regressor&#x27;, Lasso())])</pre><b>In a Jupyter environment, please rerun this cell to show the HTML representation or trust the notebook. <br />On GitHub, the HTML representation is unable to render, please try loading this page with nbviewer.org.</b></div><div class=\"sk-container\" hidden><div class=\"sk-item sk-dashed-wrapped\"><div class=\"sk-label-container\"><div class=\"sk-label sk-toggleable\"><input class=\"sk-toggleable__control sk-hidden--visually\" id=\"sk-estimator-id-57\" type=\"checkbox\" ><label for=\"sk-estimator-id-57\" class=\"sk-toggleable__label sk-toggleable__label-arrow\">Pipeline</label><div class=\"sk-toggleable__content\"><pre>Pipeline(steps=[(&#x27;preprocessor&#x27;,\n",
       "                 ColumnTransformer(transformers=[(&#x27;cat&#x27;,\n",
       "                                                  Pipeline(steps=[(&#x27;onehot&#x27;,\n",
       "                                                                   OneHotEncoder(handle_unknown=&#x27;ignore&#x27;))]),\n",
       "                                                  [&#x27;renov&#x27;, &#x27;grade&#x27;, &#x27;bedrooms&#x27;,\n",
       "                                                   &#x27;bathrooms&#x27;, &#x27;view&#x27;]),\n",
       "                                                 (&#x27;num&#x27;,\n",
       "                                                  Pipeline(steps=[(&#x27;scaler&#x27;,\n",
       "                                                                   StandardScaler())]),\n",
       "                                                  [&#x27;log_sqft_living&#x27;, &#x27;lat&#x27;,\n",
       "                                                   &#x27;long&#x27;, &#x27;log_sqft_above&#x27;,\n",
       "                                                   &#x27;yr_built&#x27;,\n",
       "                                                   &#x27;log_sqft_living15&#x27;,\n",
       "                                                   &#x27;log_sqft_lot15&#x27;])])),\n",
       "                (&#x27;regressor&#x27;, Lasso())])</pre></div></div></div><div class=\"sk-serial\"><div class=\"sk-item sk-dashed-wrapped\"><div class=\"sk-label-container\"><div class=\"sk-label sk-toggleable\"><input class=\"sk-toggleable__control sk-hidden--visually\" id=\"sk-estimator-id-58\" type=\"checkbox\" ><label for=\"sk-estimator-id-58\" class=\"sk-toggleable__label sk-toggleable__label-arrow\">preprocessor: ColumnTransformer</label><div class=\"sk-toggleable__content\"><pre>ColumnTransformer(transformers=[(&#x27;cat&#x27;,\n",
       "                                 Pipeline(steps=[(&#x27;onehot&#x27;,\n",
       "                                                  OneHotEncoder(handle_unknown=&#x27;ignore&#x27;))]),\n",
       "                                 [&#x27;renov&#x27;, &#x27;grade&#x27;, &#x27;bedrooms&#x27;, &#x27;bathrooms&#x27;,\n",
       "                                  &#x27;view&#x27;]),\n",
       "                                (&#x27;num&#x27;,\n",
       "                                 Pipeline(steps=[(&#x27;scaler&#x27;, StandardScaler())]),\n",
       "                                 [&#x27;log_sqft_living&#x27;, &#x27;lat&#x27;, &#x27;long&#x27;,\n",
       "                                  &#x27;log_sqft_above&#x27;, &#x27;yr_built&#x27;,\n",
       "                                  &#x27;log_sqft_living15&#x27;, &#x27;log_sqft_lot15&#x27;])])</pre></div></div></div><div class=\"sk-parallel\"><div class=\"sk-parallel-item\"><div class=\"sk-item\"><div class=\"sk-label-container\"><div class=\"sk-label sk-toggleable\"><input class=\"sk-toggleable__control sk-hidden--visually\" id=\"sk-estimator-id-59\" type=\"checkbox\" ><label for=\"sk-estimator-id-59\" class=\"sk-toggleable__label sk-toggleable__label-arrow\">cat</label><div class=\"sk-toggleable__content\"><pre>[&#x27;renov&#x27;, &#x27;grade&#x27;, &#x27;bedrooms&#x27;, &#x27;bathrooms&#x27;, &#x27;view&#x27;]</pre></div></div></div><div class=\"sk-serial\"><div class=\"sk-item\"><div class=\"sk-serial\"><div class=\"sk-item\"><div class=\"sk-estimator sk-toggleable\"><input class=\"sk-toggleable__control sk-hidden--visually\" id=\"sk-estimator-id-60\" type=\"checkbox\" ><label for=\"sk-estimator-id-60\" class=\"sk-toggleable__label sk-toggleable__label-arrow\">OneHotEncoder</label><div class=\"sk-toggleable__content\"><pre>OneHotEncoder(handle_unknown=&#x27;ignore&#x27;)</pre></div></div></div></div></div></div></div></div><div class=\"sk-parallel-item\"><div class=\"sk-item\"><div class=\"sk-label-container\"><div class=\"sk-label sk-toggleable\"><input class=\"sk-toggleable__control sk-hidden--visually\" id=\"sk-estimator-id-61\" type=\"checkbox\" ><label for=\"sk-estimator-id-61\" class=\"sk-toggleable__label sk-toggleable__label-arrow\">num</label><div class=\"sk-toggleable__content\"><pre>[&#x27;log_sqft_living&#x27;, &#x27;lat&#x27;, &#x27;long&#x27;, &#x27;log_sqft_above&#x27;, &#x27;yr_built&#x27;, &#x27;log_sqft_living15&#x27;, &#x27;log_sqft_lot15&#x27;]</pre></div></div></div><div class=\"sk-serial\"><div class=\"sk-item\"><div class=\"sk-serial\"><div class=\"sk-item\"><div class=\"sk-estimator sk-toggleable\"><input class=\"sk-toggleable__control sk-hidden--visually\" id=\"sk-estimator-id-62\" type=\"checkbox\" ><label for=\"sk-estimator-id-62\" class=\"sk-toggleable__label sk-toggleable__label-arrow\">StandardScaler</label><div class=\"sk-toggleable__content\"><pre>StandardScaler()</pre></div></div></div></div></div></div></div></div></div></div><div class=\"sk-item\"><div class=\"sk-estimator sk-toggleable\"><input class=\"sk-toggleable__control sk-hidden--visually\" id=\"sk-estimator-id-63\" type=\"checkbox\" ><label for=\"sk-estimator-id-63\" class=\"sk-toggleable__label sk-toggleable__label-arrow\">Lasso</label><div class=\"sk-toggleable__content\"><pre>Lasso()</pre></div></div></div></div></div></div></div>"
      ],
      "text/plain": [
       "Pipeline(steps=[('preprocessor',\n",
       "                 ColumnTransformer(transformers=[('cat',\n",
       "                                                  Pipeline(steps=[('onehot',\n",
       "                                                                   OneHotEncoder(handle_unknown='ignore'))]),\n",
       "                                                  ['renov', 'grade', 'bedrooms',\n",
       "                                                   'bathrooms', 'view']),\n",
       "                                                 ('num',\n",
       "                                                  Pipeline(steps=[('scaler',\n",
       "                                                                   StandardScaler())]),\n",
       "                                                  ['log_sqft_living', 'lat',\n",
       "                                                   'long', 'log_sqft_above',\n",
       "                                                   'yr_built',\n",
       "                                                   'log_sqft_living15',\n",
       "                                                   'log_sqft_lot15'])])),\n",
       "                ('regressor', Lasso())])"
      ]
     },
     "execution_count": 130,
     "metadata": {},
     "output_type": "execute_result"
    }
   ],
   "source": [
    "lasso_regression.fit(X_train, y_train)"
   ]
  },
  {
   "cell_type": "code",
   "execution_count": 131,
   "metadata": {},
   "outputs": [],
   "source": [
    "lasso_pred = lasso_regression.predict(X_test)"
   ]
  },
  {
   "cell_type": "code",
   "execution_count": 132,
   "metadata": {},
   "outputs": [
    {
     "data": {
      "text/plain": [
       "0.5180792904786247"
      ]
     },
     "execution_count": 132,
     "metadata": {},
     "output_type": "execute_result"
    }
   ],
   "source": [
    "np.sqrt(mean_squared_error(lasso_pred, y_test))"
   ]
  },
  {
   "cell_type": "code",
   "execution_count": 133,
   "metadata": {},
   "outputs": [],
   "source": [
    "elasticnet_regression = Pipeline(steps = [\n",
    "    ('preprocessor', preprocessor),\n",
    "    ('regressor', ElasticNet(alpha=1.0, l1_ratio=0.8))\n",
    "])"
   ]
  },
  {
   "cell_type": "code",
   "execution_count": 134,
   "metadata": {},
   "outputs": [
    {
     "data": {
      "text/html": [
       "<style>#sk-container-id-10 {color: black;background-color: white;}#sk-container-id-10 pre{padding: 0;}#sk-container-id-10 div.sk-toggleable {background-color: white;}#sk-container-id-10 label.sk-toggleable__label {cursor: pointer;display: block;width: 100%;margin-bottom: 0;padding: 0.3em;box-sizing: border-box;text-align: center;}#sk-container-id-10 label.sk-toggleable__label-arrow:before {content: \"▸\";float: left;margin-right: 0.25em;color: #696969;}#sk-container-id-10 label.sk-toggleable__label-arrow:hover:before {color: black;}#sk-container-id-10 div.sk-estimator:hover label.sk-toggleable__label-arrow:before {color: black;}#sk-container-id-10 div.sk-toggleable__content {max-height: 0;max-width: 0;overflow: hidden;text-align: left;background-color: #f0f8ff;}#sk-container-id-10 div.sk-toggleable__content pre {margin: 0.2em;color: black;border-radius: 0.25em;background-color: #f0f8ff;}#sk-container-id-10 input.sk-toggleable__control:checked~div.sk-toggleable__content {max-height: 200px;max-width: 100%;overflow: auto;}#sk-container-id-10 input.sk-toggleable__control:checked~label.sk-toggleable__label-arrow:before {content: \"▾\";}#sk-container-id-10 div.sk-estimator input.sk-toggleable__control:checked~label.sk-toggleable__label {background-color: #d4ebff;}#sk-container-id-10 div.sk-label input.sk-toggleable__control:checked~label.sk-toggleable__label {background-color: #d4ebff;}#sk-container-id-10 input.sk-hidden--visually {border: 0;clip: rect(1px 1px 1px 1px);clip: rect(1px, 1px, 1px, 1px);height: 1px;margin: -1px;overflow: hidden;padding: 0;position: absolute;width: 1px;}#sk-container-id-10 div.sk-estimator {font-family: monospace;background-color: #f0f8ff;border: 1px dotted black;border-radius: 0.25em;box-sizing: border-box;margin-bottom: 0.5em;}#sk-container-id-10 div.sk-estimator:hover {background-color: #d4ebff;}#sk-container-id-10 div.sk-parallel-item::after {content: \"\";width: 100%;border-bottom: 1px solid gray;flex-grow: 1;}#sk-container-id-10 div.sk-label:hover label.sk-toggleable__label {background-color: #d4ebff;}#sk-container-id-10 div.sk-serial::before {content: \"\";position: absolute;border-left: 1px solid gray;box-sizing: border-box;top: 0;bottom: 0;left: 50%;z-index: 0;}#sk-container-id-10 div.sk-serial {display: flex;flex-direction: column;align-items: center;background-color: white;padding-right: 0.2em;padding-left: 0.2em;position: relative;}#sk-container-id-10 div.sk-item {position: relative;z-index: 1;}#sk-container-id-10 div.sk-parallel {display: flex;align-items: stretch;justify-content: center;background-color: white;position: relative;}#sk-container-id-10 div.sk-item::before, #sk-container-id-10 div.sk-parallel-item::before {content: \"\";position: absolute;border-left: 1px solid gray;box-sizing: border-box;top: 0;bottom: 0;left: 50%;z-index: -1;}#sk-container-id-10 div.sk-parallel-item {display: flex;flex-direction: column;z-index: 1;position: relative;background-color: white;}#sk-container-id-10 div.sk-parallel-item:first-child::after {align-self: flex-end;width: 50%;}#sk-container-id-10 div.sk-parallel-item:last-child::after {align-self: flex-start;width: 50%;}#sk-container-id-10 div.sk-parallel-item:only-child::after {width: 0;}#sk-container-id-10 div.sk-dashed-wrapped {border: 1px dashed gray;margin: 0 0.4em 0.5em 0.4em;box-sizing: border-box;padding-bottom: 0.4em;background-color: white;}#sk-container-id-10 div.sk-label label {font-family: monospace;font-weight: bold;display: inline-block;line-height: 1.2em;}#sk-container-id-10 div.sk-label-container {text-align: center;}#sk-container-id-10 div.sk-container {/* jupyter's `normalize.less` sets `[hidden] { display: none; }` but bootstrap.min.css set `[hidden] { display: none !important; }` so we also need the `!important` here to be able to override the default hidden behavior on the sphinx rendered scikit-learn.org. See: https://github.com/scikit-learn/scikit-learn/issues/21755 */display: inline-block !important;position: relative;}#sk-container-id-10 div.sk-text-repr-fallback {display: none;}</style><div id=\"sk-container-id-10\" class=\"sk-top-container\"><div class=\"sk-text-repr-fallback\"><pre>Pipeline(steps=[(&#x27;preprocessor&#x27;,\n",
       "                 ColumnTransformer(transformers=[(&#x27;cat&#x27;,\n",
       "                                                  Pipeline(steps=[(&#x27;onehot&#x27;,\n",
       "                                                                   OneHotEncoder(handle_unknown=&#x27;ignore&#x27;))]),\n",
       "                                                  [&#x27;renov&#x27;, &#x27;grade&#x27;, &#x27;bedrooms&#x27;,\n",
       "                                                   &#x27;bathrooms&#x27;, &#x27;view&#x27;]),\n",
       "                                                 (&#x27;num&#x27;,\n",
       "                                                  Pipeline(steps=[(&#x27;scaler&#x27;,\n",
       "                                                                   StandardScaler())]),\n",
       "                                                  [&#x27;log_sqft_living&#x27;, &#x27;lat&#x27;,\n",
       "                                                   &#x27;long&#x27;, &#x27;log_sqft_above&#x27;,\n",
       "                                                   &#x27;yr_built&#x27;,\n",
       "                                                   &#x27;log_sqft_living15&#x27;,\n",
       "                                                   &#x27;log_sqft_lot15&#x27;])])),\n",
       "                (&#x27;regressor&#x27;, ElasticNet(l1_ratio=0.8))])</pre><b>In a Jupyter environment, please rerun this cell to show the HTML representation or trust the notebook. <br />On GitHub, the HTML representation is unable to render, please try loading this page with nbviewer.org.</b></div><div class=\"sk-container\" hidden><div class=\"sk-item sk-dashed-wrapped\"><div class=\"sk-label-container\"><div class=\"sk-label sk-toggleable\"><input class=\"sk-toggleable__control sk-hidden--visually\" id=\"sk-estimator-id-64\" type=\"checkbox\" ><label for=\"sk-estimator-id-64\" class=\"sk-toggleable__label sk-toggleable__label-arrow\">Pipeline</label><div class=\"sk-toggleable__content\"><pre>Pipeline(steps=[(&#x27;preprocessor&#x27;,\n",
       "                 ColumnTransformer(transformers=[(&#x27;cat&#x27;,\n",
       "                                                  Pipeline(steps=[(&#x27;onehot&#x27;,\n",
       "                                                                   OneHotEncoder(handle_unknown=&#x27;ignore&#x27;))]),\n",
       "                                                  [&#x27;renov&#x27;, &#x27;grade&#x27;, &#x27;bedrooms&#x27;,\n",
       "                                                   &#x27;bathrooms&#x27;, &#x27;view&#x27;]),\n",
       "                                                 (&#x27;num&#x27;,\n",
       "                                                  Pipeline(steps=[(&#x27;scaler&#x27;,\n",
       "                                                                   StandardScaler())]),\n",
       "                                                  [&#x27;log_sqft_living&#x27;, &#x27;lat&#x27;,\n",
       "                                                   &#x27;long&#x27;, &#x27;log_sqft_above&#x27;,\n",
       "                                                   &#x27;yr_built&#x27;,\n",
       "                                                   &#x27;log_sqft_living15&#x27;,\n",
       "                                                   &#x27;log_sqft_lot15&#x27;])])),\n",
       "                (&#x27;regressor&#x27;, ElasticNet(l1_ratio=0.8))])</pre></div></div></div><div class=\"sk-serial\"><div class=\"sk-item sk-dashed-wrapped\"><div class=\"sk-label-container\"><div class=\"sk-label sk-toggleable\"><input class=\"sk-toggleable__control sk-hidden--visually\" id=\"sk-estimator-id-65\" type=\"checkbox\" ><label for=\"sk-estimator-id-65\" class=\"sk-toggleable__label sk-toggleable__label-arrow\">preprocessor: ColumnTransformer</label><div class=\"sk-toggleable__content\"><pre>ColumnTransformer(transformers=[(&#x27;cat&#x27;,\n",
       "                                 Pipeline(steps=[(&#x27;onehot&#x27;,\n",
       "                                                  OneHotEncoder(handle_unknown=&#x27;ignore&#x27;))]),\n",
       "                                 [&#x27;renov&#x27;, &#x27;grade&#x27;, &#x27;bedrooms&#x27;, &#x27;bathrooms&#x27;,\n",
       "                                  &#x27;view&#x27;]),\n",
       "                                (&#x27;num&#x27;,\n",
       "                                 Pipeline(steps=[(&#x27;scaler&#x27;, StandardScaler())]),\n",
       "                                 [&#x27;log_sqft_living&#x27;, &#x27;lat&#x27;, &#x27;long&#x27;,\n",
       "                                  &#x27;log_sqft_above&#x27;, &#x27;yr_built&#x27;,\n",
       "                                  &#x27;log_sqft_living15&#x27;, &#x27;log_sqft_lot15&#x27;])])</pre></div></div></div><div class=\"sk-parallel\"><div class=\"sk-parallel-item\"><div class=\"sk-item\"><div class=\"sk-label-container\"><div class=\"sk-label sk-toggleable\"><input class=\"sk-toggleable__control sk-hidden--visually\" id=\"sk-estimator-id-66\" type=\"checkbox\" ><label for=\"sk-estimator-id-66\" class=\"sk-toggleable__label sk-toggleable__label-arrow\">cat</label><div class=\"sk-toggleable__content\"><pre>[&#x27;renov&#x27;, &#x27;grade&#x27;, &#x27;bedrooms&#x27;, &#x27;bathrooms&#x27;, &#x27;view&#x27;]</pre></div></div></div><div class=\"sk-serial\"><div class=\"sk-item\"><div class=\"sk-serial\"><div class=\"sk-item\"><div class=\"sk-estimator sk-toggleable\"><input class=\"sk-toggleable__control sk-hidden--visually\" id=\"sk-estimator-id-67\" type=\"checkbox\" ><label for=\"sk-estimator-id-67\" class=\"sk-toggleable__label sk-toggleable__label-arrow\">OneHotEncoder</label><div class=\"sk-toggleable__content\"><pre>OneHotEncoder(handle_unknown=&#x27;ignore&#x27;)</pre></div></div></div></div></div></div></div></div><div class=\"sk-parallel-item\"><div class=\"sk-item\"><div class=\"sk-label-container\"><div class=\"sk-label sk-toggleable\"><input class=\"sk-toggleable__control sk-hidden--visually\" id=\"sk-estimator-id-68\" type=\"checkbox\" ><label for=\"sk-estimator-id-68\" class=\"sk-toggleable__label sk-toggleable__label-arrow\">num</label><div class=\"sk-toggleable__content\"><pre>[&#x27;log_sqft_living&#x27;, &#x27;lat&#x27;, &#x27;long&#x27;, &#x27;log_sqft_above&#x27;, &#x27;yr_built&#x27;, &#x27;log_sqft_living15&#x27;, &#x27;log_sqft_lot15&#x27;]</pre></div></div></div><div class=\"sk-serial\"><div class=\"sk-item\"><div class=\"sk-serial\"><div class=\"sk-item\"><div class=\"sk-estimator sk-toggleable\"><input class=\"sk-toggleable__control sk-hidden--visually\" id=\"sk-estimator-id-69\" type=\"checkbox\" ><label for=\"sk-estimator-id-69\" class=\"sk-toggleable__label sk-toggleable__label-arrow\">StandardScaler</label><div class=\"sk-toggleable__content\"><pre>StandardScaler()</pre></div></div></div></div></div></div></div></div></div></div><div class=\"sk-item\"><div class=\"sk-estimator sk-toggleable\"><input class=\"sk-toggleable__control sk-hidden--visually\" id=\"sk-estimator-id-70\" type=\"checkbox\" ><label for=\"sk-estimator-id-70\" class=\"sk-toggleable__label sk-toggleable__label-arrow\">ElasticNet</label><div class=\"sk-toggleable__content\"><pre>ElasticNet(l1_ratio=0.8)</pre></div></div></div></div></div></div></div>"
      ],
      "text/plain": [
       "Pipeline(steps=[('preprocessor',\n",
       "                 ColumnTransformer(transformers=[('cat',\n",
       "                                                  Pipeline(steps=[('onehot',\n",
       "                                                                   OneHotEncoder(handle_unknown='ignore'))]),\n",
       "                                                  ['renov', 'grade', 'bedrooms',\n",
       "                                                   'bathrooms', 'view']),\n",
       "                                                 ('num',\n",
       "                                                  Pipeline(steps=[('scaler',\n",
       "                                                                   StandardScaler())]),\n",
       "                                                  ['log_sqft_living', 'lat',\n",
       "                                                   'long', 'log_sqft_above',\n",
       "                                                   'yr_built',\n",
       "                                                   'log_sqft_living15',\n",
       "                                                   'log_sqft_lot15'])])),\n",
       "                ('regressor', ElasticNet(l1_ratio=0.8))])"
      ]
     },
     "execution_count": 134,
     "metadata": {},
     "output_type": "execute_result"
    }
   ],
   "source": [
    "elasticnet_regression.fit(X_train, y_train)"
   ]
  },
  {
   "cell_type": "code",
   "execution_count": 135,
   "metadata": {},
   "outputs": [],
   "source": [
    "elasticnet_pred = elasticnet_regression.predict(X_test)"
   ]
  },
  {
   "cell_type": "code",
   "execution_count": 136,
   "metadata": {},
   "outputs": [
    {
     "data": {
      "text/plain": [
       "0.5180792904786247"
      ]
     },
     "execution_count": 136,
     "metadata": {},
     "output_type": "execute_result"
    }
   ],
   "source": [
    "np.sqrt(mean_squared_error(elasticnet_pred, y_test))"
   ]
  }
 ],
 "metadata": {
  "kernelspec": {
   "display_name": "Python 3",
   "language": "python",
   "name": "python3"
  },
  "language_info": {
   "codemirror_mode": {
    "name": "ipython",
    "version": 3
   },
   "file_extension": ".py",
   "mimetype": "text/x-python",
   "name": "python",
   "nbconvert_exporter": "python",
   "pygments_lexer": "ipython3",
   "version": "3.11.3"
  },
  "orig_nbformat": 4
 },
 "nbformat": 4,
 "nbformat_minor": 2
}
