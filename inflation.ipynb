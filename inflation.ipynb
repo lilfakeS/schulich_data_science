{
 "cells": [
  {
   "cell_type": "code",
   "execution_count": 3,
   "metadata": {},
   "outputs": [
    {
     "data": {
      "text/plain": [
       "'/Users/justinsheng/Downloads/latest_inflation_data_canada_transformed.xlsx'"
      ]
     },
     "execution_count": 3,
     "metadata": {},
     "output_type": "execute_result"
    }
   ],
   "source": [
    "import pandas as pd\n",
    "import pytesseract\n",
    "from PIL import Image\n",
    "\n",
    "# Load the image from file\n",
    "img = Image.open(\"/Users/justinsheng/Library/Containers/com.tencent.xinWeChat/Data/Library/Application Support/com.tencent.xinWeChat/2.0b4.0.9/c84deda6a4ed60a9e3fa253bd79172f3/Message/MessageTemp/9e20f478899dc29eb19741386f9343c8/Image/2911700618581_.pic.jpg\")\n",
    "\n",
    "# Use tesseract to do OCR on the image\n",
    "text = pytesseract.image_to_string(img)\n",
    "\n",
    "# OCR gives us the entire text, so we will have to parse this text into a table.\n",
    "# First, we split the text into lines\n",
    "lines = text.split('\\n')\n",
    "\n",
    "# Helper function to parse a line into cells\n",
    "def parse_line(line):\n",
    "    # Remove unwanted characters and split by space to get each cell content\n",
    "    return line.replace('%', '').strip().split()\n",
    "\n",
    "# Parse the lines into a 2D list of data cells\n",
    "data = [parse_line(line) for line in lines if line.strip()]\n",
    "\n",
    "# The first line contains the headers, so separate it from the rest\n",
    "headers = data[0]\n",
    "# We also know the first header is 'Year', so we should remove it from the headers list\n",
    "# and account for it when processing the data\n",
    "headers = headers[1:]\n",
    "\n",
    "# Now we process the rest of the lines to create the dataframe\n",
    "# We initialize an empty list to hold all the rows for our dataframe\n",
    "rows = []\n",
    "\n",
    "# Each line represents a year and the subsequent inflation rates for each month\n",
    "for line in data[1:]:\n",
    "    year = line[0]\n",
    "    # The rest of the line contains the inflation rates for each month\n",
    "    for month, inflation in zip(headers, line[1:]):\n",
    "        # We append a new row to our rows list\n",
    "        rows.append([year, month, inflation])\n",
    "\n",
    "# Convert the list of rows into a dataframe\n",
    "df = pd.DataFrame(rows, columns=['Year', 'Month', 'Inflation'])\n",
    "\n",
    "# We need to cast the Inflation column to float\n",
    "df['Inflation'] = df['Inflation'].astype(float)\n",
    "\n",
    "# Pivot the table to get the desired format\n",
    "df_pivot = df.pivot(index=['Year', 'Month'], columns=[], values='Inflation').reset_index()\n",
    "\n",
    "# Save to an Excel file\n",
    "output_filepath = '/Users/justinsheng/Downloads/latest_inflation_data_canada_transformed.xlsx'\n",
    "df_pivot.to_excel(output_filepath, index=False)\n",
    "\n",
    "output_filepath\n"
   ]
  }
 ],
 "metadata": {
  "kernelspec": {
   "display_name": "Python 3",
   "language": "python",
   "name": "python3"
  },
  "language_info": {
   "codemirror_mode": {
    "name": "ipython",
    "version": 3
   },
   "file_extension": ".py",
   "mimetype": "text/x-python",
   "name": "python",
   "nbconvert_exporter": "python",
   "pygments_lexer": "ipython3",
   "version": "3.11.3"
  }
 },
 "nbformat": 4,
 "nbformat_minor": 2
}
